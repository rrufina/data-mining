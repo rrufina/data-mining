{
 "cells": [
  {
   "cell_type": "code",
   "execution_count": 1,
   "metadata": {},
   "outputs": [],
   "source": [
    "import csv"
   ]
  },
  {
   "cell_type": "code",
   "execution_count": 2,
   "metadata": {
    "pycharm": {
     "name": "#%%\n"
    }
   },
   "outputs": [],
   "source": [
    "# Logs\n",
    "\n",
    "order_log = []\n",
    "trade_log = []\n",
    "\n",
    "class Action:\n",
    "    REVOKE = 0\n",
    "    POST = 1\n",
    "    MATCH = 2\n",
    "\n",
    "CODES = ['USD000000TOD', 'USD000UTSTOM', 'EUR_RUB__TOD', 'EUR_RUB__TOM', 'EURUSD000TOD', 'EURUSD000TOM']\n",
    "\n",
    "instruments_info = {'USD000000TOD': {'SCHEDULE': 174500000000, 'PRICE_STEP': 0.0025, 'INDEX':0},\n",
    "                    'USD000UTSTOM': {'SCHEDULE': 235000000000, 'PRICE_STEP': 0.0025, 'INDEX':1},\n",
    "                    'EUR_RUB__TOD': {'SCHEDULE': 150000000000, 'PRICE_STEP': 0.0025, 'INDEX':2},\n",
    "                    'EUR_RUB__TOM': {'SCHEDULE': 235000000000, 'PRICE_STEP': 0.0025, 'INDEX':3},\n",
    "                    'EURUSD000TOM': {'SCHEDULE': 235000000000, 'PRICE_STEP': 0.00001, 'INDEX':4},\n",
    "                    'EURUSD000TOD': {'SCHEDULE': 150000000000, 'PRICE_STEP': 0.00001, 'INDEX':5}}"
   ]
  },
  {
   "cell_type": "code",
   "execution_count": 4,
   "metadata": {
    "pycharm": {
     "name": "#%%"
    }
   },
   "outputs": [],
   "source": [
    "# Reading\n",
    "# there will be change for filename for actual trade log file\n",
    "\n",
    "filename = '/Users/levsvalov/code_workspace/Spring2020/DM/OrderLog20180507.txt'\n",
    "\n",
    "# Order log\n",
    "reader = csv.DictReader(open(filename))\n",
    "for row in reader:\n",
    "    order_log.append(row)\n",
    "\n",
    "# Trade log\n",
    "reader = csv.DictReader(open(filename))\n",
    "for row in reader:\n",
    "    trade_log.append(row)"
   ]
  },
  {
   "cell_type": "code",
   "execution_count": 5,
   "metadata": {},
   "outputs": [],
   "source": [
    "import numpy as np\n",
    "\n",
    "def reformat(log):\n",
    "    \"\"\"\n",
    "    Change the column types (in place)\n",
    "    \"\"\"\n",
    "    types_dict = {\n",
    "        'NO'        : int,\n",
    "        'SECCODE'   : str,\n",
    "        'BUYSELL'   : str,\n",
    "        'TIME'      : int,\n",
    "        'ORDERNO'   : int,\n",
    "        'ACTION'    : int,\n",
    "        'PRICE'     : float,\n",
    "        'VOLUME'    : int,\n",
    "        'TRADENO'   : lambda x: float(x) if x != '' else np.nan,\n",
    "        'TRADEPRICE': lambda x: float(x) if x != '' else np.nan\n",
    "    }\n",
    "    \n",
    "    for row in log:\n",
    "        for col in row:\n",
    "            row[col] = types_dict[col](row[col])\n",
    "            \n",
    "    return log\n",
    "\n",
    "\n",
    "# Reformat order log\n",
    "reformat(order_log);"
   ]
  },
  {
   "cell_type": "code",
   "execution_count": 6,
   "metadata": {
    "pycharm": {
     "name": "#%%\n"
    }
   },
   "outputs": [
    {
     "data": {
      "text/plain": [
       "[OrderedDict([('NO', 1),\n",
       "              ('SECCODE', 'USD000000TOD'),\n",
       "              ('BUYSELL', 'B'),\n",
       "              ('TIME', 100000161028),\n",
       "              ('ORDERNO', 116),\n",
       "              ('ACTION', 1),\n",
       "              ('PRICE', 61.5875),\n",
       "              ('VOLUME', 101000),\n",
       "              ('TRADENO', nan),\n",
       "              ('TRADEPRICE', nan)]),\n",
       " OrderedDict([('NO', 2),\n",
       "              ('SECCODE', 'USD000000TOD'),\n",
       "              ('BUYSELL', 'S'),\n",
       "              ('TIME', 100000174997),\n",
       "              ('ORDERNO', 130),\n",
       "              ('ACTION', 1),\n",
       "              ('PRICE', 64.3975),\n",
       "              ('VOLUME', 202000),\n",
       "              ('TRADENO', nan),\n",
       "              ('TRADEPRICE', nan)]),\n",
       " OrderedDict([('NO', 3),\n",
       "              ('SECCODE', 'USD000000TOD'),\n",
       "              ('BUYSELL', 'B'),\n",
       "              ('TIME', 100000179686),\n",
       "              ('ORDERNO', 135),\n",
       "              ('ACTION', 1),\n",
       "              ('PRICE', 62.445),\n",
       "              ('VOLUME', 203000),\n",
       "              ('TRADENO', nan),\n",
       "              ('TRADEPRICE', nan)])]"
      ]
     },
     "execution_count": 6,
     "metadata": {},
     "output_type": "execute_result"
    }
   ],
   "source": [
    "order_log[:3]"
   ]
  },
  {
   "cell_type": "code",
   "execution_count": 7,
   "metadata": {},
   "outputs": [
    {
     "data": {
      "text/plain": [
       "OrderedDict([('NO', 1),\n",
       "             ('SECCODE', 'USD000000TOD'),\n",
       "             ('BUYSELL', 'B'),\n",
       "             ('TIME', 100000161028),\n",
       "             ('ORDERNO', 116),\n",
       "             ('ACTION', 1),\n",
       "             ('PRICE', 61.5875),\n",
       "             ('VOLUME', 101000),\n",
       "             ('TRADENO', nan),\n",
       "             ('TRADEPRICE', nan)])"
      ]
     },
     "execution_count": 7,
     "metadata": {},
     "output_type": "execute_result"
    }
   ],
   "source": [
    "def filter(df, predicate):\n",
    "    \"\"\"\n",
    "    Filter out rows that satisfy a predicate\n",
    "    \"\"\"\n",
    "    return [ row for row in df if predicate(row) ]\n",
    "\n",
    "\n",
    "filter(order_log, lambda x: x['SECCODE'] == 'USD000000TOD')[0]"
   ]
  },
  {
   "cell_type": "code",
   "execution_count": 8,
   "metadata": {
    "pycharm": {
     "name": "#%%\n"
    }
   },
   "outputs": [],
   "source": [
    "# Filtering orders\n",
    "df_order = filter(order_log, lambda row:\n",
    "                      row['SECCODE'] in CODES and\n",
    "                      row['TIME'] < 2350 * 1E8)[:1000]\n",
    "\n",
    "df_trade = filter(trade_log, lambda row:\n",
    "                     row['SECCODE'] in CODES);"
   ]
  },
  {
   "cell_type": "code",
   "execution_count": 16,
   "metadata": {
    "pycharm": {
     "name": "#%%\n"
    }
   },
   "outputs": [
    {
     "name": "stdout",
     "output_type": "stream",
     "text": [
      "OrderedDict([('NO', 1), ('SECCODE', 'USD000000TOD'), ('BUYSELL', 'B'), ('TIME', 100000161028), ('ORDERNO', 116), ('ACTION', 1), ('PRICE', 61.5875), ('VOLUME', 101000), ('TRADENO', nan), ('TRADEPRICE', nan)])\n",
      "OrderedDict([('NO', 1), ('SECCODE', 'USD000000TOD'), ('BUYSELL', 'B'), ('TIME', 100000161028), ('ORDERNO', 116), ('ACTION', 0), ('PRICE', 61.5875), ('VOLUME', 101000), ('TRADENO', nan), ('TRADEPRICE', nan)])\n"
     ]
    }
   ],
   "source": [
    "prep_dic = {Action.POST: 0, Action.MATCH: 1, Action.REVOKE: 2}\n",
    "unprep_dic = { v: k for k, v in prep_dic.items() } # Inverse `prep_dic`\n",
    "\n",
    "\n",
    "def apply(df, f):\n",
    "    \"\"\"\n",
    "    Apply function to df\n",
    "    \"\"\"\n",
    "    [ f(row) for row in df ]\n",
    "\n",
    "\n",
    "def sort(df, cols):\n",
    "    \"\"\"\n",
    "    Sort df by columns\n",
    "    \"\"\"\n",
    "    pass\n",
    "\n",
    "\n",
    "def harvard(row):\n",
    "    for col in row:\n",
    "        if col == 'ACTION':\n",
    "            row[col] = prep_dic[row[col]]\n",
    "            \n",
    "    return row\n",
    "\n",
    "\n",
    "def harvard_inverse(row):\n",
    "    for col in row:\n",
    "        if col == 'ACTION':\n",
    "            row[col] = unprep_dic[row[col]]\n",
    "            \n",
    "    return row\n",
    "\n",
    "\n",
    "apply(df_order, harvard)\n",
    "sort(df_order, ['TIME', 'ACTION'])\n",
    "apply(df_order, harvard_inverse);"
   ]
  },
  {
   "cell_type": "code",
   "execution_count": 26,
   "metadata": {
    "pycharm": {
     "name": "#%%\n"
    }
   },
   "outputs": [],
   "source": [
    "'''\n",
    "# Helper functions\n",
    "def drop_by_entry(df_cur, entry, inplace=True):\n",
    "    df_cur.drop(df_cur[df_cur['ORDERNO'] == entry['ORDERNO']].index, inplace=inplace)\n",
    "\n",
    "def reduce_by_entry(df_cur, entry, FROM, TO):\n",
    "    df_cur.loc[df_cur[df_cur['ORDERNO'] == entry['ORDERNO']].index, ['VOLUME']] = FROM['VOLUME'] - TO['VOLUME']\n",
    "'''\n",
    "# I really doubt if we need to return df_cur back, correct me if we should (first dima's implementation didnt have returns)\n",
    "def drop_by_entry(df_cur, entry):\n",
    "    for row in df_cur:\n",
    "        if row['ORDERNO'] == entry['ORDERNO']: df_cur.remove(row)\n",
    "    # return df_cur\n",
    "def reduce_by_entry(df_cur, entry, FROM, TO):\n",
    "    for row in df_cur:\n",
    "        if row['ORDERNO'] == entry['ORDERNO']:\n",
    "            row['VOLUME'] = FROM['VOLUME'] - TO['VOLUME']\n",
    "    # return df_cur"
   ]
  },
  {
   "cell_type": "code",
   "execution_count": null,
   "metadata": {
    "pycharm": {
     "name": "#%%\n"
    }
   },
   "outputs": [],
   "source": [
    "total_mistakes = 0\n",
    "\n",
    "def print_error(error):\n",
    "    global total_mistakes\n",
    "    print('-' * 40)\n",
    "    print(f'in row: {row[\"NO\"]}')\n",
    "    print(error)\n",
    "    print('-' * 40)\n",
    "    print()\n",
    "    total_mistakes += 1\n",
    "\n",
    "'''\n",
    "def check_exists(df_cur, row, NO='ORDERNO'):\n",
    "    # check if the given ORDERNO exists\n",
    "    # sub_df = df_cur[df_cur[NO] == row[NO]]\n",
    "    df_cur_searchable = df_cur.set_index(NO)\n",
    "    sub_df = df_cur[df_cur_searchable==row[NO]]\n",
    "    if len(sub_df) > 0:\n",
    "        return True, sub_df\n",
    "    # printing the error\n",
    "    else:\n",
    "        print_error(f\"ERROR: Record with {NO} {row[NO]} doesn't exist\")\n",
    "        return False, None\n",
    "'''\n",
    "def find_sub_df(df_cur, row, NO):\n",
    "    sub_df = []\n",
    "    for entry in df_cur:\n",
    "        if entry[NO] == row[NO]: sub_df.append(entry)\n",
    "    return sub_df\n",
    "def check_exists(df_cur, row, NO='ORDERNO'):\n",
    "    sub_df = find_sub_df(df_cur,row, NO)\n",
    "    if len(sub_df) > 0:\n",
    "        return True, sub_df\n",
    "    # printing the error\n",
    "    else:\n",
    "        print_error(f\"ERROR: Record with {NO} {row[NO]} doesn't exist\")\n",
    "        return False, None"
   ]
  },
  {
   "cell_type": "code",
   "execution_count": null,
   "metadata": {
    "pycharm": {
     "name": "#%%\n"
    }
   },
   "outputs": [],
   "source": [
    "def handle_revoke(df_cur, row):\n",
    "    # check if the given ORDERNO exists\n",
    "    check, sub_df = check_exists(df_cur, row)\n",
    "    if check:\n",
    "        series = sub_df[0]\n",
    "        # check if revoking volume is not greater than the current one\n",
    "        if int(series['VOLUME']) >= int(row['VOLUME']):\n",
    "            if int(series['VOLUME']) == int(row['VOLUME']):\n",
    "                # removing the record\n",
    "                drop_by_entry(df_cur, row)\n",
    "            else:\n",
    "                # reducing the amount\n",
    "                reduce_by_entry(df_cur, row, series, row)\n",
    "        # printing the error\n",
    "        else:\n",
    "            # Delete negative number\n",
    "            drop_by_entry(df_cur, row)\n",
    "            print_error(\"ERROR: Cannot revoke more that there is\")"
   ]
  },
  {
   "cell_type": "code",
   "execution_count": null,
   "metadata": {
    "pycharm": {
     "name": "#%%\n"
    }
   },
   "outputs": [],
   "source": [
    "def find(df_cur, value):\n",
    "    res = []\n",
    "    for row in df_cur:\n",
    "        if row['ORDERNO'] == value: res.append(row)\n",
    "    return res"
   ]
  },
  {
   "cell_type": "code",
   "execution_count": null,
   "metadata": {
    "pycharm": {
     "name": "#%%\n"
    }
   },
   "outputs": [],
   "source": [
    "def handle_match(df_cur, row):\n",
    "    global df_trade\n",
    "    # check if the given ORDERNO exists\n",
    "    check, sub_df = check_exists(df_cur, row)\n",
    "    if check:\n",
    "        # check if the given tradeno exists in trade logs\n",
    "        check, sub_trade = check_exists(df_trade, row, 'TRADENO')\n",
    "        if check:\n",
    "            series_trade = sub_trade[0]\n",
    "\n",
    "            seller = find(df_cur, series_trade['SELLORDERNO'])\n",
    "            buyer = find(df_cur, series_trade['BUYORDERNO'])\n",
    "\n",
    "            # check if seller and buyer exist\n",
    "            if len(seller) > 0 and len(buyer) > 0:\n",
    "                seller = seller[0]\n",
    "                buyer = buyer[0]\n",
    "\n",
    "                # check if the volume is ok\n",
    "                if int(seller['VOLUME']) >= int(row['VOLUME']) and int(buyer['VOLUME']) >= int(row['VOLUME']):\n",
    "                    if int(seller['VOLUME']) == int(row['VOLUME']):\n",
    "                        # removing the record\n",
    "                        drop_by_entry(df_cur, seller)\n",
    "                    else:\n",
    "                        # reducing the amount\n",
    "                        reduce_by_entry(df_cur, seller, seller, row)\n",
    "\n",
    "                    if buyer['VOLUME'] == row['VOLUME']:\n",
    "                        # removing the record\n",
    "                        drop_by_entry(df_cur, buyer)\n",
    "                    else:\n",
    "                        # reducing the amount\n",
    "                        reduce_by_entry(df_cur, buyer, buyer, row)\n",
    "\n",
    "                # printing the error\n",
    "                else:\n",
    "                    # Delete negative numbers\n",
    "                    if int(seller['VOLUME']) < int(row['VOLUME']):\n",
    "                       drop_by_entry(df_cur, seller)\n",
    "                    else:\n",
    "                        reduce_by_entry(df_cur, seller, seller, row)\n",
    "\n",
    "                    # Delete negative numbers\n",
    "                    if int(buyer['VOLUME']) < int(row['VOLUME']):\n",
    "                        drop_by_entry(df_cur, buyer)\n",
    "                    else:\n",
    "                        reduce_by_entry(df_cur, buyer, buyer, row)\n",
    "\n",
    "                    print_error(\"ERROR: Not enough amount for buying and/or selling\")\n",
    "\n",
    "            # printing the error\n",
    "            else:\n",
    "                print_error(f\"ERROR: There's no such buyer and/or seller\")\n",
    "\n",
    "\n"
   ]
  }
 ],
 "metadata": {
  "kernelspec": {
   "display_name": "Python 3",
   "language": "python",
   "name": "python3"
  },
  "language_info": {
   "codemirror_mode": {
    "name": "ipython",
    "version": 3
   },
   "file_extension": ".py",
   "mimetype": "text/x-python",
   "name": "python",
   "nbconvert_exporter": "python",
   "pygments_lexer": "ipython3",
   "version": "3.7.3"
  }
 },
 "nbformat": 4,
 "nbformat_minor": 1
}
