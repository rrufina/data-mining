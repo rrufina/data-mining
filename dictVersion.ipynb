{
 "cells": [
  {
   "cell_type": "code",
   "execution_count": 1,
   "metadata": {},
   "outputs": [],
   "source": [
    "import csv\n",
    "import gzip\n",
    "import math\n",
    "import numpy as np\n",
    "import pandas as pd\n",
    "import time"
   ]
  },
  {
   "cell_type": "code",
   "execution_count": 2,
   "metadata": {
    "pycharm": {
     "name": "#%%\n"
    }
   },
   "outputs": [],
   "source": [
    "# Logs\n",
    "\n",
    "order_log = []\n",
    "trade_log = []\n",
    "\n",
    "class Action:\n",
    "    REVOKE = 0\n",
    "    POST = 1\n",
    "    MATCH = 2\n",
    "\n",
    "CODES = ['USD000000TOD', 'USD000UTSTOM', 'EUR_RUB__TOD', 'EUR_RUB__TOM', 'EURUSD000TOD', 'EURUSD000TOM']\n",
    "\n",
    "instruments_info = {'USD000000TOD': {'SCHEDULE': 174500000000, 'PRICE_STEP': 0.0025, 'INDEX':0},\n",
    "                    'USD000UTSTOM': {'SCHEDULE': 235000000000, 'PRICE_STEP': 0.0025, 'INDEX':1},\n",
    "                    'EUR_RUB__TOD': {'SCHEDULE': 150000000000, 'PRICE_STEP': 0.0025, 'INDEX':2},\n",
    "                    'EUR_RUB__TOM': {'SCHEDULE': 235000000000, 'PRICE_STEP': 0.0025, 'INDEX':3},\n",
    "                    'EURUSD000TOM': {'SCHEDULE': 235000000000, 'PRICE_STEP': 0.00001, 'INDEX':4},\n",
    "                    'EURUSD000TOD': {'SCHEDULE': 150000000000, 'PRICE_STEP': 0.00001, 'INDEX':5}}"
   ]
  },
  {
   "cell_type": "code",
   "execution_count": 3,
   "metadata": {
    "pycharm": {
     "name": "#%%"
    }
   },
   "outputs": [],
   "source": [
    "# Reading\n",
    "\n",
    "orderlog_filename = r'D:\\Innopolis University\\2021 Spring Semester\\Data Mining\\data-mining\\OrderLog20180301.txt'\n",
    "tradelog_filename = r'D:\\Innopolis University\\2021 Spring Semester\\Data Mining\\data-mining\\TradeLog20180301.txt'\n",
    "\n",
    "\n",
    "# WORKING_DIR = r\"D:\\DataMining\\MOEX-FX\\MOEX-FX\\2018-03\\\\\"\n",
    "# # OrderLog = \"OrderLog20180301\"\n",
    "# with gzip.open(WORKING_DIR+'OrderLog20180302.txt.gz', 'rb') as f:\n",
    "#     reader = csv.DictReader(f)\n",
    "#     for row in reader:\n",
    "#         order_log.append(row)\n",
    "\n",
    "# with gzip.open(WORKING_DIR+'TradeLog20180302.txt.gz', 'rb') as f:\n",
    "#     reader = csv.DictReader(f)\n",
    "#     for row in reader:\n",
    "#         trade_log.append(row)\n",
    "\n",
    "\n",
    "# Order log\n",
    "reader = csv.DictReader(open(orderlog_filename))\n",
    "for row in reader:\n",
    "    order_log.append(row)\n",
    "\n",
    "# Trade log\n",
    "reader = csv.DictReader(open(tradelog_filename))\n",
    "for row in reader:\n",
    "    trade_log.append(row)"
   ]
  },
  {
   "cell_type": "code",
   "execution_count": 4,
   "metadata": {},
   "outputs": [
    {
     "data": {
      "text/plain": [
       "[OrderedDict([('NO', '1'),\n",
       "              ('SECCODE', 'EUR_RUB__TOD'),\n",
       "              ('BUYSELL', 'B'),\n",
       "              ('TIME', '100000050299'),\n",
       "              ('ORDERNO', '1'),\n",
       "              ('ACTION', '1'),\n",
       "              ('PRICE', '68.61'),\n",
       "              ('VOLUME', '1000000'),\n",
       "              ('TRADENO', ''),\n",
       "              ('TRADEPRICE', '')]),\n",
       " OrderedDict([('NO', '2'),\n",
       "              ('SECCODE', 'USD000000TOD'),\n",
       "              ('BUYSELL', 'S'),\n",
       "              ('TIME', '100000050316'),\n",
       "              ('ORDERNO', '2'),\n",
       "              ('ACTION', '1'),\n",
       "              ('PRICE', '56.6'),\n",
       "              ('VOLUME', '1000000'),\n",
       "              ('TRADENO', ''),\n",
       "              ('TRADEPRICE', '')]),\n",
       " OrderedDict([('NO', '3'),\n",
       "              ('SECCODE', 'EUR_RUB__TOD'),\n",
       "              ('BUYSELL', 'S'),\n",
       "              ('TIME', '100000050325'),\n",
       "              ('ORDERNO', '3'),\n",
       "              ('ACTION', '1'),\n",
       "              ('PRICE', '69.065'),\n",
       "              ('VOLUME', '1000000'),\n",
       "              ('TRADENO', ''),\n",
       "              ('TRADEPRICE', '')])]"
      ]
     },
     "execution_count": 4,
     "metadata": {},
     "output_type": "execute_result"
    }
   ],
   "source": [
    "order_log[:3]"
   ]
  },
  {
   "cell_type": "code",
   "execution_count": 5,
   "metadata": {},
   "outputs": [
    {
     "data": {
      "text/plain": [
       "[OrderedDict([('TRADENO', '163897149'),\n",
       "              ('SECCODE', 'USD000000TOD'),\n",
       "              ('TIME', '100000'),\n",
       "              ('BUYORDERNO', '88'),\n",
       "              ('SELLORDERNO', '90'),\n",
       "              ('PRICE', '56.38'),\n",
       "              ('VOLUME', '70000')]),\n",
       " OrderedDict([('TRADENO', '163897150'),\n",
       "              ('SECCODE', 'USD000UTSTOM'),\n",
       "              ('TIME', '100001'),\n",
       "              ('BUYORDERNO', '296'),\n",
       "              ('SELLORDERNO', '628'),\n",
       "              ('PRICE', '56.4'),\n",
       "              ('VOLUME', '1000')]),\n",
       " OrderedDict([('TRADENO', '163897151'),\n",
       "              ('SECCODE', 'USD000UTSTOM'),\n",
       "              ('TIME', '100001'),\n",
       "              ('BUYORDERNO', '296'),\n",
       "              ('SELLORDERNO', '663'),\n",
       "              ('PRICE', '56.4'),\n",
       "              ('VOLUME', '1000')])]"
      ]
     },
     "execution_count": 5,
     "metadata": {},
     "output_type": "execute_result"
    }
   ],
   "source": [
    "trade_log[:3]"
   ]
  },
  {
   "cell_type": "code",
   "execution_count": 6,
   "metadata": {},
   "outputs": [
    {
     "name": "stdout",
     "output_type": "stream",
     "text": [
      "28.140355110168457\n"
     ]
    }
   ],
   "source": [
    "def reformat_orderlog(log):\n",
    "    \"\"\"\n",
    "    Change the column types (in place)\n",
    "    \"\"\"\n",
    "    types_dict = {\n",
    "        'NO'        : int,\n",
    "        'SECCODE'   : lambda x: x,\n",
    "        'BUYSELL'   : lambda x: x,\n",
    "        'TIME'      : int,\n",
    "        'ORDERNO'   : int,\n",
    "        'ACTION'    : int,\n",
    "        'PRICE'     : float,\n",
    "        'VOLUME'    : int,\n",
    "        'TRADENO'   : lambda x: float(x) if x != '' else np.nan,\n",
    "        'TRADEPRICE': lambda x: float(x) if x != '' else np.nan\n",
    "    }\n",
    "    \n",
    "    for row in log:\n",
    "        for col in row:\n",
    "            row[col] = types_dict[col](row[col])\n",
    "\n",
    "\n",
    "def reformat_tradelog(log):\n",
    "    \"\"\"\n",
    "    Change the column types (in place)\n",
    "    \"\"\"\n",
    "    types_dict = {\n",
    "        'TRADENO'    : int,\n",
    "        'SECCODE'    : lambda x: x,\n",
    "        'TIME'       : int,\n",
    "        'BUYORDERNO' : int,\n",
    "        'SELLORDERNO': int,\n",
    "        'PRICE'      : float,\n",
    "        'VOLUME'     : int\n",
    "    }\n",
    "    \n",
    "    for row in log:\n",
    "        for col in row:\n",
    "            row[col] = types_dict[col](row[col])\n",
    "\n",
    "\n",
    "# Reformat order log\n",
    "start = time.time()\n",
    "\n",
    "reformat_orderlog(order_log)\n",
    "reformat_tradelog(trade_log)\n",
    "\n",
    "end = time.time()\n",
    "print(end - start)"
   ]
  },
  {
   "cell_type": "code",
   "execution_count": 7,
   "metadata": {
    "pycharm": {
     "name": "#%%\n"
    }
   },
   "outputs": [
    {
     "data": {
      "text/plain": [
       "[OrderedDict([('NO', 1),\n",
       "              ('SECCODE', 'EUR_RUB__TOD'),\n",
       "              ('BUYSELL', 'B'),\n",
       "              ('TIME', 100000050299),\n",
       "              ('ORDERNO', 1),\n",
       "              ('ACTION', 1),\n",
       "              ('PRICE', 68.61),\n",
       "              ('VOLUME', 1000000),\n",
       "              ('TRADENO', nan),\n",
       "              ('TRADEPRICE', nan)]),\n",
       " OrderedDict([('NO', 2),\n",
       "              ('SECCODE', 'USD000000TOD'),\n",
       "              ('BUYSELL', 'S'),\n",
       "              ('TIME', 100000050316),\n",
       "              ('ORDERNO', 2),\n",
       "              ('ACTION', 1),\n",
       "              ('PRICE', 56.6),\n",
       "              ('VOLUME', 1000000),\n",
       "              ('TRADENO', nan),\n",
       "              ('TRADEPRICE', nan)]),\n",
       " OrderedDict([('NO', 3),\n",
       "              ('SECCODE', 'EUR_RUB__TOD'),\n",
       "              ('BUYSELL', 'S'),\n",
       "              ('TIME', 100000050325),\n",
       "              ('ORDERNO', 3),\n",
       "              ('ACTION', 1),\n",
       "              ('PRICE', 69.065),\n",
       "              ('VOLUME', 1000000),\n",
       "              ('TRADENO', nan),\n",
       "              ('TRADEPRICE', nan)])]"
      ]
     },
     "execution_count": 7,
     "metadata": {},
     "output_type": "execute_result"
    }
   ],
   "source": [
    "order_log[:3]"
   ]
  },
  {
   "cell_type": "code",
   "execution_count": 8,
   "metadata": {},
   "outputs": [
    {
     "data": {
      "text/plain": [
       "[OrderedDict([('TRADENO', 163897149),\n",
       "              ('SECCODE', 'USD000000TOD'),\n",
       "              ('TIME', 100000),\n",
       "              ('BUYORDERNO', 88),\n",
       "              ('SELLORDERNO', 90),\n",
       "              ('PRICE', 56.38),\n",
       "              ('VOLUME', 70000)]),\n",
       " OrderedDict([('TRADENO', 163897150),\n",
       "              ('SECCODE', 'USD000UTSTOM'),\n",
       "              ('TIME', 100001),\n",
       "              ('BUYORDERNO', 296),\n",
       "              ('SELLORDERNO', 628),\n",
       "              ('PRICE', 56.4),\n",
       "              ('VOLUME', 1000)]),\n",
       " OrderedDict([('TRADENO', 163897151),\n",
       "              ('SECCODE', 'USD000UTSTOM'),\n",
       "              ('TIME', 100001),\n",
       "              ('BUYORDERNO', 296),\n",
       "              ('SELLORDERNO', 663),\n",
       "              ('PRICE', 56.4),\n",
       "              ('VOLUME', 1000)])]"
      ]
     },
     "execution_count": 8,
     "metadata": {},
     "output_type": "execute_result"
    }
   ],
   "source": [
    "trade_log[:3]"
   ]
  },
  {
   "cell_type": "code",
   "execution_count": 9,
   "metadata": {},
   "outputs": [],
   "source": [
    "def filter(df, predicate):\n",
    "    \"\"\"\n",
    "    Filter out rows that satisfy a predicate\n",
    "    \"\"\"\n",
    "    if not df:\n",
    "        return []\n",
    "    \n",
    "    return [ row for row in df if predicate(row) ]"
   ]
  },
  {
   "cell_type": "code",
   "execution_count": 10,
   "metadata": {
    "pycharm": {
     "name": "#%%\n"
    }
   },
   "outputs": [],
   "source": [
    "# Filtering orders\n",
    "df_order = filter(order_log, lambda row:\n",
    "                      row['SECCODE'] in CODES and\n",
    "                      row['TIME'] < 2350 * 1E8)\n",
    "\n",
    "df_trade = filter(trade_log, lambda row:\n",
    "                      row['SECCODE'] in CODES);"
   ]
  },
  {
   "cell_type": "code",
   "execution_count": 11,
   "metadata": {
    "pycharm": {
     "name": "#%%\n"
    }
   },
   "outputs": [],
   "source": [
    "# Sort actions by the following order: post, match, revoke\n",
    "prep_dic = {Action.POST: 0, Action.MATCH: 1, Action.REVOKE: 2}\n",
    "unprep_dic = { v: k for k, v in prep_dic.items() } # Inverse `prep_dic`\n",
    "\n",
    "\n",
    "def apply(df, f):\n",
    "    \"\"\"\n",
    "    Apply function to df\n",
    "    \"\"\"\n",
    "    return [ f(row) for row in df ]\n",
    "\n",
    "\n",
    "def sort(df, cols):\n",
    "    \"\"\"\n",
    "    Sort df by columns\n",
    "    \"\"\" \n",
    "    if not df:\n",
    "        return []\n",
    "    \n",
    "    return sorted(df, key = lambda row: [row[col] for col in cols])\n",
    "\n",
    "\n",
    "def harvard(row):\n",
    "    for col in row:\n",
    "        if col == 'ACTION':\n",
    "            row[col] = prep_dic[row[col]]\n",
    "            \n",
    "    return row\n",
    "\n",
    "\n",
    "def harvard_inverse(row):\n",
    "    for col in row:\n",
    "        if col == 'ACTION':\n",
    "            row[col] = unprep_dic[row[col]]\n",
    "            \n",
    "    return row\n",
    "\n",
    "\n",
    "df_order = apply(df_order, harvard)\n",
    "df_order = sort(df_order, ['TIME', 'ACTION'])\n",
    "df_order = apply(df_order, harvard_inverse);"
   ]
  },
  {
   "cell_type": "code",
   "execution_count": 12,
   "metadata": {},
   "outputs": [
    {
     "data": {
      "text/plain": [
       "[OrderedDict([('NO', 1),\n",
       "              ('SECCODE', 'EUR_RUB__TOD'),\n",
       "              ('BUYSELL', 'B'),\n",
       "              ('TIME', 100000050299),\n",
       "              ('ORDERNO', 1),\n",
       "              ('ACTION', 1),\n",
       "              ('PRICE', 68.61),\n",
       "              ('VOLUME', 1000000),\n",
       "              ('TRADENO', nan),\n",
       "              ('TRADEPRICE', nan)]),\n",
       " OrderedDict([('NO', 2),\n",
       "              ('SECCODE', 'USD000000TOD'),\n",
       "              ('BUYSELL', 'S'),\n",
       "              ('TIME', 100000050316),\n",
       "              ('ORDERNO', 2),\n",
       "              ('ACTION', 1),\n",
       "              ('PRICE', 56.6),\n",
       "              ('VOLUME', 1000000),\n",
       "              ('TRADENO', nan),\n",
       "              ('TRADEPRICE', nan)]),\n",
       " OrderedDict([('NO', 3),\n",
       "              ('SECCODE', 'EUR_RUB__TOD'),\n",
       "              ('BUYSELL', 'S'),\n",
       "              ('TIME', 100000050325),\n",
       "              ('ORDERNO', 3),\n",
       "              ('ACTION', 1),\n",
       "              ('PRICE', 69.065),\n",
       "              ('VOLUME', 1000000),\n",
       "              ('TRADENO', nan),\n",
       "              ('TRADEPRICE', nan)])]"
      ]
     },
     "execution_count": 12,
     "metadata": {},
     "output_type": "execute_result"
    }
   ],
   "source": [
    "df_order[:3]"
   ]
  },
  {
   "cell_type": "code",
   "execution_count": 13,
   "metadata": {
    "pycharm": {
     "name": "#%%\n"
    }
   },
   "outputs": [],
   "source": [
    "def drop_by_entry(df_cur, entry):\n",
    "    for row in df_cur:\n",
    "        if row['ORDERNO'] == entry['ORDERNO']:\n",
    "            df_cur.remove(row)\n",
    "\n",
    "\n",
    "def reduce_by_entry(df_cur, entry, FROM, TO):\n",
    "    for row in df_cur:\n",
    "        if row['ORDERNO'] == entry['ORDERNO']:\n",
    "            row['VOLUME'] = FROM['VOLUME'] - TO['VOLUME']"
   ]
  },
  {
   "cell_type": "code",
   "execution_count": 14,
   "metadata": {
    "pycharm": {
     "name": "#%%\n"
    }
   },
   "outputs": [],
   "source": [
    "total_mistakes = 0\n",
    "\n",
    "\n",
    "def print_error(error):\n",
    "    global total_mistakes\n",
    "    print('-' * 40)\n",
    "    print(f'in row: {row[\"NO\"]}')\n",
    "    print(error)\n",
    "    print('-' * 40)\n",
    "    print()\n",
    "    total_mistakes += 1\n",
    "\n",
    "\n",
    "def check_exists(df_cur, row, NO='ORDERNO'):\n",
    "    \"\"\"\n",
    "    Check if the given ORDERNO exists\n",
    "    \"\"\"\n",
    "    sub_df = filter(df_cur, lambda x: x[NO] == row[NO])\n",
    "          \n",
    "    if len(sub_df) > 0:\n",
    "        return True, sub_df\n",
    "    else:\n",
    "        # printing the error\n",
    "        print_error(f\"ERROR: Record with {NO} {row[NO]} doesn't exist\")\n",
    "        return False, None"
   ]
  },
  {
   "cell_type": "code",
   "execution_count": 15,
   "metadata": {
    "pycharm": {
     "name": "#%%\n"
    }
   },
   "outputs": [],
   "source": [
    "def handle_revoke(df_cur, row):\n",
    "    # check if the given ORDERNO exists\n",
    "    check, sub_df = check_exists(df_cur, row)\n",
    "    \n",
    "    if check:\n",
    "        series = sub_df[0]\n",
    "        \n",
    "        # check if revoking volume is not greater than the current one\n",
    "        if series['VOLUME'] >= row['VOLUME']:\n",
    "            if series['VOLUME'] == row['VOLUME']:\n",
    "                # removing the record\n",
    "                drop_by_entry(df_cur, row)\n",
    "            else:\n",
    "                # reducing the amount\n",
    "                reduce_by_entry(df_cur, row, series, row)\n",
    "        else:\n",
    "            # Delete negative number\n",
    "            drop_by_entry(df_cur, row)\n",
    "            \n",
    "            # Printing the error\n",
    "            print_error(\"ERROR: Cannot revoke more that there is\")"
   ]
  },
  {
   "cell_type": "code",
   "execution_count": 16,
   "metadata": {
    "pycharm": {
     "name": "#%%\n"
    }
   },
   "outputs": [],
   "source": [
    "def find_orderno(df_cur, value):\n",
    "    return filter(df_cur, lambda row: row['ORDERNO'] == value)"
   ]
  },
  {
   "cell_type": "code",
   "execution_count": 17,
   "metadata": {
    "pycharm": {
     "name": "#%%\n"
    }
   },
   "outputs": [],
   "source": [
    "def handle_match(df_cur, row):\n",
    "    global df_trade\n",
    "    \n",
    "    # check if the given ORDERNO exists\n",
    "    check, sub_df = check_exists(df_cur, row)\n",
    "    \n",
    "    if check:\n",
    "        # check if the given tradeno exists in trade logs\n",
    "        check, sub_trade = check_exists(df_trade, row, 'TRADENO')\n",
    "        \n",
    "        if check:\n",
    "            series_trade = sub_trade[0]\n",
    "\n",
    "            seller = find_orderno(df_cur, series_trade['SELLORDERNO'])\n",
    "            buyer = find_orderno(df_cur, series_trade['BUYORDERNO'])\n",
    "\n",
    "            # check if seller and buyer exist\n",
    "            if len(seller) > 0 and len(buyer) > 0:\n",
    "                seller = seller[0]\n",
    "                buyer = buyer[0]\n",
    "\n",
    "                # check if the volume is ok\n",
    "                if seller['VOLUME'] >= row['VOLUME'] and buyer['VOLUME'] >= row['VOLUME']:\n",
    "                    if seller['VOLUME'] == row['VOLUME']:\n",
    "                        # removing the record\n",
    "                        drop_by_entry(df_cur, seller)\n",
    "                    else:\n",
    "                        # reducing the amount\n",
    "                        reduce_by_entry(df_cur, seller, seller, row)\n",
    "\n",
    "                    if buyer['VOLUME'] == row['VOLUME']:\n",
    "                        # removing the record\n",
    "                        drop_by_entry(df_cur, buyer)\n",
    "                    else:\n",
    "                        # reducing the amount\n",
    "                        reduce_by_entry(df_cur, buyer, buyer, row)\n",
    "\n",
    "                else:\n",
    "                    # Delete negative numbers\n",
    "                    if seller['VOLUME'] < row['VOLUME']:\n",
    "                       drop_by_entry(df_cur, seller)\n",
    "                    else:\n",
    "                        reduce_by_entry(df_cur, seller, seller, row)\n",
    "\n",
    "                    # Delete negative numbers\n",
    "                    if buyer['VOLUME'] < row['VOLUME']:\n",
    "                        drop_by_entry(df_cur, buyer)\n",
    "                    else:\n",
    "                        reduce_by_entry(df_cur, buyer, buyer, row)\n",
    "\n",
    "                    # Printing the error\n",
    "                    print_error(\"ERROR: Not enough amount for buying and/or selling\")\n",
    "\n",
    "            # printing the error\n",
    "            else:\n",
    "                print_error(f\"ERROR: There's no such buyer and/or seller\")"
   ]
  },
  {
   "cell_type": "code",
   "execution_count": 18,
   "metadata": {
    "pycharm": {
     "name": "#%%\n"
    }
   },
   "outputs": [],
   "source": [
    "class Spectrum:\n",
    "  def __init__(self, seccode):\n",
    "        self.seccode = seccode\n",
    "        self.best_ask = 100000000\n",
    "        self.best_bid = -1\n",
    "        self.bids = [0]*10\n",
    "        self.asks = [0]*10"
   ]
  },
  {
   "cell_type": "code",
   "execution_count": 19,
   "metadata": {
    "pycharm": {
     "name": "#%%\n"
    }
   },
   "outputs": [],
   "source": [
    "# Helper functions\n",
    "\n",
    "def distance_idx(dif, step):\n",
    "    return math.floor(dif/(step*5))"
   ]
  },
  {
   "cell_type": "code",
   "execution_count": 20,
   "metadata": {
    "pycharm": {
     "name": "#%%\n"
    }
   },
   "outputs": [],
   "source": [
    "spectrums = dict()\n",
    "for i in instruments_info.keys():\n",
    "  spectrums[i] = Spectrum(i)"
   ]
  },
  {
   "cell_type": "code",
   "execution_count": 21,
   "metadata": {
    "pycharm": {
     "name": "#%%\n"
    }
   },
   "outputs": [],
   "source": [
    "def change_spectrums(df_cur, row):\n",
    "    seccode = row['SECCODE']\n",
    "    step = instruments_info[seccode]['PRICE_STEP']\n",
    "\n",
    "    spectrum = spectrums[seccode]\n",
    "\n",
    "    new_price = row['PRICE']\n",
    "\n",
    "    if row['ACTION'] == Action.POST:\n",
    "\n",
    "        if row['BUYSELL'] == 'B':\n",
    "            if new_price > spectrum.best_bid:\n",
    "                # temp_b = df_cur[(df_cur['SECCODE'] == seccode) & (df_cur['BUYSELL'] == 'B')]\n",
    "                temp_b = filter(df_cur, lambda row: row['SECCODE'] == seccode and row['BUYSELL'] == 'B')\n",
    "                spectrum.best_bid = new_price\n",
    "                new_bids = [0]*10\n",
    "\n",
    "                for entry in temp_b:\n",
    "                    price = entry['PRICE']\n",
    "                    dif = spectrum.best_bid - price\n",
    "                    if dif > step*49:\n",
    "                        pass\n",
    "                    else:\n",
    "                        new_bids[9 - distance_idx(dif, step)] += entry['VOLUME']\n",
    "\n",
    "                spectrum.bids = new_bids\n",
    "            elif new_price == spectrum.best_bid:\n",
    "                spectrum.bids[9] += row['VOLUME']\n",
    "            else:\n",
    "                dif = spectrum.best_bid - new_price\n",
    "                if dif > step*49:\n",
    "                    pass\n",
    "                else:\n",
    "                    spectrum.bids[9 - distance_idx(dif, step)] += row['VOLUME']\n",
    "\n",
    "        if row['BUYSELL'] == 'S':\n",
    "            if new_price < spectrum.best_ask:\n",
    "                # temp_s = df_cur.loc[(df_cur['SECCODE'] == seccode) & (df_cur['BUYSELL'] == 'S')]\n",
    "                temp_s = filter(df_cur, lambda row: row['SECCODE'] == seccode and row['BUYSELL'] == 'S')\n",
    "\n",
    "                spectrum.best_ask = new_price\n",
    "                new_asks = [0]*10\n",
    "\n",
    "                for entry in temp_s:\n",
    "                    price = entry['PRICE']\n",
    "                    dif = price - spectrum.best_ask\n",
    "                    if dif > step*49:\n",
    "                        pass\n",
    "                    else:\n",
    "                        new_asks[distance_idx(dif, step)] += entry['VOLUME']\n",
    "\n",
    "                spectrum.asks = new_asks\n",
    "            elif new_price == spectrum.best_ask:\n",
    "                spectrum.asks[0] += row['VOLUME']\n",
    "            else:\n",
    "                dif = new_price - spectrum.best_ask\n",
    "                if dif > step*49:\n",
    "                    pass\n",
    "                else:\n",
    "                    spectrum.asks[distance_idx(dif, step)] += row['VOLUME']\n",
    "\n",
    "    # проверить если прайс = бест\n",
    "    #elif row['ACTION'] == Action.REVOKE:\n",
    "    else:\n",
    "        if row['BUYSELL'] == 'B':\n",
    "\n",
    "            if new_price == spectrum.best_bid:\n",
    "                if row['VOLUME'] >= spectrum.bids[9]:\n",
    "                    # temp_b = df_cur.loc[(df_cur['SECCODE'] == seccode) & (df_cur['BUYSELL'] == 'B')]\n",
    "                    temp_b = filter(df_cur, lambda row: row['SECCODE'] == seccode and row['BUYSELL'] == 'B')\n",
    "\n",
    "                    new_best_bid = sort(temp_b, ['PRICE'])[-1]['PRICE']\n",
    "\n",
    "                    if math.isnan(new_best_bid):\n",
    "                        spectrum.best_bid = 0\n",
    "                    else:\n",
    "                        spectrum.best_bid = new_best_bid\n",
    "\n",
    "                    new_bids = [0]*10\n",
    "\n",
    "                    for entry in temp_b:\n",
    "                        price = entry['PRICE']\n",
    "                        dif = spectrum.best_bid - price\n",
    "                        if dif > step*49:\n",
    "                            pass\n",
    "                        else:\n",
    "                            new_bids[9 - distance_idx(dif, step)] += entry['VOLUME']\n",
    "\n",
    "                    spectrum.bids = new_bids\n",
    "                else:\n",
    "                    spectrum.bids[9] -= row['VOLUME']\n",
    "\n",
    "            elif new_price > spectrum.best_bid:\n",
    "                pass\n",
    "            else:\n",
    "                dif = spectrum.best_bid - new_price\n",
    "                if dif > step*49:\n",
    "                    pass\n",
    "                else:\n",
    "                    spectrum.bids[9 - distance_idx(dif, step)] -= row['VOLUME']\n",
    "\n",
    "                    if spectrum.bids[9 - distance_idx(dif, step)] < 0:\n",
    "                        spectrum.bids[9 - distance_idx(dif, step)] = 0\n",
    "\n",
    "        if row['BUYSELL'] == 'S':\n",
    "\n",
    "            if new_price == spectrum.best_ask:\n",
    "                if row['VOLUME'] >= spectrum.asks[0]:\n",
    "                    # temp_s = df_cur.loc[(df_cur['SECCODE'] == seccode) & (df_cur['BUYSELL'] == 'S')]\n",
    "                    temp_s = filter(df_cur, lambda row: row['SECCODE'] == seccode and row['BUYSELL'] == 'S')\n",
    "\n",
    "                    new_best_ask = sort(temp_s, ['PRICE'])[0]['PRICE']\n",
    "                    if math.isnan(new_best_ask):\n",
    "                        spectrum.best_ask = 100000000\n",
    "                    else:\n",
    "                        spectrum.best_ask = new_best_ask\n",
    "                    new_asks = [0]*10\n",
    "\n",
    "                    for entry in temp_s:\n",
    "                        price = entry['PRICE']\n",
    "                        dif = price - spectrum.best_ask\n",
    "                        if dif > step*49:\n",
    "                            pass\n",
    "                        else:\n",
    "                            new_asks[distance_idx(dif, step)] += entry['VOLUME']\n",
    "\n",
    "                    spectrum.asks = new_asks\n",
    "                else:\n",
    "                    spectrum.asks[0] -= row['VOLUME']\n",
    "\n",
    "            elif new_price < spectrum.best_ask:\n",
    "                pass\n",
    "            else:\n",
    "                dif = new_price - spectrum.best_ask\n",
    "                if dif > step*49:\n",
    "                    pass\n",
    "                else:\n",
    "                    spectrum.asks[distance_idx(dif, step)] -= row['VOLUME']\n",
    "                    if spectrum.asks[distance_idx(dif, step)] < 0:\n",
    "                        spectrum.asks[distance_idx(dif, step)] = 0\n",
    "\n",
    "    b = spectrum.bids.copy()\n",
    "    b.extend(spectrum.asks)\n",
    "\n",
    "    return b"
   ]
  },
  {
   "cell_type": "code",
   "execution_count": 22,
   "metadata": {
    "pycharm": {
     "name": "#%%\n"
    }
   },
   "outputs": [
    {
     "ename": "AttributeError",
     "evalue": "'NoneType' object has no attribute 'append'",
     "output_type": "error",
     "traceback": [
      "\u001b[1;31m---------------------------------------------------------------------------\u001b[0m",
      "\u001b[1;31mAttributeError\u001b[0m                            Traceback (most recent call last)",
      "\u001b[1;32m<ipython-input-22-3b19058c3e74>\u001b[0m in \u001b[0;36m<module>\u001b[1;34m\u001b[0m\n\u001b[0;32m     12\u001b[0m     \u001b[1;31m# if post -> add to df_cur\u001b[0m\u001b[1;33m\u001b[0m\u001b[1;33m\u001b[0m\u001b[1;33m\u001b[0m\u001b[0m\n\u001b[0;32m     13\u001b[0m     \u001b[1;32mif\u001b[0m \u001b[0mrow\u001b[0m\u001b[1;33m[\u001b[0m\u001b[1;34m'ACTION'\u001b[0m\u001b[1;33m]\u001b[0m \u001b[1;33m==\u001b[0m \u001b[0mAction\u001b[0m\u001b[1;33m.\u001b[0m\u001b[0mPOST\u001b[0m\u001b[1;33m:\u001b[0m\u001b[1;33m\u001b[0m\u001b[1;33m\u001b[0m\u001b[0m\n\u001b[1;32m---> 14\u001b[1;33m         \u001b[0mdf_cur\u001b[0m \u001b[1;33m=\u001b[0m \u001b[0mdf_cur\u001b[0m\u001b[1;33m.\u001b[0m\u001b[0mappend\u001b[0m\u001b[1;33m(\u001b[0m\u001b[0mrow\u001b[0m\u001b[1;33m)\u001b[0m\u001b[1;33m\u001b[0m\u001b[1;33m\u001b[0m\u001b[0m\n\u001b[0m\u001b[0;32m     15\u001b[0m \u001b[1;33m\u001b[0m\u001b[0m\n\u001b[0;32m     16\u001b[0m \u001b[1;33m\u001b[0m\u001b[0m\n",
      "\u001b[1;31mAttributeError\u001b[0m: 'NoneType' object has no attribute 'append'"
     ]
    }
   ],
   "source": [
    "start = time.time()\n",
    "k = 0\n",
    "# empty df for keeping track\n",
    "df_cur = []\n",
    "df_spec = pd.DataFrame(columns=['SECCODE', 'TIMESTAMP', 'BID_ASK'])\n",
    "\n",
    "# for processing each TRADENO only once\n",
    "matches = []\n",
    "\n",
    "# iterating through the order book\n",
    "for row in df_order:\n",
    "    # if post -> add to df_cur\n",
    "    if row['ACTION'] == Action.POST:\n",
    "        df_cur = df_cur.append(row)\n",
    "\n",
    "\n",
    "    elif row['ACTION'] == Action.REVOKE:\n",
    "        handle_revoke(df_cur, row)\n",
    "\n",
    "\n",
    "    elif row['ACTION'] == Action.MATCH:\n",
    "        if row['TRADENO'] in matches:\n",
    "            matches.remove(row['TRADENO'])\n",
    "            continue\n",
    "        else:\n",
    "            matches.append(row['TRADENO'])\n",
    "            handle_match(df_cur, row)\n",
    "\n",
    "    # для каждой новой row считаем спектрум и добавляем в файлик\n",
    "    values = change_spectrums(df_cur, row)\n",
    "    d = { 'SECCODE': row['SECCODE'], 'TIMESTAMP': row['TIME'], 'BID_ASK': values }\n",
    "    df_spec = df_spec.append(d, ignore_index=True)\n",
    "    #print(values)\n",
    "    k += 1\n",
    "    if k%50000 == 0:\n",
    "        df_spec.to_csv('spectrums/'+str(k//50000)+'.csv')\n",
    "\n",
    "\n",
    "# df_cur.to_csv('no-thread-lol.csv')\n",
    "df_spec.to_csv('spectrum.csv')\n",
    "\n",
    "end = time.time()\n",
    "\n",
    "print(end - start)"
   ]
  }
 ],
 "metadata": {
  "kernelspec": {
   "display_name": "Python 3",
   "language": "python",
   "name": "python3"
  },
  "language_info": {
   "codemirror_mode": {
    "name": "ipython",
    "version": 3
   },
   "file_extension": ".py",
   "mimetype": "text/x-python",
   "name": "python",
   "nbconvert_exporter": "python",
   "pygments_lexer": "ipython3",
   "version": "3.7.3"
  }
 },
 "nbformat": 4,
 "nbformat_minor": 1
}
