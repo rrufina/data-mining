{
 "cells": [
  {
   "cell_type": "code",
   "execution_count": 1,
   "metadata": {},
   "outputs": [],
   "source": [
    "import gzip\n",
    "import pandas as pd\n",
    "import time\n",
    "import os\n",
    "from utils import *\n",
    "from orderbook import OrderBook\n",
    "from features import FeatureGenerator"
   ]
  },
  {
   "cell_type": "markdown",
   "metadata": {},
   "source": [
    "## Create OrderBook and Spectrums"
   ]
  },
  {
   "cell_type": "code",
   "execution_count": 2,
   "metadata": {},
   "outputs": [],
   "source": [
    "def make_orderbooks(order_log: list):\n",
    "    \"\"\"\n",
    "    Function for making orderbooks for each spectrum\n",
    "    \n",
    "    Return orderbooks, dataframe with spectrums and dataframe with VWAPs\n",
    "    \"\"\"\n",
    "    # creating order book for each seccode\n",
    "    order_books = dict()\n",
    "    for secc in SECCODES:\n",
    "        order_books[secc] = OrderBook(secc)\n",
    "\n",
    "    # creating spectrum for each seccode\n",
    "    spectrums = dict()\n",
    "    for secc in feature_seccodes:\n",
    "        spectrums[secc] = FeatureGenerator(seccode=secc, px_step=instruments_info[secc]['PRICE_STEP'])\n",
    "\n",
    "    start = time.time()\n",
    "\n",
    "    list_spec = []\n",
    "    list_vwap = []\n",
    "    col_names = ['SECCODE', 'TIMESTAMP', 'BID_ASK']\n",
    "\n",
    "    for row_log in order_log:\n",
    "        if instruments_info[row_log['SECCODE']]['SCHEDULE'] <= row_log['TIME']:\n",
    "            continue\n",
    "\n",
    "        is_ask = row_log['BUYSELL'] == 'S'\n",
    "\n",
    "        order_book = order_books[row_log['SECCODE']]\n",
    "        spectrum = spectrums[row_log['SECCODE']]\n",
    "\n",
    "        # handle post\n",
    "        if row_log['ACTION'] == Action.POST:\n",
    "            order_book.add_entry(entry=row_log, \n",
    "                                 ask=is_ask)\n",
    "            spectrum.update_post(order_book=order_book, new_price=row_log['PRICE'], \n",
    "                                 volume=row_log['VOLUME'], ask=is_ask)\n",
    "\n",
    "        # handle revoke\n",
    "        elif row_log['ACTION'] == Action.REVOKE:\n",
    "            order_book.revoke(orderno=row_log['ORDERNO'], volume=row_log['VOLUME'], \n",
    "                              ask=is_ask, row_numb=row_log['NO'])\n",
    "            spectrum.update_revoke(order_book=order_book, new_price=row_log['PRICE'], \n",
    "                                 volume=row_log['VOLUME'], ask=is_ask)\n",
    "\n",
    "        elif row_log['ACTION'] == Action.MATCH:\n",
    "            order_book.match(orderno=row_log['ORDERNO'], volume=row_log['VOLUME'], \n",
    "                              ask=is_ask, row_numb=row_log['NO'])\n",
    "            spectrum.update_match(order_book=order_book, new_price=row_log['PRICE'], \n",
    "                                 volume=row_log['VOLUME'], ask=is_ask)\n",
    "\n",
    "        # print(order_book.bids, '-----', order_book.asks, '=====', sep='\\n')\n",
    "        \n",
    "        # для каждой новой row считаем спектрум добавляем в df\n",
    "        values = spectrum.bids_normalized.copy()\n",
    "        values.extend(spectrum.asks_normalized.copy())\n",
    "        d_values = [ row_log['SECCODE'], row_log['TIME'], values ]\n",
    "        list_spec.append(d_values)\n",
    "        \n",
    "        # для каждой новой row считаем VWAPs и добавляем в df\n",
    "        vwaps = list(spectrum.VWAP_bids_normalized.values()).copy()\n",
    "        vwaps.extend(list(spectrum.VWAP_asks_normalized.values()).copy())\n",
    "        d_vwaps = [ row_log['SECCODE'], row_log['TIME'], vwaps ]\n",
    "        list_vwap.append(d_vwaps)\n",
    "    \n",
    "    # Saving spectrum\n",
    "    df_spec = pd.DataFrame(list_spec, columns=col_names)\n",
    "    # Saving VWAPs\n",
    "    df_vwap = pd.DataFrame(list_vwap, columns=col_names)\n",
    "\n",
    "    end = time.time()\n",
    "\n",
    "    return order_books, df_spec, df_vwap, end - start"
   ]
  },
  {
   "cell_type": "markdown",
   "metadata": {},
   "source": [
    "## Single File"
   ]
  },
  {
   "cell_type": "code",
   "execution_count": 3,
   "metadata": {},
   "outputs": [],
   "source": [
    "# Reading\n",
    "WORKING_DIR = r\"D:\\Data\\MOEX-FX\\2018-03\\\\\"\n",
    "WORKING_DIR = r'D:\\Innopolis University\\2021 Spring Semester\\Data Mining\\data-mining\\\\'\n",
    "\n",
    "orderlog_filename = WORKING_DIR + 'OrderLog20180330.txt'\n",
    "\n",
    "order_log = read_orderlog(orderlog_filename)\n",
    "\n",
    "# Preprocessing\n",
    "order_log = filter(order_log, lambda row: row['SECCODE'] in feature_seccodes)\n",
    "order_log = preprocess_orderlog(order_log)\n",
    "\n",
    "# Make orderbooks, spectrum, and vwaps\n",
    "order_books, df_spec, df_vwap, exec_time = make_orderbooks(order_log)"
   ]
  }
 ],
 "metadata": {
  "kernelspec": {
   "display_name": "Python 3",
   "language": "python",
   "name": "python3"
  },
  "language_info": {
   "codemirror_mode": {
    "name": "ipython",
    "version": 3
   },
   "file_extension": ".py",
   "mimetype": "text/x-python",
   "name": "python",
   "nbconvert_exporter": "python",
   "pygments_lexer": "ipython3",
   "version": "3.7.3"
  }
 },
 "nbformat": 4,
 "nbformat_minor": 2
}
