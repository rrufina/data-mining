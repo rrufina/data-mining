{
 "nbformat": 4,
 "nbformat_minor": 0,
 "metadata": {
  "kernelspec": {
   "display_name": "Python 3",
   "language": "python",
   "name": "python3"
  },
  "language_info": {
   "codemirror_mode": {
    "name": "ipython",
    "version": 3
   },
   "file_extension": ".py",
   "mimetype": "text/x-python",
   "name": "python",
   "nbconvert_exporter": "python",
   "pygments_lexer": "ipython3",
   "version": "3.8.5"
  },
  "colab": {
   "name": "Copy of spectrum_new.ipynb",
   "provenance": [],
   "collapsed_sections": [],
   "toc_visible": true
  },
  "accelerator": "GPU"
 },
 "cells": [
  {
   "cell_type": "code",
   "metadata": {
    "id": "x9ISXzLffgaO"
   },
   "source": [
    "import time\n",
    "\n",
    "import pandas as pd\n",
    "# 0 - Revoke, 1 - Post, 2 - Match"
   ],
   "execution_count": null,
   "outputs": []
  },
  {
   "cell_type": "code",
   "metadata": {
    "id": "_nqzkS124Cbm",
    "colab": {
     "base_uri": "https://localhost:8080/"
    },
    "outputId": "6581f65c-410a-4859-d1e8-cbb86a104dc1"
   },
   "source": [
    "from google.colab import drive\n",
    "drive.mount('/content/drive')"
   ],
   "execution_count": null,
   "outputs": [
    {
     "output_type": "stream",
     "text": [
      "Drive already mounted at /content/drive; to attempt to forcibly remount, call drive.mount(\"/content/drive\", force_remount=True).\n"
     ],
     "name": "stdout"
    }
   ]
  },
  {
   "cell_type": "code",
   "metadata": {
    "id": "pZnTCotlfgaQ"
   },
   "source": [
    "'''\n",
    "# CHANGE THIS\n",
    "WORKING_DIR = r\"D:\\Data\\MOEX-FX\\2018-03\\\\\"\n",
    "OrderLog = \"OrderLog20180302\"\n",
    "TradeLog = \"TradeLog20180302\"\n",
    "order_log = pd.read_csv(WORKING_DIR + OrderLog + \".txt\")\n",
    "trade_log = pd.read_csv(WORKING_DIR + TradeLog + \".txt\")\n",
    "'''\n",
    "OrderLog = \"OrderLog20180302\"\n",
    "import gzip \n",
    "with gzip.open('/content/drive/MyDrive/DataMining/2018-03/OrderLog20180301.txt.gz', 'rb') as f:        \n",
    "    order_log = pd.read_csv(f)\n",
    "with gzip.open('/content/drive/MyDrive/DataMining/2018-03/TradeLog20180301.txt.gz', 'rb') as f:        \n",
    "    trade_log = pd.read_csv(f)"
   ],
   "execution_count": null,
   "outputs": []
  },
  {
   "cell_type": "code",
   "metadata": {
    "id": "7moAkaTQfgaR"
   },
   "source": [
    "class Action:\n",
    "    REVOKE = 0\n",
    "    POST = 1\n",
    "    MATCH = 2"
   ],
   "execution_count": null,
   "outputs": []
  },
  {
   "cell_type": "code",
   "metadata": {
    "id": "1CbL3f8qfgaS"
   },
   "source": [
    "CODES = ['USD000000TOD', 'USD000UTSTOM', 'EUR_RUB__TOD', 'EUR_RUB__TOM', 'EURUSD000TOD', 'EURUSD000TOM']"
   ],
   "execution_count": null,
   "outputs": []
  },
  {
   "cell_type": "code",
   "metadata": {
    "id": "qdgWFhw14MKW"
   },
   "source": [
    "instruments_info = {'USD000000TOD': {'SCHEDULE': 174500000000, 'PRICE_STEP': 0.0025, 'INDEX':0},\n",
    "                    'USD000UTSTOM': {'SCHEDULE': 235000000000, 'PRICE_STEP': 0.0025, 'INDEX':1},\n",
    "                    'EUR_RUB__TOD': {'SCHEDULE': 150000000000, 'PRICE_STEP': 0.0025, 'INDEX':2},\n",
    "                    'EUR_RUB__TOM': {'SCHEDULE': 235000000000, 'PRICE_STEP': 0.0025, 'INDEX':3},\n",
    "                    'EURUSD000TOM': {'SCHEDULE': 235000000000, 'PRICE_STEP': 0.00001, 'INDEX':4},\n",
    "                    'EURUSD000TOD': {'SCHEDULE': 150000000000, 'PRICE_STEP': 0.00001, 'INDEX':5}}"
   ],
   "execution_count": null,
   "outputs": []
  },
  {
   "cell_type": "code",
   "metadata": {
    "id": "s-U1qzqnfgaS"
   },
   "source": [
    "# filtering orders\n",
    "df_order = order_log[(order_log['SECCODE'].isin(CODES)) & (order_log['TIME'] < 235000000000)].copy()[:1000]\n",
    "df_trade = trade_log[trade_log['SECCODE'].isin(CODES)].copy()\n",
    "\n",
    "# harvard professor wrote this +100000 IQ code\n",
    "# to sort actions by the following order: post, match, revoke\n",
    "prep_dic = {Action.POST: 0, Action.MATCH: 1, Action.REVOKE: 2}\n",
    "unprep_dic = { v: k for k, v in prep_dic.items() } # Inverse `prep_dic`\n",
    "\n",
    "df_order['ACTION'] = df_order['ACTION'].apply(lambda num: prep_dic[num])\n",
    "df_order.sort_values(by = ['TIME', 'ACTION'], inplace=True)\n",
    "df_order['ACTION'] = df_order['ACTION'].apply(lambda num: unprep_dic[num])"
   ],
   "execution_count": null,
   "outputs": []
  },
  {
   "cell_type": "code",
   "metadata": {
    "scrolled": true,
    "id": "5fzIPXosfgaT",
    "colab": {
     "base_uri": "https://localhost:8080/",
     "height": 224
    },
    "outputId": "9db4334f-3bf6-465f-8589-aa7ed8138a45"
   },
   "source": [
    "df_order.head()"
   ],
   "execution_count": null,
   "outputs": [
    {
     "output_type": "execute_result",
     "data": {
      "text/html": [
       "<div>\n",
       "<style scoped>\n",
       "    .dataframe tbody tr th:only-of-type {\n",
       "        vertical-align: middle;\n",
       "    }\n",
       "\n",
       "    .dataframe tbody tr th {\n",
       "        vertical-align: top;\n",
       "    }\n",
       "\n",
       "    .dataframe thead th {\n",
       "        text-align: right;\n",
       "    }\n",
       "</style>\n",
       "<table border=\"1\" class=\"dataframe\">\n",
       "  <thead>\n",
       "    <tr style=\"text-align: right;\">\n",
       "      <th></th>\n",
       "      <th>NO</th>\n",
       "      <th>SECCODE</th>\n",
       "      <th>BUYSELL</th>\n",
       "      <th>TIME</th>\n",
       "      <th>ORDERNO</th>\n",
       "      <th>ACTION</th>\n",
       "      <th>PRICE</th>\n",
       "      <th>VOLUME</th>\n",
       "      <th>TRADENO</th>\n",
       "      <th>TRADEPRICE</th>\n",
       "    </tr>\n",
       "  </thead>\n",
       "  <tbody>\n",
       "    <tr>\n",
       "      <th>0</th>\n",
       "      <td>1</td>\n",
       "      <td>EUR_RUB__TOD</td>\n",
       "      <td>B</td>\n",
       "      <td>100000050299</td>\n",
       "      <td>1</td>\n",
       "      <td>1</td>\n",
       "      <td>68.610</td>\n",
       "      <td>1000000</td>\n",
       "      <td>NaN</td>\n",
       "      <td>NaN</td>\n",
       "    </tr>\n",
       "    <tr>\n",
       "      <th>1</th>\n",
       "      <td>2</td>\n",
       "      <td>USD000000TOD</td>\n",
       "      <td>S</td>\n",
       "      <td>100000050316</td>\n",
       "      <td>2</td>\n",
       "      <td>1</td>\n",
       "      <td>56.600</td>\n",
       "      <td>1000000</td>\n",
       "      <td>NaN</td>\n",
       "      <td>NaN</td>\n",
       "    </tr>\n",
       "    <tr>\n",
       "      <th>2</th>\n",
       "      <td>3</td>\n",
       "      <td>EUR_RUB__TOD</td>\n",
       "      <td>S</td>\n",
       "      <td>100000050325</td>\n",
       "      <td>3</td>\n",
       "      <td>1</td>\n",
       "      <td>69.065</td>\n",
       "      <td>1000000</td>\n",
       "      <td>NaN</td>\n",
       "      <td>NaN</td>\n",
       "    </tr>\n",
       "    <tr>\n",
       "      <th>3</th>\n",
       "      <td>4</td>\n",
       "      <td>EUR_RUB__TOM</td>\n",
       "      <td>B</td>\n",
       "      <td>100000050353</td>\n",
       "      <td>4</td>\n",
       "      <td>1</td>\n",
       "      <td>68.725</td>\n",
       "      <td>1000000</td>\n",
       "      <td>NaN</td>\n",
       "      <td>NaN</td>\n",
       "    </tr>\n",
       "    <tr>\n",
       "      <th>4</th>\n",
       "      <td>5</td>\n",
       "      <td>USD000000TOD</td>\n",
       "      <td>B</td>\n",
       "      <td>100000050361</td>\n",
       "      <td>5</td>\n",
       "      <td>1</td>\n",
       "      <td>56.210</td>\n",
       "      <td>1000000</td>\n",
       "      <td>NaN</td>\n",
       "      <td>NaN</td>\n",
       "    </tr>\n",
       "  </tbody>\n",
       "</table>\n",
       "</div>"
      ],
      "text/plain": [
       "   NO       SECCODE BUYSELL          TIME  ...   PRICE   VOLUME  TRADENO  TRADEPRICE\n",
       "0   1  EUR_RUB__TOD       B  100000050299  ...  68.610  1000000      NaN         NaN\n",
       "1   2  USD000000TOD       S  100000050316  ...  56.600  1000000      NaN         NaN\n",
       "2   3  EUR_RUB__TOD       S  100000050325  ...  69.065  1000000      NaN         NaN\n",
       "3   4  EUR_RUB__TOM       B  100000050353  ...  68.725  1000000      NaN         NaN\n",
       "4   5  USD000000TOD       B  100000050361  ...  56.210  1000000      NaN         NaN\n",
       "\n",
       "[5 rows x 10 columns]"
      ]
     },
     "metadata": {
      "tags": []
     },
     "execution_count": 102
    }
   ]
  },
  {
   "cell_type": "code",
   "metadata": {
    "id": "Y343szvC4_EY",
    "colab": {
     "base_uri": "https://localhost:8080/",
     "height": 100
    },
    "outputId": "e6e5bfac-1e27-4ef4-f151-9ded527ee948"
   },
   "source": [
    "df_order[df_order['NO'] == 100]"
   ],
   "execution_count": null,
   "outputs": [
    {
     "output_type": "execute_result",
     "data": {
      "text/html": [
       "<div>\n",
       "<style scoped>\n",
       "    .dataframe tbody tr th:only-of-type {\n",
       "        vertical-align: middle;\n",
       "    }\n",
       "\n",
       "    .dataframe tbody tr th {\n",
       "        vertical-align: top;\n",
       "    }\n",
       "\n",
       "    .dataframe thead th {\n",
       "        text-align: right;\n",
       "    }\n",
       "</style>\n",
       "<table border=\"1\" class=\"dataframe\">\n",
       "  <thead>\n",
       "    <tr style=\"text-align: right;\">\n",
       "      <th></th>\n",
       "      <th>NO</th>\n",
       "      <th>SECCODE</th>\n",
       "      <th>BUYSELL</th>\n",
       "      <th>TIME</th>\n",
       "      <th>ORDERNO</th>\n",
       "      <th>ACTION</th>\n",
       "      <th>PRICE</th>\n",
       "      <th>VOLUME</th>\n",
       "      <th>TRADENO</th>\n",
       "      <th>TRADEPRICE</th>\n",
       "    </tr>\n",
       "  </thead>\n",
       "  <tbody>\n",
       "    <tr>\n",
       "      <th>99</th>\n",
       "      <td>100</td>\n",
       "      <td>EUR_RUB__TOM</td>\n",
       "      <td>S</td>\n",
       "      <td>100000210798</td>\n",
       "      <td>57</td>\n",
       "      <td>0</td>\n",
       "      <td>68.875</td>\n",
       "      <td>1000000</td>\n",
       "      <td>NaN</td>\n",
       "      <td>NaN</td>\n",
       "    </tr>\n",
       "  </tbody>\n",
       "</table>\n",
       "</div>"
      ],
      "text/plain": [
       "     NO       SECCODE BUYSELL  ...   VOLUME  TRADENO  TRADEPRICE\n",
       "99  100  EUR_RUB__TOM       S  ...  1000000      NaN         NaN\n",
       "\n",
       "[1 rows x 10 columns]"
      ]
     },
     "metadata": {
      "tags": []
     },
     "execution_count": 103
    }
   ]
  },
  {
   "cell_type": "code",
   "metadata": {
    "id": "dJl8JiISfgaT",
    "colab": {
     "base_uri": "https://localhost:8080/"
    },
    "outputId": "18003b36-ce4d-4f64-b55a-27b15df9af4c"
   },
   "source": [
    "df_order.info()"
   ],
   "execution_count": null,
   "outputs": [
    {
     "output_type": "stream",
     "text": [
      "<class 'pandas.core.frame.DataFrame'>\n",
      "Int64Index: 1000 entries, 0 to 1098\n",
      "Data columns (total 10 columns):\n",
      " #   Column      Non-Null Count  Dtype  \n",
      "---  ------      --------------  -----  \n",
      " 0   NO          1000 non-null   int64  \n",
      " 1   SECCODE     1000 non-null   object \n",
      " 2   BUYSELL     1000 non-null   object \n",
      " 3   TIME        1000 non-null   int64  \n",
      " 4   ORDERNO     1000 non-null   int64  \n",
      " 5   ACTION      1000 non-null   int64  \n",
      " 6   PRICE       1000 non-null   float64\n",
      " 7   VOLUME      1000 non-null   int64  \n",
      " 8   TRADENO     12 non-null     float64\n",
      " 9   TRADEPRICE  12 non-null     float64\n",
      "dtypes: float64(3), int64(5), object(2)\n",
      "memory usage: 85.9+ KB\n"
     ],
     "name": "stdout"
    }
   ]
  },
  {
   "cell_type": "code",
   "metadata": {
    "id": "TbGuKawOfgaU",
    "colab": {
     "base_uri": "https://localhost:8080/",
     "height": 204
    },
    "outputId": "3786b35e-1a8a-407d-fb90-2200d81769f4"
   },
   "source": [
    "df_trade.head()"
   ],
   "execution_count": null,
   "outputs": [
    {
     "output_type": "execute_result",
     "data": {
      "text/html": [
       "<div>\n",
       "<style scoped>\n",
       "    .dataframe tbody tr th:only-of-type {\n",
       "        vertical-align: middle;\n",
       "    }\n",
       "\n",
       "    .dataframe tbody tr th {\n",
       "        vertical-align: top;\n",
       "    }\n",
       "\n",
       "    .dataframe thead th {\n",
       "        text-align: right;\n",
       "    }\n",
       "</style>\n",
       "<table border=\"1\" class=\"dataframe\">\n",
       "  <thead>\n",
       "    <tr style=\"text-align: right;\">\n",
       "      <th></th>\n",
       "      <th>TRADENO</th>\n",
       "      <th>SECCODE</th>\n",
       "      <th>TIME</th>\n",
       "      <th>BUYORDERNO</th>\n",
       "      <th>SELLORDERNO</th>\n",
       "      <th>PRICE</th>\n",
       "      <th>VOLUME</th>\n",
       "    </tr>\n",
       "  </thead>\n",
       "  <tbody>\n",
       "    <tr>\n",
       "      <th>0</th>\n",
       "      <td>163897149</td>\n",
       "      <td>USD000000TOD</td>\n",
       "      <td>100000</td>\n",
       "      <td>88</td>\n",
       "      <td>90</td>\n",
       "      <td>56.3800</td>\n",
       "      <td>70000</td>\n",
       "    </tr>\n",
       "    <tr>\n",
       "      <th>1</th>\n",
       "      <td>163897150</td>\n",
       "      <td>USD000UTSTOM</td>\n",
       "      <td>100001</td>\n",
       "      <td>296</td>\n",
       "      <td>628</td>\n",
       "      <td>56.4000</td>\n",
       "      <td>1000</td>\n",
       "    </tr>\n",
       "    <tr>\n",
       "      <th>2</th>\n",
       "      <td>163897151</td>\n",
       "      <td>USD000UTSTOM</td>\n",
       "      <td>100001</td>\n",
       "      <td>296</td>\n",
       "      <td>663</td>\n",
       "      <td>56.4000</td>\n",
       "      <td>1000</td>\n",
       "    </tr>\n",
       "    <tr>\n",
       "      <th>3</th>\n",
       "      <td>163897152</td>\n",
       "      <td>USD000UTSTOM</td>\n",
       "      <td>100001</td>\n",
       "      <td>701</td>\n",
       "      <td>184</td>\n",
       "      <td>56.4475</td>\n",
       "      <td>1000</td>\n",
       "    </tr>\n",
       "    <tr>\n",
       "      <th>4</th>\n",
       "      <td>163897153</td>\n",
       "      <td>USD000UTSTOM</td>\n",
       "      <td>100001</td>\n",
       "      <td>296</td>\n",
       "      <td>881</td>\n",
       "      <td>56.4000</td>\n",
       "      <td>118000</td>\n",
       "    </tr>\n",
       "  </tbody>\n",
       "</table>\n",
       "</div>"
      ],
      "text/plain": [
       "     TRADENO       SECCODE    TIME  BUYORDERNO  SELLORDERNO    PRICE  VOLUME\n",
       "0  163897149  USD000000TOD  100000          88           90  56.3800   70000\n",
       "1  163897150  USD000UTSTOM  100001         296          628  56.4000    1000\n",
       "2  163897151  USD000UTSTOM  100001         296          663  56.4000    1000\n",
       "3  163897152  USD000UTSTOM  100001         701          184  56.4475    1000\n",
       "4  163897153  USD000UTSTOM  100001         296          881  56.4000  118000"
      ]
     },
     "metadata": {
      "tags": []
     },
     "execution_count": 105
    }
   ]
  },
  {
   "cell_type": "code",
   "metadata": {
    "id": "PhRDQyWkfgaU",
    "colab": {
     "base_uri": "https://localhost:8080/"
    },
    "outputId": "0fd7b7fd-3f2d-4556-95eb-e99019722807"
   },
   "source": [
    "df_trade.info()"
   ],
   "execution_count": null,
   "outputs": [
    {
     "output_type": "stream",
     "text": [
      "<class 'pandas.core.frame.DataFrame'>\n",
      "Int64Index: 59713 entries, 0 to 61879\n",
      "Data columns (total 7 columns):\n",
      " #   Column       Non-Null Count  Dtype  \n",
      "---  ------       --------------  -----  \n",
      " 0   TRADENO      59713 non-null  int64  \n",
      " 1   SECCODE      59713 non-null  object \n",
      " 2   TIME         59713 non-null  int64  \n",
      " 3   BUYORDERNO   59713 non-null  int64  \n",
      " 4   SELLORDERNO  59713 non-null  int64  \n",
      " 5   PRICE        59713 non-null  float64\n",
      " 6   VOLUME       59713 non-null  int64  \n",
      "dtypes: float64(1), int64(5), object(1)\n",
      "memory usage: 3.6+ MB\n"
     ],
     "name": "stdout"
    }
   ]
  },
  {
   "cell_type": "code",
   "metadata": {
    "id": "-Z9inI-6fgaV",
    "colab": {
     "base_uri": "https://localhost:8080/"
    },
    "outputId": "1c50f29f-eb0a-4b0e-fba0-be289b743136"
   },
   "source": [
    "df_order['TRADENO'].value_counts()"
   ],
   "execution_count": null,
   "outputs": [
    {
     "output_type": "execute_result",
     "data": {
      "text/plain": [
       "163897150.0    2\n",
       "163897153.0    2\n",
       "163897151.0    2\n",
       "163897149.0    2\n",
       "163897154.0    2\n",
       "163897152.0    2\n",
       "Name: TRADENO, dtype: int64"
      ]
     },
     "metadata": {
      "tags": []
     },
     "execution_count": 107
    }
   ]
  },
  {
   "cell_type": "code",
   "metadata": {
    "id": "Vgu7M_QFfgaV"
   },
   "source": [
    "total_mistakes = 0\n",
    "\n",
    "def print_error(error):\n",
    "    global total_mistakes\n",
    "    print('-' * 40)\n",
    "    print(f'in row: {row[\"NO\"]}')\n",
    "    print(error)\n",
    "    print('-' * 40)\n",
    "    print()\n",
    "    total_mistakes += 1\n",
    "    \n",
    "def check_exists(df_cur, row, NO='ORDERNO'):\n",
    "    # check if the given ORDERNO exists\n",
    "    sub_df = df_cur[df_cur[NO] == row[NO]] \n",
    "    if len(sub_df) > 0:\n",
    "        return True, sub_df\n",
    "    # printing the error\n",
    "    else:\n",
    "        print_error(f\"ERROR: Record with {NO} {row[NO]} doesn't exist\")\n",
    "        return False, None\n",
    "    \n",
    "    \n",
    "def handle_revoke(df_cur, row):\n",
    "    # check if the given ORDERNO exists\n",
    "    check, sub_df = check_exists(df_cur, row)\n",
    "    if check:\n",
    "        series = sub_df.iloc[0]\n",
    "        # check if revoking volume is not greater than the current one\n",
    "        if series['VOLUME'] >= row['VOLUME']:                \n",
    "            if series['VOLUME'] == row['VOLUME']:\n",
    "                # removing the record\n",
    "                df_cur.drop(df_cur[df_cur['ORDERNO'] == row['ORDERNO']].index, inplace=True)\n",
    "            else:\n",
    "                # reducing the amount\n",
    "                df_cur.loc[df_cur[df_cur['ORDERNO'] == row['ORDERNO']].index, ['VOLUME']] = series['VOLUME'] - row['VOLUME']\n",
    "        # printing the error\n",
    "        else:\n",
    "            # Delete negative number\n",
    "            df_cur.drop(df_cur[df_cur['ORDERNO'] == row['ORDERNO']].index, inplace=True)\n",
    "            print_error(\"ERROR: Cannot revoke more that there is\")\n",
    "        \n",
    "        \n",
    "def handle_match(df_cur, row):\n",
    "    global df_trade\n",
    "    # check if the given ORDERNO exists\n",
    "    check, sub_df = check_exists(df_cur, row)\n",
    "    if check:\n",
    "        # check if the given tradeno exists in trade logs\n",
    "        check, sub_trade = check_exists(df_trade, row, 'TRADENO')       \n",
    "        if check:\n",
    "            series_trade = sub_trade.iloc[0]\n",
    "\n",
    "            seller = df_cur[df_cur['ORDERNO'] == series_trade['SELLORDERNO']]\n",
    "            buyer = df_cur[df_cur['ORDERNO'] == series_trade['BUYORDERNO']]\n",
    "\n",
    "            # check if seller and buyer exist\n",
    "            if len(seller) > 0 and len(buyer) > 0:\n",
    "                seller = seller.iloc[0]\n",
    "                buyer = buyer.iloc[0]\n",
    "\n",
    "                # check if the volume is ok\n",
    "                if seller['VOLUME'] >= row['VOLUME'] and buyer['VOLUME'] >= row['VOLUME']:\n",
    "                    if seller['VOLUME'] == row['VOLUME']:\n",
    "                        # removing the record\n",
    "                        df_cur.drop(df_cur[df_cur['ORDERNO'] == seller['ORDERNO']].index, inplace=True)\n",
    "                    else:\n",
    "                        # reducing the amount\n",
    "                        df_cur.loc[df_cur['ORDERNO'] == seller['ORDERNO'], ['VOLUME']] = seller['VOLUME'] - row['VOLUME']\n",
    "\n",
    "                    if buyer['VOLUME'] == row['VOLUME']:\n",
    "                        # removing the record\n",
    "                        df_cur.drop(df_cur[df_cur['ORDERNO'] == buyer['ORDERNO']].index, inplace=True)\n",
    "                    else:\n",
    "                        # reducing the amount\n",
    "                        df_cur.loc[df_cur['ORDERNO'] == buyer['ORDERNO'], ['VOLUME']] = buyer['VOLUME'] - row['VOLUME']\n",
    "\n",
    "                # printing the error\n",
    "                else:\n",
    "                    # Delete negative numbers\n",
    "                    if seller['VOLUME'] < row['VOLUME']:\n",
    "                        df_cur.drop(df_cur[df_cur['ORDERNO'] == seller['ORDERNO']].index, inplace=True)\n",
    "                    else:\n",
    "                        df_cur.loc[df_cur['ORDERNO'] == seller['ORDERNO'], ['VOLUME']] = seller['VOLUME'] - row['VOLUME']\n",
    "\n",
    "                    # Delete negative numbers\n",
    "                    if buyer['VOLUME'] < row['VOLUME']:\n",
    "                        df_cur.drop(df_cur[df_cur['ORDERNO'] == buyer['ORDERNO']].index, inplace=True)\n",
    "                    else:\n",
    "                        df_cur.loc[df_cur['ORDERNO'] == buyer['ORDERNO'], ['VOLUME']] = buyer['VOLUME'] - row['VOLUME']\n",
    "\n",
    "                    print_error(\"ERROR: Not enough amount for buying and/or selling\")\n",
    "\n",
    "            # printing the error\n",
    "            else:\n",
    "                print_error(f\"ERROR: There's no such buyer and/or seller\")               \n"
   ],
   "execution_count": null,
   "outputs": []
  },
  {
   "cell_type": "code",
   "metadata": {
    "id": "A98KhPEyfgaX",
    "colab": {
     "base_uri": "https://localhost:8080/",
     "height": 111
    },
    "outputId": "5e464513-51f1-416b-9e42-bd18b0109e51"
   },
   "source": [
    "df_order[df_order['PRICE'] == 0]"
   ],
   "execution_count": null,
   "outputs": [
    {
     "output_type": "execute_result",
     "data": {
      "text/html": [
       "<div>\n",
       "<style scoped>\n",
       "    .dataframe tbody tr th:only-of-type {\n",
       "        vertical-align: middle;\n",
       "    }\n",
       "\n",
       "    .dataframe tbody tr th {\n",
       "        vertical-align: top;\n",
       "    }\n",
       "\n",
       "    .dataframe thead th {\n",
       "        text-align: right;\n",
       "    }\n",
       "</style>\n",
       "<table border=\"1\" class=\"dataframe\">\n",
       "  <thead>\n",
       "    <tr style=\"text-align: right;\">\n",
       "      <th></th>\n",
       "      <th>NO</th>\n",
       "      <th>SECCODE</th>\n",
       "      <th>BUYSELL</th>\n",
       "      <th>TIME</th>\n",
       "      <th>ORDERNO</th>\n",
       "      <th>ACTION</th>\n",
       "      <th>PRICE</th>\n",
       "      <th>VOLUME</th>\n",
       "      <th>TRADENO</th>\n",
       "      <th>TRADEPRICE</th>\n",
       "    </tr>\n",
       "  </thead>\n",
       "  <tbody>\n",
       "    <tr>\n",
       "      <th>861</th>\n",
       "      <td>862</td>\n",
       "      <td>USD000UTSTOM</td>\n",
       "      <td>B</td>\n",
       "      <td>100001279110</td>\n",
       "      <td>701</td>\n",
       "      <td>1</td>\n",
       "      <td>0.0</td>\n",
       "      <td>1000</td>\n",
       "      <td>NaN</td>\n",
       "      <td>NaN</td>\n",
       "    </tr>\n",
       "    <tr>\n",
       "      <th>862</th>\n",
       "      <td>863</td>\n",
       "      <td>USD000UTSTOM</td>\n",
       "      <td>B</td>\n",
       "      <td>100001279110</td>\n",
       "      <td>701</td>\n",
       "      <td>2</td>\n",
       "      <td>0.0</td>\n",
       "      <td>1000</td>\n",
       "      <td>163897152.0</td>\n",
       "      <td>56.4475</td>\n",
       "    </tr>\n",
       "  </tbody>\n",
       "</table>\n",
       "</div>"
      ],
      "text/plain": [
       "      NO       SECCODE BUYSELL  ...  VOLUME      TRADENO  TRADEPRICE\n",
       "861  862  USD000UTSTOM       B  ...    1000          NaN         NaN\n",
       "862  863  USD000UTSTOM       B  ...    1000  163897152.0     56.4475\n",
       "\n",
       "[2 rows x 10 columns]"
      ]
     },
     "metadata": {
      "tags": []
     },
     "execution_count": 109
    }
   ]
  },
  {
   "cell_type": "code",
   "metadata": {
    "id": "XYZJEzHE4nTL",
    "colab": {
     "base_uri": "https://localhost:8080/",
     "height": 69
    },
    "outputId": "32f6846e-68aa-47f6-e184-321075230ca5"
   },
   "source": [
    "# ГОВНОКОД NO.1\n",
    "# блин хз возможно класс больше не нужен\n",
    "\n",
    "class Spectrum:\n",
    "  def __init__(self, seccode):\n",
    "        self.seccode = seccode \n",
    "        self.best_ask = 100000000\n",
    "        self.best_bid = -1\n",
    "        self.bids = [0]*10\n",
    "        self.asks = [0]*10"
   ],
   "execution_count": null,
   "outputs": [
    {
     "output_type": "execute_result",
     "data": {
      "application/vnd.google.colaboratory.intrinsic+json": {
       "type": "string"
      },
      "text/plain": [
       "'\\nоказалось ненужным :(\\n  def calculate_steps(self, step):\\n        b = self.best_bid\\n        a = self.best_ask\\n        bids = []\\n        asks = []\\n        asks.append(a)\\n        bids.append(b)\\n        a = a-step\\n        b=b+step\\n        for i in range(10):\\n          a = round(a+5*step, 5)\\n          asks.append(a)\\n          b = round(b-5*step, 5)\\n          bids.append(b)\\n        bids.reverse()\\n        return bids, asks\\n'"
      ]
     },
     "metadata": {
      "tags": []
     },
     "execution_count": 110
    }
   ]
  },
  {
   "cell_type": "code",
   "metadata": {
    "id": "yJnNXyMeCd5B"
   },
   "source": [
    "# Helper functions\n",
    "import math\n",
    "\n",
    "def distance_idx(dif, step):\n",
    "    return math.floor(dif/(step*5))"
   ],
   "execution_count": null,
   "outputs": []
  },
  {
   "cell_type": "code",
   "metadata": {
    "id": "umKJNMIb7Qk0"
   },
   "source": [
    "# ГОВНОКОД NO.2\n",
    "\n",
    "spectrums = dict()\n",
    "for i in instruments_info.keys():\n",
    "  spectrums[i] = Spectrum(i)"
   ],
   "execution_count": null,
   "outputs": []
  },
  {
   "cell_type": "code",
   "metadata": {
    "id": "5D5FexMaBnmw",
    "colab": {
     "base_uri": "https://localhost:8080/",
     "height": 171
    },
    "outputId": "e4b7e89e-a8da-4d53-bf4e-e7efeb1c08be"
   },
   "source": [
    "# ГОВНОКОД NO.3\n",
    "\n",
    "def change_spectrums(df_cur, row):\n",
    "    seccode = row['SECCODE']\n",
    "    step = instruments_info[seccode]['PRICE_STEP']\n",
    "\n",
    "    spectrum = spectrums[seccode]\n",
    "    \n",
    "    new_price = row['PRICE']\n",
    "\n",
    "    if row['ACTION'] == Action.POST:\n",
    "\n",
    "        if row['BUYSELL'] == 'B':\n",
    "            if new_price > spectrum.best_bid:\n",
    "                temp_b = df_cur.loc[(df_cur['SECCODE'] == seccode) & (df_cur['BUYSELL'] == 'B')]\n",
    "                spectrum.best_bid = new_price\n",
    "                new_bids = [0]*10\n",
    "\n",
    "                for index, row in temp_b.iterrows():\n",
    "                    price = row['PRICE']\n",
    "                    dif = spectrum.best_bid - price\n",
    "                    if dif > step*49:\n",
    "                        pass\n",
    "                    else:\n",
    "                        new_bids[9 - distance_idx(dif, step)] += row['VOLUME']\n",
    "\n",
    "                spectrum.bids = new_bids\n",
    "            elif new_price == spectrum.best_bid:\n",
    "                spectrum.bids[9] += row['VOLUME']\n",
    "            else:\n",
    "                dif = spectrum.best_bid-new_price\n",
    "                if dif > step*49:\n",
    "                    pass\n",
    "                else:\n",
    "                    spectrum.bids[9 - distance_idx(dif, step)] += row['VOLUME']\n",
    "\n",
    "        if row['BUYSELL'] == 'S':\n",
    "            if new_price < spectrum.best_ask:\n",
    "                temp_s = df_cur.loc[(df_cur['SECCODE'] == seccode) & (df_cur['BUYSELL'] == 'S')]\n",
    "                spectrum.best_ask = new_price\n",
    "                new_asks = [0]*10\n",
    "\n",
    "                for index, row in temp_s.iterrows():\n",
    "                    price = row['PRICE']\n",
    "                    dif = price-spectrum.best_ask\n",
    "                    if dif > step*49:\n",
    "                        pass\n",
    "                    else:\n",
    "                        new_asks[distance_idx(dif, step)] += row['VOLUME']\n",
    "\n",
    "                spectrum.asks = new_asks\n",
    "            elif new_price == spectrum.best_ask:\n",
    "                spectrum.asks[0] += row['VOLUME']\n",
    "            else:\n",
    "                dif = new_price-spectrum.best_ask\n",
    "                if dif > step*49:\n",
    "                    pass\n",
    "                else:\n",
    "                    spectrum.asks[distance_idx(dif, step)] += row['VOLUME']\n",
    "\n",
    "    # проверить если прайс = бест\n",
    "    #elif row['ACTION'] == Action.REVOKE:\n",
    "    else:\n",
    "        if row['BUYSELL'] == 'B':\n",
    "\n",
    "            if new_price == spectrum.best_bid:\n",
    "                if row['VOLUME'] >= spectrum.bids[9]:\n",
    "                    temp_b = df_cur.loc[(df_cur['SECCODE'] == seccode) & (df_cur['BUYSELL'] == 'B')]\n",
    "                    spectrum.best_bid = temp_b['PRICE'].max()\n",
    "                    new_bids = [0]*10\n",
    "\n",
    "                    for index, row in temp_b.iterrows():\n",
    "                        price = row['PRICE']\n",
    "                        dif = spectrum.best_bid - price\n",
    "                        if dif > step*49:\n",
    "                            pass\n",
    "                        else:\n",
    "                            new_bids[9 - distance_idx(dif, step)] += row['VOLUME']\n",
    "\n",
    "                    spectrum.bids = new_bids\n",
    "                else:\n",
    "                    spectrum.bids[9] -= row['VOLUME']\n",
    "\n",
    "            elif new_price > spectrum.best_bid:\n",
    "                pass\n",
    "            else:\n",
    "                dif = spectrum.best_bid - new_price\n",
    "                if dif > step*49:\n",
    "                    pass\n",
    "                else:\n",
    "                    spectrum.bids[9 - distance_idx(dif, step)] -= row['VOLUME']\n",
    "\n",
    "                if spectrum.bids[9 - distance_idx(dif, step)] < 0:\n",
    "                    spectrum.bids[9 - distance_idx(dif, step)] = 0\n",
    "\n",
    "        if row['BUYSELL'] == 'S':\n",
    "\n",
    "            if new_price == spectrum.best_ask:\n",
    "                if row['VOLUME'] >= spectrum.asks[0]:\n",
    "                    temp_s = df_cur.loc[(df_cur['SECCODE'] == seccode) & (df_cur['BUYSELL'] == 'S')]\n",
    "                    spectrum.best_ask = temp_s['PRICE'].min()\n",
    "                    new_asks = [0]*10\n",
    "\n",
    "                    for index, row in temp_s.iterrows():\n",
    "                        price = row['PRICE']\n",
    "                        dif = price - spectrum.best_ask\n",
    "                        if dif > step*49:\n",
    "                            pass\n",
    "                        else:\n",
    "                            new_asks[distance_idx(dif, step)] += row['VOLUME']\n",
    "\n",
    "                    spectrum.asks = new_asks\n",
    "                else:\n",
    "                    spectrum.asks[0] -= row['VOLUME']\n",
    "\n",
    "            elif new_price < spectrum.best_ask:\n",
    "                pass\n",
    "            else:\n",
    "                dif = new_price-spectrum.best_ask\n",
    "                if dif > step*49:\n",
    "                    pass\n",
    "                else:\n",
    "                    spectrum.asks[distance_idx(dif, step)] -= row['VOLUME']\n",
    "                    if spectrum.asks[distance_idx(dif, step)] < 0:\n",
    "                        spectrum.asks[distance_idx(dif, step)] = 0\n",
    "\n",
    "    b = spectrum.bids.copy()\n",
    "    b.extend(spectrum.asks)\n",
    "    \n",
    "    return b"
   ],
   "execution_count": null,
   "outputs": [
    {
     "output_type": "execute_result",
     "data": {
      "application/vnd.google.colaboratory.intrinsic+json": {
       "type": "string"
      },
      "text/plain": [
       "\"\\n    temp_b = df_cur.loc[(df_cur['SECCODE'] == seccode) & (df_cur['BUYSELL'] == 'B')]\\n    temp_s = df_cur.loc[(df_cur['SECCODE'] == seccode) & (df_cur['BUYSELL'] == 'S')]\\n    spectrum.best_bid = temp_b['PRICE'].max()\\n    spectrum.best_ask = temp_s['PRICE'].min()\\n    #bids, asks = spectrum.calculate_steps(step)\\n    values = [0] * 20\\n    for index, row in temp_s.iterrows():\\n      price = row['PRICE']\\n      dif = price - spectrum.best_ask\\n      if dif > step*49:\\n        pass\\n      else:\\n        values[10+math.floor(dif/(step*5))] += row['VOLUME']\\n    for index, row in temp_b.iterrows():\\n      price = row['PRICE']\\n      dif = spectrum.best_bid - price\\n      if dif > step*49:\\n        pass\\n      else:\\n        values[math.floor(dif/(step*5))] += row['VOLUME']\\n    return values\\n\""
      ]
     },
     "metadata": {
      "tags": []
     },
     "execution_count": 113
    }
   ]
  },
  {
   "cell_type": "code",
   "metadata": {
    "scrolled": true,
    "id": "h1KPbRtMfgaX",
    "colab": {
     "base_uri": "https://localhost:8080/"
    },
    "outputId": "e5f4ca84-9ea4-4cd2-f2ed-ab210113210d"
   },
   "source": [
    "start = time.time()\n",
    "k = 0\n",
    "# empty df for keeping track\n",
    "df_cur = pd.DataFrame(columns=df_order.columns)\n",
    "df_spec = pd.DataFrame(columns=['SECCODE', 'TIMESTAMP', 'BID_ASK'])\n",
    "\n",
    "# for processing each TRADENO only once\n",
    "matches = []\n",
    "\n",
    "# iterating through the order book\n",
    "for index, row in df_order.iterrows():\n",
    "    # if post -> add to df_cur\n",
    "    if row['ACTION'] == Action.POST:\n",
    "        df_cur = df_cur.append(row)\n",
    "        \n",
    "    \n",
    "    elif row['ACTION'] == Action.REVOKE:\n",
    "        handle_revoke(df_cur, row)\n",
    "       \n",
    "        \n",
    "    elif row['ACTION'] == Action.MATCH:\n",
    "        if row['TRADENO'] in matches:\n",
    "            matches.remove(row['TRADENO'])\n",
    "            continue\n",
    "        else:\n",
    "            matches.append(row['TRADENO'])\n",
    "            handle_match(df_cur, row)\n",
    "    \n",
    "    # для каждой новой row считаем спектрум и добавляем в файлик\n",
    "    values = change_spectrums(df_cur, row)\n",
    "    d = { 'SECCODE': row['SECCODE'], 'TIMESTAMP': row['TIME'], 'BID_ASK': values }\n",
    "    df_spec = df_spec.append(d, ignore_index=True)\n",
    "    #print(values)\n",
    "    k += 1\n",
    "    if k%50000 == 0:\n",
    "        df_spec.to_csv('/content/drive/MyDrive/DataMining/spectrums/'+str(k//50000)+'.csv')  \n",
    "\n",
    "   \n",
    "df_cur.to_csv('no-thread-lol.csv')\n",
    "df_spec.to_csv('spectru.csv')\n",
    "\n",
    "end = time.time()\n",
    "\n",
    "print(end - start)"
   ],
   "execution_count": null,
   "outputs": [
    {
     "output_type": "stream",
     "text": [
      "7.510370254516602\n"
     ],
     "name": "stdout"
    }
   ]
  },
  {
   "cell_type": "code",
   "metadata": {
    "id": "aJB4qxgTRG9b"
   },
   "source": [
    "df_spec.to_csv('/content/drive/MyDrive/DataMining/spectrum.csv')"
   ],
   "execution_count": null,
   "outputs": []
  },
  {
   "cell_type": "code",
   "metadata": {
    "id": "xzxKH6pusUdY",
    "colab": {
     "base_uri": "https://localhost:8080/",
     "height": 419
    },
    "outputId": "412ec997-8d6f-4a81-d93b-95206a06e943"
   },
   "source": [
    "df_spec"
   ],
   "execution_count": null,
   "outputs": [
    {
     "output_type": "execute_result",
     "data": {
      "text/html": [
       "<div>\n",
       "<style scoped>\n",
       "    .dataframe tbody tr th:only-of-type {\n",
       "        vertical-align: middle;\n",
       "    }\n",
       "\n",
       "    .dataframe tbody tr th {\n",
       "        vertical-align: top;\n",
       "    }\n",
       "\n",
       "    .dataframe thead th {\n",
       "        text-align: right;\n",
       "    }\n",
       "</style>\n",
       "<table border=\"1\" class=\"dataframe\">\n",
       "  <thead>\n",
       "    <tr style=\"text-align: right;\">\n",
       "      <th></th>\n",
       "      <th>SECCODE</th>\n",
       "      <th>TIMESTAMP</th>\n",
       "      <th>BID_ASK</th>\n",
       "    </tr>\n",
       "  </thead>\n",
       "  <tbody>\n",
       "    <tr>\n",
       "      <th>0</th>\n",
       "      <td>EUR_RUB__TOD</td>\n",
       "      <td>100000050299</td>\n",
       "      <td>[0, 0, 0, 0, 0, 0, 0, 0, 0, 1000000, 0, 0, 0, ...</td>\n",
       "    </tr>\n",
       "    <tr>\n",
       "      <th>1</th>\n",
       "      <td>USD000000TOD</td>\n",
       "      <td>100000050316</td>\n",
       "      <td>[0, 0, 0, 0, 0, 0, 0, 0, 0, 0, 1000000, 0, 0, ...</td>\n",
       "    </tr>\n",
       "    <tr>\n",
       "      <th>2</th>\n",
       "      <td>EUR_RUB__TOD</td>\n",
       "      <td>100000050325</td>\n",
       "      <td>[0, 0, 0, 0, 0, 0, 0, 0, 0, 1000000, 1000000, ...</td>\n",
       "    </tr>\n",
       "    <tr>\n",
       "      <th>3</th>\n",
       "      <td>EUR_RUB__TOM</td>\n",
       "      <td>100000050353</td>\n",
       "      <td>[0, 0, 0, 0, 0, 0, 0, 0, 0, 1000000, 0, 0, 0, ...</td>\n",
       "    </tr>\n",
       "    <tr>\n",
       "      <th>4</th>\n",
       "      <td>USD000000TOD</td>\n",
       "      <td>100000050361</td>\n",
       "      <td>[0, 0, 0, 0, 0, 0, 0, 0, 0, 1000000, 1000000, ...</td>\n",
       "    </tr>\n",
       "    <tr>\n",
       "      <th>...</th>\n",
       "      <td>...</td>\n",
       "      <td>...</td>\n",
       "      <td>...</td>\n",
       "    </tr>\n",
       "    <tr>\n",
       "      <th>989</th>\n",
       "      <td>USD000UTSTOM</td>\n",
       "      <td>100001547275</td>\n",
       "      <td>[0, 1011000, 0, 0, 1000, 202000, 652000, 10000...</td>\n",
       "    </tr>\n",
       "    <tr>\n",
       "      <th>990</th>\n",
       "      <td>USD000UTSTOM</td>\n",
       "      <td>100001547275</td>\n",
       "      <td>[0, 1011000, 0, 0, 1000, 202000, 450000, 10000...</td>\n",
       "    </tr>\n",
       "    <tr>\n",
       "      <th>991</th>\n",
       "      <td>USD000UTSTOM</td>\n",
       "      <td>100001547333</td>\n",
       "      <td>[0, 1011000, 0, 0, 1000, 202000, 450000, 10000...</td>\n",
       "    </tr>\n",
       "    <tr>\n",
       "      <th>992</th>\n",
       "      <td>USD000UTSTOM</td>\n",
       "      <td>100001547333</td>\n",
       "      <td>[0, 1011000, 0, 0, 1000, 202000, 450000, 10000...</td>\n",
       "    </tr>\n",
       "    <tr>\n",
       "      <th>993</th>\n",
       "      <td>USD000UTSTOM</td>\n",
       "      <td>100001547493</td>\n",
       "      <td>[0, 1011000, 0, 0, 1000, 202000, 450000, 10000...</td>\n",
       "    </tr>\n",
       "  </tbody>\n",
       "</table>\n",
       "<p>994 rows × 3 columns</p>\n",
       "</div>"
      ],
      "text/plain": [
       "          SECCODE  ...                                            BID_ASK\n",
       "0    EUR_RUB__TOD  ...  [0, 0, 0, 0, 0, 0, 0, 0, 0, 1000000, 0, 0, 0, ...\n",
       "1    USD000000TOD  ...  [0, 0, 0, 0, 0, 0, 0, 0, 0, 0, 1000000, 0, 0, ...\n",
       "2    EUR_RUB__TOD  ...  [0, 0, 0, 0, 0, 0, 0, 0, 0, 1000000, 1000000, ...\n",
       "3    EUR_RUB__TOM  ...  [0, 0, 0, 0, 0, 0, 0, 0, 0, 1000000, 0, 0, 0, ...\n",
       "4    USD000000TOD  ...  [0, 0, 0, 0, 0, 0, 0, 0, 0, 1000000, 1000000, ...\n",
       "..            ...  ...                                                ...\n",
       "989  USD000UTSTOM  ...  [0, 1011000, 0, 0, 1000, 202000, 652000, 10000...\n",
       "990  USD000UTSTOM  ...  [0, 1011000, 0, 0, 1000, 202000, 450000, 10000...\n",
       "991  USD000UTSTOM  ...  [0, 1011000, 0, 0, 1000, 202000, 450000, 10000...\n",
       "992  USD000UTSTOM  ...  [0, 1011000, 0, 0, 1000, 202000, 450000, 10000...\n",
       "993  USD000UTSTOM  ...  [0, 1011000, 0, 0, 1000, 202000, 450000, 10000...\n",
       "\n",
       "[994 rows x 3 columns]"
      ]
     },
     "metadata": {
      "tags": []
     },
     "execution_count": 116
    }
   ]
  },
  {
   "cell_type": "code",
   "metadata": {
    "id": "LAKApH3HfgaY"
   },
   "source": [
    "final = df_cur.groupby(['SECCODE','BUYSELL','PRICE'])['VOLUME'].sum().reset_index()\\\n",
    "    .sort_values(by=['SECCODE', 'BUYSELL', 'PRICE'])"
   ],
   "execution_count": null,
   "outputs": []
  },
  {
   "cell_type": "code",
   "metadata": {
    "id": "VGXqgO1zfgaZ",
    "colab": {
     "base_uri": "https://localhost:8080/",
     "height": 419
    },
    "outputId": "1526c836-e5a0-4072-88a6-187a0e2993a2"
   },
   "source": [
    "final"
   ],
   "execution_count": null,
   "outputs": [
    {
     "output_type": "execute_result",
     "data": {
      "text/html": [
       "<div>\n",
       "<style scoped>\n",
       "    .dataframe tbody tr th:only-of-type {\n",
       "        vertical-align: middle;\n",
       "    }\n",
       "\n",
       "    .dataframe tbody tr th {\n",
       "        vertical-align: top;\n",
       "    }\n",
       "\n",
       "    .dataframe thead th {\n",
       "        text-align: right;\n",
       "    }\n",
       "</style>\n",
       "<table border=\"1\" class=\"dataframe\">\n",
       "  <thead>\n",
       "    <tr style=\"text-align: right;\">\n",
       "      <th></th>\n",
       "      <th>SECCODE</th>\n",
       "      <th>BUYSELL</th>\n",
       "      <th>PRICE</th>\n",
       "      <th>VOLUME</th>\n",
       "    </tr>\n",
       "  </thead>\n",
       "  <tbody>\n",
       "    <tr>\n",
       "      <th>0</th>\n",
       "      <td>EURUSD000TOD</td>\n",
       "      <td>B</td>\n",
       "      <td>1.22026</td>\n",
       "      <td>1000000</td>\n",
       "    </tr>\n",
       "    <tr>\n",
       "      <th>1</th>\n",
       "      <td>EURUSD000TOD</td>\n",
       "      <td>S</td>\n",
       "      <td>1.22041</td>\n",
       "      <td>1000000</td>\n",
       "    </tr>\n",
       "    <tr>\n",
       "      <th>2</th>\n",
       "      <td>EURUSD000TOM</td>\n",
       "      <td>B</td>\n",
       "      <td>1.22010</td>\n",
       "      <td>1000000</td>\n",
       "    </tr>\n",
       "    <tr>\n",
       "      <th>3</th>\n",
       "      <td>EURUSD000TOM</td>\n",
       "      <td>B</td>\n",
       "      <td>1.22015</td>\n",
       "      <td>1000000</td>\n",
       "    </tr>\n",
       "    <tr>\n",
       "      <th>4</th>\n",
       "      <td>EURUSD000TOM</td>\n",
       "      <td>B</td>\n",
       "      <td>1.22016</td>\n",
       "      <td>1000000</td>\n",
       "    </tr>\n",
       "    <tr>\n",
       "      <th>...</th>\n",
       "      <td>...</td>\n",
       "      <td>...</td>\n",
       "      <td>...</td>\n",
       "      <td>...</td>\n",
       "    </tr>\n",
       "    <tr>\n",
       "      <th>493</th>\n",
       "      <td>USD000UTSTOM</td>\n",
       "      <td>S</td>\n",
       "      <td>58.79000</td>\n",
       "      <td>2000</td>\n",
       "    </tr>\n",
       "    <tr>\n",
       "      <th>494</th>\n",
       "      <td>USD000UTSTOM</td>\n",
       "      <td>S</td>\n",
       "      <td>58.80000</td>\n",
       "      <td>62000</td>\n",
       "    </tr>\n",
       "    <tr>\n",
       "      <th>495</th>\n",
       "      <td>USD000UTSTOM</td>\n",
       "      <td>S</td>\n",
       "      <td>58.81000</td>\n",
       "      <td>25000</td>\n",
       "    </tr>\n",
       "    <tr>\n",
       "      <th>496</th>\n",
       "      <td>USD000UTSTOM</td>\n",
       "      <td>S</td>\n",
       "      <td>58.86000</td>\n",
       "      <td>7000</td>\n",
       "    </tr>\n",
       "    <tr>\n",
       "      <th>497</th>\n",
       "      <td>USD000UTSTOM</td>\n",
       "      <td>S</td>\n",
       "      <td>58.86500</td>\n",
       "      <td>1000</td>\n",
       "    </tr>\n",
       "  </tbody>\n",
       "</table>\n",
       "<p>498 rows × 4 columns</p>\n",
       "</div>"
      ],
      "text/plain": [
       "          SECCODE BUYSELL     PRICE   VOLUME\n",
       "0    EURUSD000TOD       B   1.22026  1000000\n",
       "1    EURUSD000TOD       S   1.22041  1000000\n",
       "2    EURUSD000TOM       B   1.22010  1000000\n",
       "3    EURUSD000TOM       B   1.22015  1000000\n",
       "4    EURUSD000TOM       B   1.22016  1000000\n",
       "..            ...     ...       ...      ...\n",
       "493  USD000UTSTOM       S  58.79000     2000\n",
       "494  USD000UTSTOM       S  58.80000    62000\n",
       "495  USD000UTSTOM       S  58.81000    25000\n",
       "496  USD000UTSTOM       S  58.86000     7000\n",
       "497  USD000UTSTOM       S  58.86500     1000\n",
       "\n",
       "[498 rows x 4 columns]"
      ]
     },
     "metadata": {
      "tags": []
     },
     "execution_count": 118
    }
   ]
  },
  {
   "cell_type": "code",
   "metadata": {
    "id": "UxRC99m1fgaZ"
   },
   "source": [
    "final.to_csv('OrderBook' + OrderLog[8:] +'.csv')"
   ],
   "execution_count": null,
   "outputs": []
  },
  {
   "cell_type": "markdown",
   "metadata": {
    "id": "A_8OwHLCfgaa"
   },
   "source": [
    "### Mistakes in dataset\n",
    "\n",
    "#### Incorrect volumes"
   ]
  },
  {
   "cell_type": "code",
   "metadata": {
    "id": "dN-igco9fgab",
    "colab": {
     "base_uri": "https://localhost:8080/",
     "height": 49
    },
    "outputId": "09a746d5-fcd1-43cd-ef79-8b312348988d"
   },
   "source": [
    "df_order[df_order['NO'] == 95871]"
   ],
   "execution_count": null,
   "outputs": [
    {
     "output_type": "execute_result",
     "data": {
      "text/html": [
       "<div>\n",
       "<style scoped>\n",
       "    .dataframe tbody tr th:only-of-type {\n",
       "        vertical-align: middle;\n",
       "    }\n",
       "\n",
       "    .dataframe tbody tr th {\n",
       "        vertical-align: top;\n",
       "    }\n",
       "\n",
       "    .dataframe thead th {\n",
       "        text-align: right;\n",
       "    }\n",
       "</style>\n",
       "<table border=\"1\" class=\"dataframe\">\n",
       "  <thead>\n",
       "    <tr style=\"text-align: right;\">\n",
       "      <th></th>\n",
       "      <th>NO</th>\n",
       "      <th>SECCODE</th>\n",
       "      <th>BUYSELL</th>\n",
       "      <th>TIME</th>\n",
       "      <th>ORDERNO</th>\n",
       "      <th>ACTION</th>\n",
       "      <th>PRICE</th>\n",
       "      <th>VOLUME</th>\n",
       "      <th>TRADENO</th>\n",
       "      <th>TRADEPRICE</th>\n",
       "    </tr>\n",
       "  </thead>\n",
       "  <tbody>\n",
       "  </tbody>\n",
       "</table>\n",
       "</div>"
      ],
      "text/plain": [
       "Empty DataFrame\n",
       "Columns: [NO, SECCODE, BUYSELL, TIME, ORDERNO, ACTION, PRICE, VOLUME, TRADENO, TRADEPRICE]\n",
       "Index: []"
      ]
     },
     "metadata": {
      "tags": []
     },
     "execution_count": 121
    }
   ]
  },
  {
   "cell_type": "code",
   "metadata": {
    "id": "8fGcelaWfgab",
    "colab": {
     "base_uri": "https://localhost:8080/",
     "height": 49
    },
    "outputId": "21e1e841-16f2-4b24-a3ff-c09b95d92d3e"
   },
   "source": [
    "df_order[df_order['ORDERNO'] == 48103]"
   ],
   "execution_count": null,
   "outputs": [
    {
     "output_type": "execute_result",
     "data": {
      "text/html": [
       "<div>\n",
       "<style scoped>\n",
       "    .dataframe tbody tr th:only-of-type {\n",
       "        vertical-align: middle;\n",
       "    }\n",
       "\n",
       "    .dataframe tbody tr th {\n",
       "        vertical-align: top;\n",
       "    }\n",
       "\n",
       "    .dataframe thead th {\n",
       "        text-align: right;\n",
       "    }\n",
       "</style>\n",
       "<table border=\"1\" class=\"dataframe\">\n",
       "  <thead>\n",
       "    <tr style=\"text-align: right;\">\n",
       "      <th></th>\n",
       "      <th>NO</th>\n",
       "      <th>SECCODE</th>\n",
       "      <th>BUYSELL</th>\n",
       "      <th>TIME</th>\n",
       "      <th>ORDERNO</th>\n",
       "      <th>ACTION</th>\n",
       "      <th>PRICE</th>\n",
       "      <th>VOLUME</th>\n",
       "      <th>TRADENO</th>\n",
       "      <th>TRADEPRICE</th>\n",
       "    </tr>\n",
       "  </thead>\n",
       "  <tbody>\n",
       "  </tbody>\n",
       "</table>\n",
       "</div>"
      ],
      "text/plain": [
       "Empty DataFrame\n",
       "Columns: [NO, SECCODE, BUYSELL, TIME, ORDERNO, ACTION, PRICE, VOLUME, TRADENO, TRADEPRICE]\n",
       "Index: []"
      ]
     },
     "metadata": {
      "tags": []
     },
     "execution_count": 122
    }
   ]
  },
  {
   "cell_type": "code",
   "metadata": {
    "id": "5W70J_pxfgab",
    "colab": {
     "base_uri": "https://localhost:8080/",
     "height": 49
    },
    "outputId": "16403818-ae44-4609-cb37-071ad1743888"
   },
   "source": [
    "df_trade[df_trade['TRADENO'] == 164004000]"
   ],
   "execution_count": null,
   "outputs": [
    {
     "output_type": "execute_result",
     "data": {
      "text/html": [
       "<div>\n",
       "<style scoped>\n",
       "    .dataframe tbody tr th:only-of-type {\n",
       "        vertical-align: middle;\n",
       "    }\n",
       "\n",
       "    .dataframe tbody tr th {\n",
       "        vertical-align: top;\n",
       "    }\n",
       "\n",
       "    .dataframe thead th {\n",
       "        text-align: right;\n",
       "    }\n",
       "</style>\n",
       "<table border=\"1\" class=\"dataframe\">\n",
       "  <thead>\n",
       "    <tr style=\"text-align: right;\">\n",
       "      <th></th>\n",
       "      <th>TRADENO</th>\n",
       "      <th>SECCODE</th>\n",
       "      <th>TIME</th>\n",
       "      <th>BUYORDERNO</th>\n",
       "      <th>SELLORDERNO</th>\n",
       "      <th>PRICE</th>\n",
       "      <th>VOLUME</th>\n",
       "    </tr>\n",
       "  </thead>\n",
       "  <tbody>\n",
       "  </tbody>\n",
       "</table>\n",
       "</div>"
      ],
      "text/plain": [
       "Empty DataFrame\n",
       "Columns: [TRADENO, SECCODE, TIME, BUYORDERNO, SELLORDERNO, PRICE, VOLUME]\n",
       "Index: []"
      ]
     },
     "metadata": {
      "tags": []
     },
     "execution_count": 123
    }
   ]
  },
  {
   "cell_type": "code",
   "metadata": {
    "scrolled": false,
    "id": "RTCxxrr4fgac",
    "colab": {
     "base_uri": "https://localhost:8080/",
     "height": 49
    },
    "outputId": "498349d1-c7ea-4621-ab18-292b1e0f2a29"
   },
   "source": [
    "df_order[df_order['ORDERNO'] == 48095]"
   ],
   "execution_count": null,
   "outputs": [
    {
     "output_type": "execute_result",
     "data": {
      "text/html": [
       "<div>\n",
       "<style scoped>\n",
       "    .dataframe tbody tr th:only-of-type {\n",
       "        vertical-align: middle;\n",
       "    }\n",
       "\n",
       "    .dataframe tbody tr th {\n",
       "        vertical-align: top;\n",
       "    }\n",
       "\n",
       "    .dataframe thead th {\n",
       "        text-align: right;\n",
       "    }\n",
       "</style>\n",
       "<table border=\"1\" class=\"dataframe\">\n",
       "  <thead>\n",
       "    <tr style=\"text-align: right;\">\n",
       "      <th></th>\n",
       "      <th>NO</th>\n",
       "      <th>SECCODE</th>\n",
       "      <th>BUYSELL</th>\n",
       "      <th>TIME</th>\n",
       "      <th>ORDERNO</th>\n",
       "      <th>ACTION</th>\n",
       "      <th>PRICE</th>\n",
       "      <th>VOLUME</th>\n",
       "      <th>TRADENO</th>\n",
       "      <th>TRADEPRICE</th>\n",
       "    </tr>\n",
       "  </thead>\n",
       "  <tbody>\n",
       "  </tbody>\n",
       "</table>\n",
       "</div>"
      ],
      "text/plain": [
       "Empty DataFrame\n",
       "Columns: [NO, SECCODE, BUYSELL, TIME, ORDERNO, ACTION, PRICE, VOLUME, TRADENO, TRADEPRICE]\n",
       "Index: []"
      ]
     },
     "metadata": {
      "tags": []
     },
     "execution_count": 124
    }
   ]
  },
  {
   "cell_type": "markdown",
   "metadata": {
    "id": "5jMTfxUIfgac"
   },
   "source": [
    "#### Вот тут думаю надо исправить (кривой порядок NO в одном TIME)\n",
    "\n",
    "#### upd: temporarly solved"
   ]
  },
  {
   "cell_type": "code",
   "metadata": {
    "id": "OFJC8qJlfgad",
    "colab": {
     "base_uri": "https://localhost:8080/",
     "height": 49
    },
    "outputId": "63971594-e582-4d3f-bbbd-8a08e74e6b47"
   },
   "source": [
    "df_order[df_order['NO'] == 95877]"
   ],
   "execution_count": null,
   "outputs": [
    {
     "output_type": "execute_result",
     "data": {
      "text/html": [
       "<div>\n",
       "<style scoped>\n",
       "    .dataframe tbody tr th:only-of-type {\n",
       "        vertical-align: middle;\n",
       "    }\n",
       "\n",
       "    .dataframe tbody tr th {\n",
       "        vertical-align: top;\n",
       "    }\n",
       "\n",
       "    .dataframe thead th {\n",
       "        text-align: right;\n",
       "    }\n",
       "</style>\n",
       "<table border=\"1\" class=\"dataframe\">\n",
       "  <thead>\n",
       "    <tr style=\"text-align: right;\">\n",
       "      <th></th>\n",
       "      <th>NO</th>\n",
       "      <th>SECCODE</th>\n",
       "      <th>BUYSELL</th>\n",
       "      <th>TIME</th>\n",
       "      <th>ORDERNO</th>\n",
       "      <th>ACTION</th>\n",
       "      <th>PRICE</th>\n",
       "      <th>VOLUME</th>\n",
       "      <th>TRADENO</th>\n",
       "      <th>TRADEPRICE</th>\n",
       "    </tr>\n",
       "  </thead>\n",
       "  <tbody>\n",
       "  </tbody>\n",
       "</table>\n",
       "</div>"
      ],
      "text/plain": [
       "Empty DataFrame\n",
       "Columns: [NO, SECCODE, BUYSELL, TIME, ORDERNO, ACTION, PRICE, VOLUME, TRADENO, TRADEPRICE]\n",
       "Index: []"
      ]
     },
     "metadata": {
      "tags": []
     },
     "execution_count": 125
    }
   ]
  },
  {
   "cell_type": "code",
   "metadata": {
    "id": "Y-9Pqv2ofgad",
    "colab": {
     "base_uri": "https://localhost:8080/",
     "height": 49
    },
    "outputId": "529f012a-0959-404b-da65-358ebcabb6ac"
   },
   "source": [
    "df_order[df_order['ORDERNO'] == 48104]"
   ],
   "execution_count": null,
   "outputs": [
    {
     "output_type": "execute_result",
     "data": {
      "text/html": [
       "<div>\n",
       "<style scoped>\n",
       "    .dataframe tbody tr th:only-of-type {\n",
       "        vertical-align: middle;\n",
       "    }\n",
       "\n",
       "    .dataframe tbody tr th {\n",
       "        vertical-align: top;\n",
       "    }\n",
       "\n",
       "    .dataframe thead th {\n",
       "        text-align: right;\n",
       "    }\n",
       "</style>\n",
       "<table border=\"1\" class=\"dataframe\">\n",
       "  <thead>\n",
       "    <tr style=\"text-align: right;\">\n",
       "      <th></th>\n",
       "      <th>NO</th>\n",
       "      <th>SECCODE</th>\n",
       "      <th>BUYSELL</th>\n",
       "      <th>TIME</th>\n",
       "      <th>ORDERNO</th>\n",
       "      <th>ACTION</th>\n",
       "      <th>PRICE</th>\n",
       "      <th>VOLUME</th>\n",
       "      <th>TRADENO</th>\n",
       "      <th>TRADEPRICE</th>\n",
       "    </tr>\n",
       "  </thead>\n",
       "  <tbody>\n",
       "  </tbody>\n",
       "</table>\n",
       "</div>"
      ],
      "text/plain": [
       "Empty DataFrame\n",
       "Columns: [NO, SECCODE, BUYSELL, TIME, ORDERNO, ACTION, PRICE, VOLUME, TRADENO, TRADEPRICE]\n",
       "Index: []"
      ]
     },
     "metadata": {
      "tags": []
     },
     "execution_count": 126
    }
   ]
  },
  {
   "cell_type": "code",
   "metadata": {
    "id": "K0N8LT_8fgae",
    "colab": {
     "base_uri": "https://localhost:8080/",
     "height": 49
    },
    "outputId": "96e25999-50f6-4178-c3c0-5b5a6ba16d7d"
   },
   "source": [
    "df_trade[df_trade['TRADENO'] == 164004001]"
   ],
   "execution_count": null,
   "outputs": [
    {
     "output_type": "execute_result",
     "data": {
      "text/html": [
       "<div>\n",
       "<style scoped>\n",
       "    .dataframe tbody tr th:only-of-type {\n",
       "        vertical-align: middle;\n",
       "    }\n",
       "\n",
       "    .dataframe tbody tr th {\n",
       "        vertical-align: top;\n",
       "    }\n",
       "\n",
       "    .dataframe thead th {\n",
       "        text-align: right;\n",
       "    }\n",
       "</style>\n",
       "<table border=\"1\" class=\"dataframe\">\n",
       "  <thead>\n",
       "    <tr style=\"text-align: right;\">\n",
       "      <th></th>\n",
       "      <th>TRADENO</th>\n",
       "      <th>SECCODE</th>\n",
       "      <th>TIME</th>\n",
       "      <th>BUYORDERNO</th>\n",
       "      <th>SELLORDERNO</th>\n",
       "      <th>PRICE</th>\n",
       "      <th>VOLUME</th>\n",
       "    </tr>\n",
       "  </thead>\n",
       "  <tbody>\n",
       "  </tbody>\n",
       "</table>\n",
       "</div>"
      ],
      "text/plain": [
       "Empty DataFrame\n",
       "Columns: [TRADENO, SECCODE, TIME, BUYORDERNO, SELLORDERNO, PRICE, VOLUME]\n",
       "Index: []"
      ]
     },
     "metadata": {
      "tags": []
     },
     "execution_count": 127
    }
   ]
  },
  {
   "cell_type": "code",
   "metadata": {
    "id": "yN70Qfztfgae",
    "colab": {
     "base_uri": "https://localhost:8080/",
     "height": 49
    },
    "outputId": "7015d48a-a9ff-47f1-c927-bda713aa2f28"
   },
   "source": [
    "df_order[df_order['ORDERNO'] == 48105]"
   ],
   "execution_count": null,
   "outputs": [
    {
     "output_type": "execute_result",
     "data": {
      "text/html": [
       "<div>\n",
       "<style scoped>\n",
       "    .dataframe tbody tr th:only-of-type {\n",
       "        vertical-align: middle;\n",
       "    }\n",
       "\n",
       "    .dataframe tbody tr th {\n",
       "        vertical-align: top;\n",
       "    }\n",
       "\n",
       "    .dataframe thead th {\n",
       "        text-align: right;\n",
       "    }\n",
       "</style>\n",
       "<table border=\"1\" class=\"dataframe\">\n",
       "  <thead>\n",
       "    <tr style=\"text-align: right;\">\n",
       "      <th></th>\n",
       "      <th>NO</th>\n",
       "      <th>SECCODE</th>\n",
       "      <th>BUYSELL</th>\n",
       "      <th>TIME</th>\n",
       "      <th>ORDERNO</th>\n",
       "      <th>ACTION</th>\n",
       "      <th>PRICE</th>\n",
       "      <th>VOLUME</th>\n",
       "      <th>TRADENO</th>\n",
       "      <th>TRADEPRICE</th>\n",
       "    </tr>\n",
       "  </thead>\n",
       "  <tbody>\n",
       "  </tbody>\n",
       "</table>\n",
       "</div>"
      ],
      "text/plain": [
       "Empty DataFrame\n",
       "Columns: [NO, SECCODE, BUYSELL, TIME, ORDERNO, ACTION, PRICE, VOLUME, TRADENO, TRADEPRICE]\n",
       "Index: []"
      ]
     },
     "metadata": {
      "tags": []
     },
     "execution_count": 128
    }
   ]
  },
  {
   "cell_type": "code",
   "metadata": {
    "id": "Ed2M34lKfgae",
    "colab": {
     "base_uri": "https://localhost:8080/",
     "height": 49
    },
    "outputId": "9d5d8a45-fda1-4aad-b477-045ed9585050"
   },
   "source": [
    "df_order[(df_order['NO'] >= 95876) & (df_order['NO'] <= 95880)]"
   ],
   "execution_count": null,
   "outputs": [
    {
     "output_type": "execute_result",
     "data": {
      "text/html": [
       "<div>\n",
       "<style scoped>\n",
       "    .dataframe tbody tr th:only-of-type {\n",
       "        vertical-align: middle;\n",
       "    }\n",
       "\n",
       "    .dataframe tbody tr th {\n",
       "        vertical-align: top;\n",
       "    }\n",
       "\n",
       "    .dataframe thead th {\n",
       "        text-align: right;\n",
       "    }\n",
       "</style>\n",
       "<table border=\"1\" class=\"dataframe\">\n",
       "  <thead>\n",
       "    <tr style=\"text-align: right;\">\n",
       "      <th></th>\n",
       "      <th>NO</th>\n",
       "      <th>SECCODE</th>\n",
       "      <th>BUYSELL</th>\n",
       "      <th>TIME</th>\n",
       "      <th>ORDERNO</th>\n",
       "      <th>ACTION</th>\n",
       "      <th>PRICE</th>\n",
       "      <th>VOLUME</th>\n",
       "      <th>TRADENO</th>\n",
       "      <th>TRADEPRICE</th>\n",
       "    </tr>\n",
       "  </thead>\n",
       "  <tbody>\n",
       "  </tbody>\n",
       "</table>\n",
       "</div>"
      ],
      "text/plain": [
       "Empty DataFrame\n",
       "Columns: [NO, SECCODE, BUYSELL, TIME, ORDERNO, ACTION, PRICE, VOLUME, TRADENO, TRADEPRICE]\n",
       "Index: []"
      ]
     },
     "metadata": {
      "tags": []
     },
     "execution_count": 129
    }
   ]
  },
  {
   "cell_type": "code",
   "metadata": {
    "id": "6gDwxnjwfgae",
    "colab": {
     "base_uri": "https://localhost:8080/",
     "height": 49
    },
    "outputId": "6fee0e9f-64fb-4d57-e4d1-e0097a43b426"
   },
   "source": [
    "df_order[(df_order['NO'] >= 95876) & (df_order['NO'] <= 95880)]"
   ],
   "execution_count": null,
   "outputs": [
    {
     "output_type": "execute_result",
     "data": {
      "text/html": [
       "<div>\n",
       "<style scoped>\n",
       "    .dataframe tbody tr th:only-of-type {\n",
       "        vertical-align: middle;\n",
       "    }\n",
       "\n",
       "    .dataframe tbody tr th {\n",
       "        vertical-align: top;\n",
       "    }\n",
       "\n",
       "    .dataframe thead th {\n",
       "        text-align: right;\n",
       "    }\n",
       "</style>\n",
       "<table border=\"1\" class=\"dataframe\">\n",
       "  <thead>\n",
       "    <tr style=\"text-align: right;\">\n",
       "      <th></th>\n",
       "      <th>NO</th>\n",
       "      <th>SECCODE</th>\n",
       "      <th>BUYSELL</th>\n",
       "      <th>TIME</th>\n",
       "      <th>ORDERNO</th>\n",
       "      <th>ACTION</th>\n",
       "      <th>PRICE</th>\n",
       "      <th>VOLUME</th>\n",
       "      <th>TRADENO</th>\n",
       "      <th>TRADEPRICE</th>\n",
       "    </tr>\n",
       "  </thead>\n",
       "  <tbody>\n",
       "  </tbody>\n",
       "</table>\n",
       "</div>"
      ],
      "text/plain": [
       "Empty DataFrame\n",
       "Columns: [NO, SECCODE, BUYSELL, TIME, ORDERNO, ACTION, PRICE, VOLUME, TRADENO, TRADEPRICE]\n",
       "Index: []"
      ]
     },
     "metadata": {
      "tags": []
     },
     "execution_count": 130
    }
   ]
  }
 ]
}