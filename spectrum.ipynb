{
  "nbformat": 4,
  "nbformat_minor": 0,
  "metadata": {
    "kernelspec": {
      "display_name": "Python 3",
      "language": "python",
      "name": "python3"
    },
    "language_info": {
      "codemirror_mode": {
        "name": "ipython",
        "version": 3
      },
      "file_extension": ".py",
      "mimetype": "text/x-python",
      "name": "python",
      "nbconvert_exporter": "python",
      "pygments_lexer": "ipython3",
      "version": "3.8.5"
    },
    "colab": {
      "name": "spectrum_new.ipynb",
      "provenance": [],
      "collapsed_sections": []
    },
    "accelerator": "GPU"
  },
  "cells": [
    {
      "cell_type": "code",
      "metadata": {
        "id": "x9ISXzLffgaO"
      },
      "source": [
        "import pandas as pd\n",
        "import time, threading\n",
        "# 0 - Revoke, 1 - Post, 2 - Match"
      ],
      "execution_count": 2,
      "outputs": []
    },
    {
      "cell_type": "code",
      "metadata": {
        "id": "_nqzkS124Cbm",
        "colab": {
          "base_uri": "https://localhost:8080/"
        },
        "outputId": "ba6e45d8-b7f0-406a-82d6-7641ec9bea68"
      },
      "source": [
        "from google.colab import drive\n",
        "drive.mount('/content/drive')"
      ],
      "execution_count": 3,
      "outputs": [
        {
          "output_type": "stream",
          "text": [
            "Mounted at /content/drive\n"
          ],
          "name": "stdout"
        }
      ]
    },
    {
      "cell_type": "code",
      "metadata": {
        "id": "pZnTCotlfgaQ"
      },
      "source": [
        "'''\n",
        "# CHANGE THIS\n",
        "WORKING_DIR = r\"D:\\Data\\MOEX-FX\\2018-03\\\\\"\n",
        "OrderLog = \"OrderLog20180302\"\n",
        "TradeLog = \"TradeLog20180302\"\n",
        "order_log = pd.read_csv(WORKING_DIR + OrderLog + \".txt\")\n",
        "trade_log = pd.read_csv(WORKING_DIR + TradeLog + \".txt\")\n",
        "'''\n",
        "OrderLog = \"OrderLog20180302\"\n",
        "import gzip \n",
        "with gzip.open('/content/drive/MyDrive/DataMining/2018-03/OrderLog20180301.txt.gz', 'rb') as f:        \n",
        "  order_log = pd.read_csv(f)\n",
        "with gzip.open('/content/drive/MyDrive/DataMining/2018-03/TradeLog20180301.txt.gz', 'rb') as f:        \n",
        "  trade_log = pd.read_csv(f)"
      ],
      "execution_count": 4,
      "outputs": []
    },
    {
      "cell_type": "code",
      "metadata": {
        "id": "7moAkaTQfgaR"
      },
      "source": [
        "class Action():\n",
        "    REVOKE = 0\n",
        "    POST = 1\n",
        "    MATCH = 2"
      ],
      "execution_count": 5,
      "outputs": []
    },
    {
      "cell_type": "code",
      "metadata": {
        "id": "1CbL3f8qfgaS"
      },
      "source": [
        "CODES = ['USD000000TOD', 'USD000UTSTOM', 'EUR_RUB__TOD', 'EUR_RUB__TOM', 'EURUSD000TOD', 'EURUSD000TOM',]"
      ],
      "execution_count": 6,
      "outputs": []
    },
    {
      "cell_type": "code",
      "metadata": {
        "id": "qdgWFhw14MKW"
      },
      "source": [
        "instruments_info = {'USD000000TOD': {'SCHEDULE': 174500000000, 'PRICE_STEP': 0.0025, 'INDEX':0},\n",
        "                    'USD000UTSTOM': {'SCHEDULE': 235000000000, 'PRICE_STEP': 0.0025, 'INDEX':1},\n",
        "                    'EUR_RUB__TOD': {'SCHEDULE': 150000000000, 'PRICE_STEP': 0.0025, 'INDEX':2},\n",
        "                    'EUR_RUB__TOM': {'SCHEDULE': 235000000000, 'PRICE_STEP': 0.0025, 'INDEX':3},\n",
        "                    'EURUSD000TOM': {'SCHEDULE': 235000000000, 'PRICE_STEP': 0.00001, 'INDEX':4},\n",
        "                    'EURUSD000TOD': {'SCHEDULE': 150000000000, 'PRICE_STEP': 0.00001, 'INDEX':5}}"
      ],
      "execution_count": 7,
      "outputs": []
    },
    {
      "cell_type": "code",
      "metadata": {
        "id": "s-U1qzqnfgaS"
      },
      "source": [
        "# filtering orders\n",
        "df_order = order_log[(order_log['SECCODE'].isin(CODES)) & (order_log['TIME'] < 235000000000)].copy()[:20000]\n",
        "#df_order = order_log[(order_log['SECCODE'].isin(CODES)) & (order_log['TIME'] < 100000210798)].copy()[:10000]\n",
        "df_trade = trade_log[trade_log['SECCODE'].isin(CODES)].copy()\n",
        "\n",
        "# harvard professor wrote this +100000 IQ code\n",
        "prep_dic = {Action.POST: 0, Action.MATCH: 1, Action.REVOKE: 2}\n",
        "unprep_dic = {0: Action.POST, 1: Action.MATCH, 2: Action.REVOKE}\n",
        "\n",
        "df_order['ACTION'] = df_order['ACTION'].apply(lambda num: prep_dic[num])\n",
        "df_order.sort_values(by = ['TIME', 'ACTION'], inplace=True)\n",
        "df_order['ACTION'] = df_order['ACTION'].apply(lambda num: unprep_dic[num])"
      ],
      "execution_count": 8,
      "outputs": []
    },
    {
      "cell_type": "code",
      "metadata": {
        "scrolled": true,
        "id": "5fzIPXosfgaT",
        "colab": {
          "base_uri": "https://localhost:8080/",
          "height": 204
        },
        "outputId": "a1f372cd-e8d1-45b3-af95-5b1df2fb7fb7"
      },
      "source": [
        "df_order.head()"
      ],
      "execution_count": 9,
      "outputs": [
        {
          "output_type": "execute_result",
          "data": {
            "text/html": [
              "<div>\n",
              "<style scoped>\n",
              "    .dataframe tbody tr th:only-of-type {\n",
              "        vertical-align: middle;\n",
              "    }\n",
              "\n",
              "    .dataframe tbody tr th {\n",
              "        vertical-align: top;\n",
              "    }\n",
              "\n",
              "    .dataframe thead th {\n",
              "        text-align: right;\n",
              "    }\n",
              "</style>\n",
              "<table border=\"1\" class=\"dataframe\">\n",
              "  <thead>\n",
              "    <tr style=\"text-align: right;\">\n",
              "      <th></th>\n",
              "      <th>NO</th>\n",
              "      <th>SECCODE</th>\n",
              "      <th>BUYSELL</th>\n",
              "      <th>TIME</th>\n",
              "      <th>ORDERNO</th>\n",
              "      <th>ACTION</th>\n",
              "      <th>PRICE</th>\n",
              "      <th>VOLUME</th>\n",
              "      <th>TRADENO</th>\n",
              "      <th>TRADEPRICE</th>\n",
              "    </tr>\n",
              "  </thead>\n",
              "  <tbody>\n",
              "    <tr>\n",
              "      <th>0</th>\n",
              "      <td>1</td>\n",
              "      <td>EUR_RUB__TOD</td>\n",
              "      <td>B</td>\n",
              "      <td>100000050299</td>\n",
              "      <td>1</td>\n",
              "      <td>1</td>\n",
              "      <td>68.610</td>\n",
              "      <td>1000000</td>\n",
              "      <td>NaN</td>\n",
              "      <td>NaN</td>\n",
              "    </tr>\n",
              "    <tr>\n",
              "      <th>1</th>\n",
              "      <td>2</td>\n",
              "      <td>USD000000TOD</td>\n",
              "      <td>S</td>\n",
              "      <td>100000050316</td>\n",
              "      <td>2</td>\n",
              "      <td>1</td>\n",
              "      <td>56.600</td>\n",
              "      <td>1000000</td>\n",
              "      <td>NaN</td>\n",
              "      <td>NaN</td>\n",
              "    </tr>\n",
              "    <tr>\n",
              "      <th>2</th>\n",
              "      <td>3</td>\n",
              "      <td>EUR_RUB__TOD</td>\n",
              "      <td>S</td>\n",
              "      <td>100000050325</td>\n",
              "      <td>3</td>\n",
              "      <td>1</td>\n",
              "      <td>69.065</td>\n",
              "      <td>1000000</td>\n",
              "      <td>NaN</td>\n",
              "      <td>NaN</td>\n",
              "    </tr>\n",
              "    <tr>\n",
              "      <th>3</th>\n",
              "      <td>4</td>\n",
              "      <td>EUR_RUB__TOM</td>\n",
              "      <td>B</td>\n",
              "      <td>100000050353</td>\n",
              "      <td>4</td>\n",
              "      <td>1</td>\n",
              "      <td>68.725</td>\n",
              "      <td>1000000</td>\n",
              "      <td>NaN</td>\n",
              "      <td>NaN</td>\n",
              "    </tr>\n",
              "    <tr>\n",
              "      <th>4</th>\n",
              "      <td>5</td>\n",
              "      <td>USD000000TOD</td>\n",
              "      <td>B</td>\n",
              "      <td>100000050361</td>\n",
              "      <td>5</td>\n",
              "      <td>1</td>\n",
              "      <td>56.210</td>\n",
              "      <td>1000000</td>\n",
              "      <td>NaN</td>\n",
              "      <td>NaN</td>\n",
              "    </tr>\n",
              "  </tbody>\n",
              "</table>\n",
              "</div>"
            ],
            "text/plain": [
              "   NO       SECCODE BUYSELL          TIME  ...   PRICE   VOLUME  TRADENO  TRADEPRICE\n",
              "0   1  EUR_RUB__TOD       B  100000050299  ...  68.610  1000000      NaN         NaN\n",
              "1   2  USD000000TOD       S  100000050316  ...  56.600  1000000      NaN         NaN\n",
              "2   3  EUR_RUB__TOD       S  100000050325  ...  69.065  1000000      NaN         NaN\n",
              "3   4  EUR_RUB__TOM       B  100000050353  ...  68.725  1000000      NaN         NaN\n",
              "4   5  USD000000TOD       B  100000050361  ...  56.210  1000000      NaN         NaN\n",
              "\n",
              "[5 rows x 10 columns]"
            ]
          },
          "metadata": {
            "tags": []
          },
          "execution_count": 9
        }
      ]
    },
    {
      "cell_type": "code",
      "metadata": {
        "id": "Y343szvC4_EY",
        "colab": {
          "base_uri": "https://localhost:8080/",
          "height": 80
        },
        "outputId": "51bb3835-8db5-4499-bf9a-c8f903f2a1a7"
      },
      "source": [
        "df_order[df_order['NO'] == 100]"
      ],
      "execution_count": 10,
      "outputs": [
        {
          "output_type": "execute_result",
          "data": {
            "text/html": [
              "<div>\n",
              "<style scoped>\n",
              "    .dataframe tbody tr th:only-of-type {\n",
              "        vertical-align: middle;\n",
              "    }\n",
              "\n",
              "    .dataframe tbody tr th {\n",
              "        vertical-align: top;\n",
              "    }\n",
              "\n",
              "    .dataframe thead th {\n",
              "        text-align: right;\n",
              "    }\n",
              "</style>\n",
              "<table border=\"1\" class=\"dataframe\">\n",
              "  <thead>\n",
              "    <tr style=\"text-align: right;\">\n",
              "      <th></th>\n",
              "      <th>NO</th>\n",
              "      <th>SECCODE</th>\n",
              "      <th>BUYSELL</th>\n",
              "      <th>TIME</th>\n",
              "      <th>ORDERNO</th>\n",
              "      <th>ACTION</th>\n",
              "      <th>PRICE</th>\n",
              "      <th>VOLUME</th>\n",
              "      <th>TRADENO</th>\n",
              "      <th>TRADEPRICE</th>\n",
              "    </tr>\n",
              "  </thead>\n",
              "  <tbody>\n",
              "    <tr>\n",
              "      <th>99</th>\n",
              "      <td>100</td>\n",
              "      <td>EUR_RUB__TOM</td>\n",
              "      <td>S</td>\n",
              "      <td>100000210798</td>\n",
              "      <td>57</td>\n",
              "      <td>0</td>\n",
              "      <td>68.875</td>\n",
              "      <td>1000000</td>\n",
              "      <td>NaN</td>\n",
              "      <td>NaN</td>\n",
              "    </tr>\n",
              "  </tbody>\n",
              "</table>\n",
              "</div>"
            ],
            "text/plain": [
              "     NO       SECCODE BUYSELL  ...   VOLUME  TRADENO  TRADEPRICE\n",
              "99  100  EUR_RUB__TOM       S  ...  1000000      NaN         NaN\n",
              "\n",
              "[1 rows x 10 columns]"
            ]
          },
          "metadata": {
            "tags": []
          },
          "execution_count": 10
        }
      ]
    },
    {
      "cell_type": "code",
      "metadata": {
        "id": "dJl8JiISfgaT",
        "colab": {
          "base_uri": "https://localhost:8080/"
        },
        "outputId": "4e36f3d3-5d67-4212-c068-efa99bcdeb13"
      },
      "source": [
        "df_order.info()"
      ],
      "execution_count": 11,
      "outputs": [
        {
          "output_type": "stream",
          "text": [
            "<class 'pandas.core.frame.DataFrame'>\n",
            "Int64Index: 20000 entries, 0 to 25892\n",
            "Data columns (total 10 columns):\n",
            " #   Column      Non-Null Count  Dtype  \n",
            "---  ------      --------------  -----  \n",
            " 0   NO          20000 non-null  int64  \n",
            " 1   SECCODE     20000 non-null  object \n",
            " 2   BUYSELL     20000 non-null  object \n",
            " 3   TIME        20000 non-null  int64  \n",
            " 4   ORDERNO     20000 non-null  int64  \n",
            " 5   ACTION      20000 non-null  int64  \n",
            " 6   PRICE       20000 non-null  float64\n",
            " 7   VOLUME      20000 non-null  int64  \n",
            " 8   TRADENO     746 non-null    float64\n",
            " 9   TRADEPRICE  746 non-null    float64\n",
            "dtypes: float64(3), int64(5), object(2)\n",
            "memory usage: 1.7+ MB\n"
          ],
          "name": "stdout"
        }
      ]
    },
    {
      "cell_type": "code",
      "metadata": {
        "id": "TbGuKawOfgaU",
        "colab": {
          "base_uri": "https://localhost:8080/",
          "height": 204
        },
        "outputId": "f80d21d3-3523-4426-a683-1b9ec992cb29"
      },
      "source": [
        "df_trade.head()"
      ],
      "execution_count": 12,
      "outputs": [
        {
          "output_type": "execute_result",
          "data": {
            "text/html": [
              "<div>\n",
              "<style scoped>\n",
              "    .dataframe tbody tr th:only-of-type {\n",
              "        vertical-align: middle;\n",
              "    }\n",
              "\n",
              "    .dataframe tbody tr th {\n",
              "        vertical-align: top;\n",
              "    }\n",
              "\n",
              "    .dataframe thead th {\n",
              "        text-align: right;\n",
              "    }\n",
              "</style>\n",
              "<table border=\"1\" class=\"dataframe\">\n",
              "  <thead>\n",
              "    <tr style=\"text-align: right;\">\n",
              "      <th></th>\n",
              "      <th>TRADENO</th>\n",
              "      <th>SECCODE</th>\n",
              "      <th>TIME</th>\n",
              "      <th>BUYORDERNO</th>\n",
              "      <th>SELLORDERNO</th>\n",
              "      <th>PRICE</th>\n",
              "      <th>VOLUME</th>\n",
              "    </tr>\n",
              "  </thead>\n",
              "  <tbody>\n",
              "    <tr>\n",
              "      <th>0</th>\n",
              "      <td>163897149</td>\n",
              "      <td>USD000000TOD</td>\n",
              "      <td>100000</td>\n",
              "      <td>88</td>\n",
              "      <td>90</td>\n",
              "      <td>56.3800</td>\n",
              "      <td>70000</td>\n",
              "    </tr>\n",
              "    <tr>\n",
              "      <th>1</th>\n",
              "      <td>163897150</td>\n",
              "      <td>USD000UTSTOM</td>\n",
              "      <td>100001</td>\n",
              "      <td>296</td>\n",
              "      <td>628</td>\n",
              "      <td>56.4000</td>\n",
              "      <td>1000</td>\n",
              "    </tr>\n",
              "    <tr>\n",
              "      <th>2</th>\n",
              "      <td>163897151</td>\n",
              "      <td>USD000UTSTOM</td>\n",
              "      <td>100001</td>\n",
              "      <td>296</td>\n",
              "      <td>663</td>\n",
              "      <td>56.4000</td>\n",
              "      <td>1000</td>\n",
              "    </tr>\n",
              "    <tr>\n",
              "      <th>3</th>\n",
              "      <td>163897152</td>\n",
              "      <td>USD000UTSTOM</td>\n",
              "      <td>100001</td>\n",
              "      <td>701</td>\n",
              "      <td>184</td>\n",
              "      <td>56.4475</td>\n",
              "      <td>1000</td>\n",
              "    </tr>\n",
              "    <tr>\n",
              "      <th>4</th>\n",
              "      <td>163897153</td>\n",
              "      <td>USD000UTSTOM</td>\n",
              "      <td>100001</td>\n",
              "      <td>296</td>\n",
              "      <td>881</td>\n",
              "      <td>56.4000</td>\n",
              "      <td>118000</td>\n",
              "    </tr>\n",
              "  </tbody>\n",
              "</table>\n",
              "</div>"
            ],
            "text/plain": [
              "     TRADENO       SECCODE    TIME  BUYORDERNO  SELLORDERNO    PRICE  VOLUME\n",
              "0  163897149  USD000000TOD  100000          88           90  56.3800   70000\n",
              "1  163897150  USD000UTSTOM  100001         296          628  56.4000    1000\n",
              "2  163897151  USD000UTSTOM  100001         296          663  56.4000    1000\n",
              "3  163897152  USD000UTSTOM  100001         701          184  56.4475    1000\n",
              "4  163897153  USD000UTSTOM  100001         296          881  56.4000  118000"
            ]
          },
          "metadata": {
            "tags": []
          },
          "execution_count": 12
        }
      ]
    },
    {
      "cell_type": "code",
      "metadata": {
        "id": "PhRDQyWkfgaU",
        "colab": {
          "base_uri": "https://localhost:8080/"
        },
        "outputId": "3905039e-4a16-473a-a384-04d646a048f0"
      },
      "source": [
        "df_trade.info()"
      ],
      "execution_count": 13,
      "outputs": [
        {
          "output_type": "stream",
          "text": [
            "<class 'pandas.core.frame.DataFrame'>\n",
            "Int64Index: 59713 entries, 0 to 61879\n",
            "Data columns (total 7 columns):\n",
            " #   Column       Non-Null Count  Dtype  \n",
            "---  ------       --------------  -----  \n",
            " 0   TRADENO      59713 non-null  int64  \n",
            " 1   SECCODE      59713 non-null  object \n",
            " 2   TIME         59713 non-null  int64  \n",
            " 3   BUYORDERNO   59713 non-null  int64  \n",
            " 4   SELLORDERNO  59713 non-null  int64  \n",
            " 5   PRICE        59713 non-null  float64\n",
            " 6   VOLUME       59713 non-null  int64  \n",
            "dtypes: float64(1), int64(5), object(1)\n",
            "memory usage: 3.6+ MB\n"
          ],
          "name": "stdout"
        }
      ]
    },
    {
      "cell_type": "code",
      "metadata": {
        "id": "-Z9inI-6fgaV",
        "colab": {
          "base_uri": "https://localhost:8080/"
        },
        "outputId": "b0ec57d4-6671-4510-f647-0a4aa1b0d4c7"
      },
      "source": [
        "df_order['TRADENO'].value_counts()"
      ],
      "execution_count": 14,
      "outputs": [
        {
          "output_type": "execute_result",
          "data": {
            "text/plain": [
              "163897172.0    2\n",
              "163897165.0    2\n",
              "163897268.0    2\n",
              "163897540.0    2\n",
              "163897327.0    2\n",
              "              ..\n",
              "163897299.0    2\n",
              "163897158.0    2\n",
              "163897399.0    2\n",
              "163897217.0    2\n",
              "163897458.0    2\n",
              "Name: TRADENO, Length: 373, dtype: int64"
            ]
          },
          "metadata": {
            "tags": []
          },
          "execution_count": 14
        }
      ]
    },
    {
      "cell_type": "code",
      "metadata": {
        "id": "Vgu7M_QFfgaV"
      },
      "source": [
        "total_mistakes = 0\n",
        "\n",
        "def print_error(error):\n",
        "    global total_mistakes\n",
        "    print('-' * 40)\n",
        "    print(f'in row: {row[\"NO\"]}')\n",
        "    print(error)\n",
        "    print('-' * 40)\n",
        "    print()\n",
        "    total_mistakes += 1\n",
        "    \n",
        "def check_exists(df_cur, row, NO='ORDERNO'):\n",
        "    # check if the given ORDERNO exists\n",
        "    sub_df = df_cur[df_cur[NO] == row[NO]] \n",
        "    if len(sub_df) > 0:\n",
        "        return True, sub_df\n",
        "    # printing the error\n",
        "    else:\n",
        "        print_error(f\"ERROR: Record with {NO} {row[NO]} doesn't exist\")\n",
        "        return False, None\n",
        "    \n",
        "    \n",
        "def handle_revoke(df_cur, row):\n",
        "    # check if the given ORDERNO exists\n",
        "    check, sub_df = check_exists(df_cur, row)\n",
        "    if check:\n",
        "        series = sub_df.iloc[0]\n",
        "        # check if revoking volume is not greater than the current one\n",
        "        if series['VOLUME'] >= row['VOLUME']:                \n",
        "            if series['VOLUME'] == row['VOLUME']:\n",
        "                # removing the record\n",
        "                df_cur.drop(df_cur[df_cur['ORDERNO'] == row['ORDERNO']].index, inplace=True)\n",
        "            else:\n",
        "                # reducing the amount\n",
        "                df_cur.loc[df[df_cur['ORDERNO'] == row['ORDERNO']].index, ['VOLUME']] = series['VOLUME'] - row['VOLUME']\n",
        "        # printing the error\n",
        "        else:\n",
        "            # TODO: DISCRUSS WITH THE TEAM\n",
        "            df_cur.loc[df[df_cur['ORDERNO'] == row['ORDERNO']].index, ['VOLUME']] = series['VOLUME'] - row['VOLUME'] # negative number\n",
        "            print_error(\"ERROR: Cannot revoke more that there is\")\n",
        "        \n",
        "        \n",
        "def handle_match(df_cur, row):\n",
        "    global df_trade\n",
        "    # check if the given ORDERNO exists\n",
        "    check, sub_df = check_exists(df_cur, row)\n",
        "    if check:\n",
        "        series = sub_df.iloc[0]\n",
        "        # check if the given tradeno exists in trade logs\n",
        "        check, sub_trade = check_exists(df_trade, row, 'TRADENO')       \n",
        "        if check:\n",
        "            series_trade = sub_trade.iloc[0]\n",
        "\n",
        "            seller = df_cur[df_cur['ORDERNO'] == series_trade['SELLORDERNO']]\n",
        "            buyer = df_cur[df_cur['ORDERNO'] == series_trade['BUYORDERNO']]\n",
        "\n",
        "            # check if seller and buyer exist\n",
        "            if len(seller) > 0 and len(buyer) > 0:\n",
        "                seller = seller.iloc[0]\n",
        "                buyer = buyer.iloc[0]\n",
        "\n",
        "                # check if the volume is ok\n",
        "                if seller['VOLUME'] >= row['VOLUME'] and buyer['VOLUME'] >= row['VOLUME']:\n",
        "                    if seller['VOLUME'] == row['VOLUME']:\n",
        "                        # removing the record\n",
        "                        df_cur.drop(df_cur[df_cur['ORDERNO'] == seller['ORDERNO']].index, inplace=True)\n",
        "                    else:\n",
        "                        # reducing the amount\n",
        "                        df_cur.loc[df_cur['ORDERNO'] == seller['ORDERNO'], ['VOLUME']] = seller['VOLUME'] - row['VOLUME']\n",
        "\n",
        "                    if buyer['VOLUME'] == row['VOLUME']:\n",
        "                        # removing the record\n",
        "                        df_cur.drop(df_cur[df_cur['ORDERNO'] == buyer['ORDERNO']].index, inplace=True)\n",
        "                    else:\n",
        "                        # reducing the amount\n",
        "                        df_cur.loc[df_cur['ORDERNO'] == buyer['ORDERNO'], ['VOLUME']] = buyer['VOLUME'] - row['VOLUME']\n",
        "\n",
        "                # printing the error\n",
        "                else:\n",
        "                    # TODO: Discuss with the team\n",
        "                    # negative numbers\n",
        "                    df_cur.loc[df_cur['ORDERNO'] == seller['ORDERNO'], ['VOLUME']] = seller['VOLUME'] - row['VOLUME']\n",
        "                    df_cur.loc[df_cur['ORDERNO'] == buyer['ORDERNO'], ['VOLUME']] = buyer['VOLUME'] - row['VOLUME']\n",
        "                    print_error(\"ERROR: Not enough amount for buying and/or selling\")\n",
        "\n",
        "            # printing the error\n",
        "            else:\n",
        "                print_error(f\"ERROR: There's no such buyer and/or seller\")               \n"
      ],
      "execution_count": 15,
      "outputs": []
    },
    {
      "cell_type": "code",
      "metadata": {
        "id": "A98KhPEyfgaX",
        "colab": {
          "base_uri": "https://localhost:8080/",
          "height": 439
        },
        "outputId": "98f2d13c-9bab-4e30-9e50-bd0a94db1a0a"
      },
      "source": [
        "df_order[df_order['PRICE'] == 0]"
      ],
      "execution_count": 16,
      "outputs": [
        {
          "output_type": "execute_result",
          "data": {
            "text/html": [
              "<div>\n",
              "<style scoped>\n",
              "    .dataframe tbody tr th:only-of-type {\n",
              "        vertical-align: middle;\n",
              "    }\n",
              "\n",
              "    .dataframe tbody tr th {\n",
              "        vertical-align: top;\n",
              "    }\n",
              "\n",
              "    .dataframe thead th {\n",
              "        text-align: right;\n",
              "    }\n",
              "</style>\n",
              "<table border=\"1\" class=\"dataframe\">\n",
              "  <thead>\n",
              "    <tr style=\"text-align: right;\">\n",
              "      <th></th>\n",
              "      <th>NO</th>\n",
              "      <th>SECCODE</th>\n",
              "      <th>BUYSELL</th>\n",
              "      <th>TIME</th>\n",
              "      <th>ORDERNO</th>\n",
              "      <th>ACTION</th>\n",
              "      <th>PRICE</th>\n",
              "      <th>VOLUME</th>\n",
              "      <th>TRADENO</th>\n",
              "      <th>TRADEPRICE</th>\n",
              "    </tr>\n",
              "  </thead>\n",
              "  <tbody>\n",
              "    <tr>\n",
              "      <th>861</th>\n",
              "      <td>862</td>\n",
              "      <td>USD000UTSTOM</td>\n",
              "      <td>B</td>\n",
              "      <td>100001279110</td>\n",
              "      <td>701</td>\n",
              "      <td>1</td>\n",
              "      <td>0.0</td>\n",
              "      <td>1000</td>\n",
              "      <td>NaN</td>\n",
              "      <td>NaN</td>\n",
              "    </tr>\n",
              "    <tr>\n",
              "      <th>862</th>\n",
              "      <td>863</td>\n",
              "      <td>USD000UTSTOM</td>\n",
              "      <td>B</td>\n",
              "      <td>100001279110</td>\n",
              "      <td>701</td>\n",
              "      <td>2</td>\n",
              "      <td>0.0</td>\n",
              "      <td>1000</td>\n",
              "      <td>163897152.0</td>\n",
              "      <td>56.4475</td>\n",
              "    </tr>\n",
              "    <tr>\n",
              "      <th>1151</th>\n",
              "      <td>1152</td>\n",
              "      <td>USD000UTSTOM</td>\n",
              "      <td>B</td>\n",
              "      <td>100001597883</td>\n",
              "      <td>937</td>\n",
              "      <td>1</td>\n",
              "      <td>0.0</td>\n",
              "      <td>130000</td>\n",
              "      <td>NaN</td>\n",
              "      <td>NaN</td>\n",
              "    </tr>\n",
              "    <tr>\n",
              "      <th>1152</th>\n",
              "      <td>1153</td>\n",
              "      <td>USD000UTSTOM</td>\n",
              "      <td>B</td>\n",
              "      <td>100001597883</td>\n",
              "      <td>937</td>\n",
              "      <td>2</td>\n",
              "      <td>0.0</td>\n",
              "      <td>81000</td>\n",
              "      <td>163897155.0</td>\n",
              "      <td>56.4000</td>\n",
              "    </tr>\n",
              "    <tr>\n",
              "      <th>1154</th>\n",
              "      <td>1155</td>\n",
              "      <td>USD000UTSTOM</td>\n",
              "      <td>B</td>\n",
              "      <td>100001597883</td>\n",
              "      <td>937</td>\n",
              "      <td>2</td>\n",
              "      <td>0.0</td>\n",
              "      <td>49000</td>\n",
              "      <td>163897156.0</td>\n",
              "      <td>56.4275</td>\n",
              "    </tr>\n",
              "    <tr>\n",
              "      <th>...</th>\n",
              "      <td>...</td>\n",
              "      <td>...</td>\n",
              "      <td>...</td>\n",
              "      <td>...</td>\n",
              "      <td>...</td>\n",
              "      <td>...</td>\n",
              "      <td>...</td>\n",
              "      <td>...</td>\n",
              "      <td>...</td>\n",
              "      <td>...</td>\n",
              "    </tr>\n",
              "    <tr>\n",
              "      <th>22792</th>\n",
              "      <td>22793</td>\n",
              "      <td>USD000000TOD</td>\n",
              "      <td>S</td>\n",
              "      <td>100110668627</td>\n",
              "      <td>11883</td>\n",
              "      <td>2</td>\n",
              "      <td>0.0</td>\n",
              "      <td>15000</td>\n",
              "      <td>163897479.0</td>\n",
              "      <td>56.3800</td>\n",
              "    </tr>\n",
              "    <tr>\n",
              "      <th>23832</th>\n",
              "      <td>23833</td>\n",
              "      <td>EUR_RUB__TOM</td>\n",
              "      <td>S</td>\n",
              "      <td>100114045815</td>\n",
              "      <td>12401</td>\n",
              "      <td>1</td>\n",
              "      <td>0.0</td>\n",
              "      <td>100000</td>\n",
              "      <td>NaN</td>\n",
              "      <td>NaN</td>\n",
              "    </tr>\n",
              "    <tr>\n",
              "      <th>23834</th>\n",
              "      <td>23835</td>\n",
              "      <td>EUR_RUB__TOM</td>\n",
              "      <td>S</td>\n",
              "      <td>100114045815</td>\n",
              "      <td>12401</td>\n",
              "      <td>2</td>\n",
              "      <td>0.0</td>\n",
              "      <td>100000</td>\n",
              "      <td>163897494.0</td>\n",
              "      <td>68.7875</td>\n",
              "    </tr>\n",
              "    <tr>\n",
              "      <th>24351</th>\n",
              "      <td>24352</td>\n",
              "      <td>USD000000TOD</td>\n",
              "      <td>S</td>\n",
              "      <td>100117063156</td>\n",
              "      <td>12655</td>\n",
              "      <td>1</td>\n",
              "      <td>0.0</td>\n",
              "      <td>24000</td>\n",
              "      <td>NaN</td>\n",
              "      <td>NaN</td>\n",
              "    </tr>\n",
              "    <tr>\n",
              "      <th>24353</th>\n",
              "      <td>24354</td>\n",
              "      <td>USD000000TOD</td>\n",
              "      <td>S</td>\n",
              "      <td>100117063156</td>\n",
              "      <td>12655</td>\n",
              "      <td>2</td>\n",
              "      <td>0.0</td>\n",
              "      <td>24000</td>\n",
              "      <td>163897515.0</td>\n",
              "      <td>56.3700</td>\n",
              "    </tr>\n",
              "  </tbody>\n",
              "</table>\n",
              "<p>70 rows × 10 columns</p>\n",
              "</div>"
            ],
            "text/plain": [
              "          NO       SECCODE BUYSELL  ...  VOLUME      TRADENO  TRADEPRICE\n",
              "861      862  USD000UTSTOM       B  ...    1000          NaN         NaN\n",
              "862      863  USD000UTSTOM       B  ...    1000  163897152.0     56.4475\n",
              "1151    1152  USD000UTSTOM       B  ...  130000          NaN         NaN\n",
              "1152    1153  USD000UTSTOM       B  ...   81000  163897155.0     56.4000\n",
              "1154    1155  USD000UTSTOM       B  ...   49000  163897156.0     56.4275\n",
              "...      ...           ...     ...  ...     ...          ...         ...\n",
              "22792  22793  USD000000TOD       S  ...   15000  163897479.0     56.3800\n",
              "23832  23833  EUR_RUB__TOM       S  ...  100000          NaN         NaN\n",
              "23834  23835  EUR_RUB__TOM       S  ...  100000  163897494.0     68.7875\n",
              "24351  24352  USD000000TOD       S  ...   24000          NaN         NaN\n",
              "24353  24354  USD000000TOD       S  ...   24000  163897515.0     56.3700\n",
              "\n",
              "[70 rows x 10 columns]"
            ]
          },
          "metadata": {
            "tags": []
          },
          "execution_count": 16
        }
      ]
    },
    {
      "cell_type": "code",
      "metadata": {
        "id": "XYZJEzHE4nTL",
        "colab": {
          "base_uri": "https://localhost:8080/",
          "height": 69
        },
        "outputId": "f61d7a6a-6326-4fe3-e7f3-9b66e8308914"
      },
      "source": [
        "# ГОВНОКОД NO.1\n",
        "# блин хз возможно класс больше не нужен\n",
        "\n",
        "class Spectrum():\n",
        "  def __init__(self, seccode):\n",
        "        self.seccode = seccode \n",
        "        self.best_ask = 100000000\n",
        "        self.best_bid = -1\n",
        "        self.bids = [0]*10\n",
        "        self.asks = [0]*10\n",
        "'''\n",
        "оказалось ненужным :(\n",
        "  def calculate_steps(self, step):\n",
        "        b = self.best_bid\n",
        "        a = self.best_ask\n",
        "        bids = []\n",
        "        asks = []\n",
        "        asks.append(a)\n",
        "        bids.append(b)\n",
        "        a = a-step\n",
        "        b=b+step\n",
        "        for i in range(10):\n",
        "          a = round(a+5*step, 5)\n",
        "          asks.append(a)\n",
        "          b = round(b-5*step, 5)\n",
        "          bids.append(b)\n",
        "        bids.reverse()\n",
        "        return bids, asks\n",
        "'''"
      ],
      "execution_count": 23,
      "outputs": [
        {
          "output_type": "execute_result",
          "data": {
            "application/vnd.google.colaboratory.intrinsic+json": {
              "type": "string"
            },
            "text/plain": [
              "'\\nоказалось ненужным :(\\n  def calculate_steps(self, step):\\n        b = self.best_bid\\n        a = self.best_ask\\n        bids = []\\n        asks = []\\n        asks.append(a)\\n        bids.append(b)\\n        a = a-step\\n        b=b+step\\n        for i in range(10):\\n          a = round(a+5*step, 5)\\n          asks.append(a)\\n          b = round(b-5*step, 5)\\n          bids.append(b)\\n        bids.reverse()\\n        return bids, asks\\n'"
            ]
          },
          "metadata": {
            "tags": []
          },
          "execution_count": 23
        }
      ]
    },
    {
      "cell_type": "code",
      "metadata": {
        "id": "umKJNMIb7Qk0"
      },
      "source": [
        "# ГОВНОКОД NO.2\n",
        "\n",
        "spectrums = []\n",
        "for i in instruments_info.keys():\n",
        "  spectrums.append(Spectrum(i))"
      ],
      "execution_count": 24,
      "outputs": []
    },
    {
      "cell_type": "code",
      "metadata": {
        "id": "5D5FexMaBnmw",
        "colab": {
          "base_uri": "https://localhost:8080/",
          "height": 86
        },
        "outputId": "cb8083d3-0638-4425-bfc0-def75dc18f4b"
      },
      "source": [
        "# ГОВНОКОД NO.3\n",
        "\n",
        "import math\n",
        "\n",
        "def change_spectrums(df_cur, row):   #seccode = row['SECCODE']\n",
        "    seccode = row['SECCODE']\n",
        "    step = instruments_info[seccode]['PRICE_STEP']\n",
        "    #if row['BUYSELL'] == 'B':\n",
        "    #  if spectrums[instruments_info[seccode]['INDEX']].best_bid < row['PRICE']:\n",
        "    spectrum = spectrums[instruments_info[seccode]['INDEX']]\n",
        "    \n",
        "    new_price = row['PRICE']\n",
        "\n",
        "    if row['ACTION'] == Action.POST:\n",
        "\n",
        "      if row['BUYSELL'] == 'B':\n",
        "          if new_price > spectrum.best_bid:\n",
        "            temp_b = df_cur.loc[(df_cur['SECCODE'] == seccode) & (df_cur['BUYSELL'] == 'B')]\n",
        "            spectrum.best_bid = new_price\n",
        "            new_bids = [0]*10\n",
        "            for index, row in temp_b.iterrows():\n",
        "              price = row['PRICE']\n",
        "              dif = spectrum.best_bid - price\n",
        "              if dif > step*49:\n",
        "                pass\n",
        "              else:\n",
        "                new_bids[9-math.floor(dif/(step*5))] += row['VOLUME']\n",
        "            #spectrum.bids = new_bids.reverse()\n",
        "          elif new_price == spectrum.best_bid:\n",
        "            new_bids = spectrum.bids\n",
        "            new_bids[9]+= row['VOLUME']\n",
        "            spectrum.bids = new_bids\n",
        "          else:\n",
        "            dif = spectrum.best_bid-new_price \n",
        "            if dif > step*49:\n",
        "              pass\n",
        "            else:\n",
        "              spectrum.bids[9-math.floor(dif/(step*5))] += row['VOLUME']\n",
        "\n",
        "      if row['BUYSELL'] == 'S':\n",
        "          if new_price < spectrum.best_ask:\n",
        "            temp_s = df_cur.loc[(df_cur['SECCODE'] == seccode) & (df_cur['BUYSELL'] == 'S')]\n",
        "            spectrum.best_ask = new_price\n",
        "            new_asks = [0]*10\n",
        "            for index, row in temp_s.iterrows():\n",
        "              price = row['PRICE']\n",
        "              dif = price-spectrum.best_ask \n",
        "              if dif > step*49:\n",
        "                pass\n",
        "              else:\n",
        "                new_asks[math.floor(dif/(step*5))] += row['VOLUME']\n",
        "            spectrum.asks = new_asks\n",
        "          elif new_price == spectrum.best_ask:\n",
        "            new_asks = spectrum.asks\n",
        "            new_asks[0] += row['VOLUME']\n",
        "            spectrum.asks = new_asks \n",
        "          else:\n",
        "            dif = new_price-spectrum.best_ask \n",
        "            if dif > step*49:\n",
        "              pass\n",
        "            else:\n",
        "              spectrum.asks[math.floor(dif/(step*5))] += row['VOLUME']\n",
        "    \n",
        "    elif row['ACTION'] == Action.REVOKE:\n",
        "      if row['BUYSELL'] == 'B':\n",
        "        if new_price > spectrum.best_bid:\n",
        "          pass\n",
        "        else:\n",
        "          dif = spectrum.best_bid - new_price\n",
        "          if dif > step*49:\n",
        "            pass\n",
        "          else:\n",
        "            new_bids = spectrum.bids\n",
        "            new_bids[9-math.floor(dif/(step*5))] -= row['VOLUME']\n",
        "            spectrum.bids = new_bids\n",
        "      if row['BUYSELL'] == 'S':\n",
        "        if new_price < spectrum.best_ask:\n",
        "          pass\n",
        "        else:\n",
        "          dif = new_price-spectrum.best_ask \n",
        "          if dif > step*49:\n",
        "            pass\n",
        "          else:\n",
        "            new_asks = spectrum.asks\n",
        "            new_asks[math.floor(dif/(step*5))] -= row['VOLUME']\n",
        "            spectrum.asks = new_asks\n",
        "\n",
        "    b = spectrum.bids\n",
        "    values = b.append(spectrum.asks)\n",
        "    return values\n",
        "\n",
        "'''\n",
        "    temp_b = df_cur.loc[(df_cur['SECCODE'] == seccode) & (df_cur['BUYSELL'] == 'B')]\n",
        "    temp_s = df_cur.loc[(df_cur['SECCODE'] == seccode) & (df_cur['BUYSELL'] == 'S')]\n",
        "    spectrum.best_bid = temp_b['PRICE'].max()\n",
        "    spectrum.best_ask = temp_s['PRICE'].min()\n",
        "    #bids, asks = spectrum.calculate_steps(step)\n",
        "    values = [0] * 20\n",
        "    for index, row in temp_s.iterrows():\n",
        "      price = row['PRICE']\n",
        "      dif = price - spectrum.best_ask\n",
        "      if dif > step*49:\n",
        "        pass\n",
        "      else:\n",
        "        values[10+math.floor(dif/(step*5))] += row['VOLUME']\n",
        "    for index, row in temp_b.iterrows():\n",
        "      price = row['PRICE']\n",
        "      dif = spectrum.best_bid - price\n",
        "      if dif > step*49:\n",
        "        pass\n",
        "      else:\n",
        "        values[math.floor(dif/(step*5))] += row['VOLUME']\n",
        "    return values\n",
        "'''  \n",
        "\n"
      ],
      "execution_count": 39,
      "outputs": [
        {
          "output_type": "execute_result",
          "data": {
            "application/vnd.google.colaboratory.intrinsic+json": {
              "type": "string"
            },
            "text/plain": [
              "\"\\n    temp_b = df_cur.loc[(df_cur['SECCODE'] == seccode) & (df_cur['BUYSELL'] == 'B')]\\n    temp_s = df_cur.loc[(df_cur['SECCODE'] == seccode) & (df_cur['BUYSELL'] == 'S')]\\n    spectrum.best_bid = temp_b['PRICE'].max()\\n    spectrum.best_ask = temp_s['PRICE'].min()\\n    #bids, asks = spectrum.calculate_steps(step)\\n    values = [0] * 20\\n    for index, row in temp_s.iterrows():\\n      price = row['PRICE']\\n      dif = price - spectrum.best_ask\\n      if dif > step*49:\\n        pass\\n      else:\\n        values[10+math.floor(dif/(step*5))] += row['VOLUME']\\n    for index, row in temp_b.iterrows():\\n      price = row['PRICE']\\n      dif = spectrum.best_bid - price\\n      if dif > step*49:\\n        pass\\n      else:\\n        values[math.floor(dif/(step*5))] += row['VOLUME']\\n    return values\\n\""
            ]
          },
          "metadata": {
            "tags": []
          },
          "execution_count": 39
        }
      ]
    },
    {
      "cell_type": "code",
      "metadata": {
        "scrolled": true,
        "id": "h1KPbRtMfgaX"
      },
      "source": [
        "start = time.time()\n",
        "k = 0\n",
        "# empty df for keeping track\n",
        "df_cur = pd.DataFrame(columns=df_order.columns)\n",
        "df_spec = pd.DataFrame(columns=['SECCODE', 'TIMESTAMP', 'BID_ASK'])\n",
        "\n",
        "# for processing each TRADENO only once\n",
        "matches = []\n",
        "\n",
        "# iterating through the order book\n",
        "for index, row in df_order.iterrows():\n",
        "    # if post -> add to df_cur\n",
        "    if row['ACTION'] == Action.POST:\n",
        "        df_cur = df_cur.append(row)\n",
        "        \n",
        "    \n",
        "    elif row['ACTION'] == Action.REVOKE:\n",
        "        handle_revoke(df_cur, row)\n",
        "       \n",
        "        \n",
        "    elif row['ACTION'] == Action.MATCH:\n",
        "        if row['TRADENO'] in matches:\n",
        "            matches.remove(row['TRADENO'])\n",
        "            continue\n",
        "        else:\n",
        "            matches.append(row['TRADENO'])\n",
        "            handle_match(df_cur, row)\n",
        "    \n",
        "    # для каждой новой row считаем спектрум и добавляем в файлик\n",
        "    values = change_spectrums(df_cur, row)\n",
        "    d = {'SECCODE':row['SECCODE'], 'TIMESTAMP':row['TIME'], 'BID_ASK':values}\n",
        "    df_spec = df_spec.append(d, ignore_index=True)\n",
        "    k+=1\n",
        "    if k%50000 == 0:\n",
        "      df_spec.to_csv('/content/drive/MyDrive/DataMining/spectrums/'+str(k//50000)+'.csv')  \n",
        "\n",
        "\n",
        "            \n",
        "            \n",
        "df_cur.to_csv('no-thread-lol.csv')\n",
        "df_spec.to_csv('spectru.csv')\n",
        "\n",
        "end = time.time()\n",
        "\n",
        "print(end - start)"
      ],
      "execution_count": null,
      "outputs": []
    },
    {
      "cell_type": "code",
      "metadata": {
        "id": "aJB4qxgTRG9b"
      },
      "source": [
        "df_spec.to_csv('/content/drive/MyDrive/DataMining/spectrum.csv')"
      ],
      "execution_count": null,
      "outputs": []
    },
    {
      "cell_type": "code",
      "metadata": {
        "id": "xzxKH6pusUdY"
      },
      "source": [
        "df_spec"
      ],
      "execution_count": null,
      "outputs": []
    },
    {
      "cell_type": "code",
      "metadata": {
        "id": "LAKApH3HfgaY"
      },
      "source": [
        "final = df_cur.groupby(['SECCODE','BUYSELL','PRICE'])['VOLUME'].sum().reset_index()\\\n",
        ".sort_values(by=['SECCODE', 'BUYSELL', 'PRICE'])"
      ],
      "execution_count": null,
      "outputs": []
    },
    {
      "cell_type": "code",
      "metadata": {
        "id": "VGXqgO1zfgaZ"
      },
      "source": [
        "final"
      ],
      "execution_count": null,
      "outputs": []
    },
    {
      "cell_type": "code",
      "metadata": {
        "id": "UxRC99m1fgaZ"
      },
      "source": [
        "final.to_csv('OrderBook' + OrderLog[8:] +'.csv')"
      ],
      "execution_count": null,
      "outputs": []
    },
    {
      "cell_type": "code",
      "metadata": {
        "id": "G4ofCpjHfgaZ"
      },
      "source": [
        ""
      ],
      "execution_count": null,
      "outputs": []
    },
    {
      "cell_type": "code",
      "metadata": {
        "id": "DSbkeWX6fgaZ"
      },
      "source": [
        "# With multithreading\n",
        "\n",
        "# df_bycodes = []\n",
        "\n",
        "# for code in CODES:\n",
        "#     df_bycodes.append(df_order[df_order['SECCODE'] == code])\n",
        "    \n",
        "\n",
        "# def handle_thread(df_order, code, time):\n",
        "#     # empty df for keeping track\n",
        "#     df_cur = pd.DataFrame(columns=df_order.columns)\n",
        "\n",
        "#     prev_match = False\n",
        "#     prev_time = -1\n",
        "#     # iterating through the order book\n",
        "#     for index, row in df_order.iterrows():\n",
        "#         # if post -> add to df_cur\n",
        "#         if row['ACTION'] == Action.POST:\n",
        "#             df_cur = df_cur.append(row)\n",
        "#             prev_match = False\n",
        "\n",
        "\n",
        "#         elif row['ACTION'] == Action.REVOKE:\n",
        "#             handle_revoke(df_cur, row)\n",
        "#             prev_match = False\n",
        "\n",
        "\n",
        "#         elif row['ACTION'] == Action.MATCH:\n",
        "#             if prev_match:\n",
        "#                 prev_match = False\n",
        "#                 continue\n",
        "#             else:\n",
        "#                 handle_match(df_cur, row)\n",
        "#                 prev_match = True\n",
        "\n",
        "#     df_cur.to_csv('thread_' + code + '_' + time + '.csv')\n",
        "\n",
        "    \n",
        "# threads = []\n",
        "\n",
        "# start = time.time()\n",
        "\n",
        "# for index, code in enumerate(CODES):\n",
        "#     thread = threading.Thread(target=handle_thread, args=(df_bycodes[index], code, 'TEST_TIME'))\n",
        "#     threads.append(thread)\n",
        "#     thread.start()\n",
        "    \n",
        "# for thread in threads:\n",
        "#     thread.join()\n",
        "    \n",
        "# end = time.time()\n",
        "\n",
        "# print(end - start)\n",
        "    "
      ],
      "execution_count": null,
      "outputs": []
    },
    {
      "cell_type": "markdown",
      "metadata": {
        "id": "A_8OwHLCfgaa"
      },
      "source": [
        "### Mistakes in dataset\n",
        "\n",
        "#### Incorrect volumes"
      ]
    },
    {
      "cell_type": "code",
      "metadata": {
        "id": "dN-igco9fgab"
      },
      "source": [
        "df_order[df_order['NO'] == 95871]"
      ],
      "execution_count": null,
      "outputs": []
    },
    {
      "cell_type": "code",
      "metadata": {
        "id": "8fGcelaWfgab"
      },
      "source": [
        "df_order[df_order['ORDERNO'] == 48103]"
      ],
      "execution_count": null,
      "outputs": []
    },
    {
      "cell_type": "code",
      "metadata": {
        "id": "5W70J_pxfgab"
      },
      "source": [
        "df_trade[df_trade['TRADENO'] == 164004000]"
      ],
      "execution_count": null,
      "outputs": []
    },
    {
      "cell_type": "code",
      "metadata": {
        "scrolled": false,
        "id": "RTCxxrr4fgac"
      },
      "source": [
        "df_order[df_order['ORDERNO'] == 48095]"
      ],
      "execution_count": null,
      "outputs": []
    },
    {
      "cell_type": "markdown",
      "metadata": {
        "id": "5jMTfxUIfgac"
      },
      "source": [
        "#### Вот тут думаю надо исправить (кривой порядок NO в одном TIME)\n",
        "\n",
        "#### upd: temporarly solved"
      ]
    },
    {
      "cell_type": "code",
      "metadata": {
        "id": "OFJC8qJlfgad"
      },
      "source": [
        "df_order[df_order['NO'] == 95877]"
      ],
      "execution_count": null,
      "outputs": []
    },
    {
      "cell_type": "code",
      "metadata": {
        "id": "Y-9Pqv2ofgad"
      },
      "source": [
        "df_order[df_order['ORDERNO'] == 48104]"
      ],
      "execution_count": null,
      "outputs": []
    },
    {
      "cell_type": "code",
      "metadata": {
        "id": "K0N8LT_8fgae"
      },
      "source": [
        "df_trade[df_trade['TRADENO'] == 164004001]"
      ],
      "execution_count": null,
      "outputs": []
    },
    {
      "cell_type": "code",
      "metadata": {
        "id": "yN70Qfztfgae"
      },
      "source": [
        "df_order[df_order['ORDERNO'] == 48105]"
      ],
      "execution_count": null,
      "outputs": []
    },
    {
      "cell_type": "code",
      "metadata": {
        "id": "Ed2M34lKfgae"
      },
      "source": [
        "df_order[(df_order['NO'] >= 95876) & (df_order['NO'] <= 95880)]"
      ],
      "execution_count": null,
      "outputs": []
    },
    {
      "cell_type": "code",
      "metadata": {
        "id": "6gDwxnjwfgae"
      },
      "source": [
        "df_order[(df_order['NO'] >= 95876) & (df_order['NO'] <= 95880)]"
      ],
      "execution_count": null,
      "outputs": []
    }
  ]
}