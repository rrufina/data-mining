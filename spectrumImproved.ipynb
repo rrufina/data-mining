{
 "cells": [
  {
   "cell_type": "code",
   "execution_count": 78,
   "metadata": {
    "collapsed": true,
    "pycharm": {
     "name": "#%%\n"
    }
   },
   "outputs": [],
   "source": [
    "import time\n",
    "import pandas as pd\n",
    "import gzip\n",
    "# 0 - Revoke, 1 - Post, 2 - Match"
   ]
  },
  {
   "cell_type": "code",
   "execution_count": 79,
   "outputs": [],
   "source": [
    "# CHANGE THIS\n",
    "WORKING_DIR = r\"D:\\DataMining\\MOEX-FX\\MOEX-FX\\2018-03\\\\\"\n",
    "OrderLog = \"OrderLog20180301\"\n",
    "with gzip.open(WORKING_DIR+'OrderLog20180301.txt.gz', 'rb') as f:\n",
    "    order_log = pd.read_csv(f)\n",
    "\n",
    "with gzip.open(WORKING_DIR+'TradeLog20180301.txt.gz', 'rb') as f:\n",
    "    trade_log = pd.read_csv(f)"
   ],
   "metadata": {
    "collapsed": false,
    "pycharm": {
     "name": "#%%\n"
    }
   }
  },
  {
   "cell_type": "code",
   "execution_count": 80,
   "outputs": [],
   "source": [
    "class Action:\n",
    "    REVOKE = 0\n",
    "    POST = 1\n",
    "    MATCH = 2"
   ],
   "metadata": {
    "collapsed": false,
    "pycharm": {
     "name": "#%%\n"
    }
   }
  },
  {
   "cell_type": "code",
   "execution_count": 81,
   "outputs": [],
   "source": [
    "CODES = ['USD000000TOD', 'USD000UTSTOM', 'EUR_RUB__TOD', 'EUR_RUB__TOM', 'EURUSD000TOD', 'EURUSD000TOM']"
   ],
   "metadata": {
    "collapsed": false,
    "pycharm": {
     "name": "#%%\n"
    }
   }
  },
  {
   "cell_type": "code",
   "execution_count": 82,
   "outputs": [],
   "source": [
    "instruments_info = {'USD000000TOD': {'SCHEDULE': 174500000000, 'PRICE_STEP': 0.0025, 'INDEX':0},\n",
    "                    'USD000UTSTOM': {'SCHEDULE': 235000000000, 'PRICE_STEP': 0.0025, 'INDEX':1},\n",
    "                    'EUR_RUB__TOD': {'SCHEDULE': 150000000000, 'PRICE_STEP': 0.0025, 'INDEX':2},\n",
    "                    'EUR_RUB__TOM': {'SCHEDULE': 235000000000, 'PRICE_STEP': 0.0025, 'INDEX':3},\n",
    "                    'EURUSD000TOM': {'SCHEDULE': 235000000000, 'PRICE_STEP': 0.00001, 'INDEX':4},\n",
    "                    'EURUSD000TOD': {'SCHEDULE': 150000000000, 'PRICE_STEP': 0.00001, 'INDEX':5}}"
   ],
   "metadata": {
    "collapsed": false,
    "pycharm": {
     "name": "#%%\n"
    }
   }
  },
  {
   "cell_type": "code",
   "execution_count": 83,
   "outputs": [],
   "source": [
    "# filtering orders\n",
    "df_order = order_log[(order_log['SECCODE'].isin(CODES)) & (order_log['TIME'] < 235000000000)].copy()[:1000]\n",
    "df_trade = trade_log[trade_log['SECCODE'].isin(CODES)].copy()\n",
    "\n",
    "# harvard professor wrote this +100000 IQ code\n",
    "# to sort actions by the following order: post, match, revoke\n",
    "prep_dic = {Action.POST: 0, Action.MATCH: 1, Action.REVOKE: 2}\n",
    "unprep_dic = { v: k for k, v in prep_dic.items() } # Inverse `prep_dic`\n",
    "\n",
    "df_order['ACTION'] = df_order['ACTION'].apply(lambda num: prep_dic[num])\n",
    "df_order.sort_values(by = ['TIME', 'ACTION'], inplace=True)\n",
    "df_order['ACTION'] = df_order['ACTION'].apply(lambda num: unprep_dic[num])"
   ],
   "metadata": {
    "collapsed": false,
    "pycharm": {
     "name": "#%%\n"
    }
   }
  },
  {
   "cell_type": "code",
   "execution_count": 84,
   "outputs": [
    {
     "data": {
      "text/plain": "   NO       SECCODE BUYSELL          TIME  ORDERNO  ACTION   PRICE   VOLUME  \\\n0   1  EUR_RUB__TOD       B  100000050299        1       1  68.610  1000000   \n1   2  USD000000TOD       S  100000050316        2       1  56.600  1000000   \n2   3  EUR_RUB__TOD       S  100000050325        3       1  69.065  1000000   \n3   4  EUR_RUB__TOM       B  100000050353        4       1  68.725  1000000   \n4   5  USD000000TOD       B  100000050361        5       1  56.210  1000000   \n\n   TRADENO  TRADEPRICE  \n0      NaN         NaN  \n1      NaN         NaN  \n2      NaN         NaN  \n3      NaN         NaN  \n4      NaN         NaN  ",
      "text/html": "<div>\n<style scoped>\n    .dataframe tbody tr th:only-of-type {\n        vertical-align: middle;\n    }\n\n    .dataframe tbody tr th {\n        vertical-align: top;\n    }\n\n    .dataframe thead th {\n        text-align: right;\n    }\n</style>\n<table border=\"1\" class=\"dataframe\">\n  <thead>\n    <tr style=\"text-align: right;\">\n      <th></th>\n      <th>NO</th>\n      <th>SECCODE</th>\n      <th>BUYSELL</th>\n      <th>TIME</th>\n      <th>ORDERNO</th>\n      <th>ACTION</th>\n      <th>PRICE</th>\n      <th>VOLUME</th>\n      <th>TRADENO</th>\n      <th>TRADEPRICE</th>\n    </tr>\n  </thead>\n  <tbody>\n    <tr>\n      <th>0</th>\n      <td>1</td>\n      <td>EUR_RUB__TOD</td>\n      <td>B</td>\n      <td>100000050299</td>\n      <td>1</td>\n      <td>1</td>\n      <td>68.610</td>\n      <td>1000000</td>\n      <td>NaN</td>\n      <td>NaN</td>\n    </tr>\n    <tr>\n      <th>1</th>\n      <td>2</td>\n      <td>USD000000TOD</td>\n      <td>S</td>\n      <td>100000050316</td>\n      <td>2</td>\n      <td>1</td>\n      <td>56.600</td>\n      <td>1000000</td>\n      <td>NaN</td>\n      <td>NaN</td>\n    </tr>\n    <tr>\n      <th>2</th>\n      <td>3</td>\n      <td>EUR_RUB__TOD</td>\n      <td>S</td>\n      <td>100000050325</td>\n      <td>3</td>\n      <td>1</td>\n      <td>69.065</td>\n      <td>1000000</td>\n      <td>NaN</td>\n      <td>NaN</td>\n    </tr>\n    <tr>\n      <th>3</th>\n      <td>4</td>\n      <td>EUR_RUB__TOM</td>\n      <td>B</td>\n      <td>100000050353</td>\n      <td>4</td>\n      <td>1</td>\n      <td>68.725</td>\n      <td>1000000</td>\n      <td>NaN</td>\n      <td>NaN</td>\n    </tr>\n    <tr>\n      <th>4</th>\n      <td>5</td>\n      <td>USD000000TOD</td>\n      <td>B</td>\n      <td>100000050361</td>\n      <td>5</td>\n      <td>1</td>\n      <td>56.210</td>\n      <td>1000000</td>\n      <td>NaN</td>\n      <td>NaN</td>\n    </tr>\n  </tbody>\n</table>\n</div>"
     },
     "execution_count": 84,
     "metadata": {},
     "output_type": "execute_result"
    }
   ],
   "source": [
    "df_order.head()"
   ],
   "metadata": {
    "collapsed": false,
    "pycharm": {
     "name": "#%%\n"
    }
   }
  },
  {
   "cell_type": "code",
   "execution_count": 85,
   "outputs": [
    {
     "data": {
      "text/plain": "     NO       SECCODE BUYSELL          TIME  ORDERNO  ACTION   PRICE   VOLUME  \\\n99  100  EUR_RUB__TOM       S  100000210798       57       0  68.875  1000000   \n\n    TRADENO  TRADEPRICE  \n99      NaN         NaN  ",
      "text/html": "<div>\n<style scoped>\n    .dataframe tbody tr th:only-of-type {\n        vertical-align: middle;\n    }\n\n    .dataframe tbody tr th {\n        vertical-align: top;\n    }\n\n    .dataframe thead th {\n        text-align: right;\n    }\n</style>\n<table border=\"1\" class=\"dataframe\">\n  <thead>\n    <tr style=\"text-align: right;\">\n      <th></th>\n      <th>NO</th>\n      <th>SECCODE</th>\n      <th>BUYSELL</th>\n      <th>TIME</th>\n      <th>ORDERNO</th>\n      <th>ACTION</th>\n      <th>PRICE</th>\n      <th>VOLUME</th>\n      <th>TRADENO</th>\n      <th>TRADEPRICE</th>\n    </tr>\n  </thead>\n  <tbody>\n    <tr>\n      <th>99</th>\n      <td>100</td>\n      <td>EUR_RUB__TOM</td>\n      <td>S</td>\n      <td>100000210798</td>\n      <td>57</td>\n      <td>0</td>\n      <td>68.875</td>\n      <td>1000000</td>\n      <td>NaN</td>\n      <td>NaN</td>\n    </tr>\n  </tbody>\n</table>\n</div>"
     },
     "execution_count": 85,
     "metadata": {},
     "output_type": "execute_result"
    }
   ],
   "source": [
    "df_order[df_order['NO'] == 100]"
   ],
   "metadata": {
    "collapsed": false,
    "pycharm": {
     "name": "#%%\n"
    }
   }
  },
  {
   "cell_type": "code",
   "execution_count": 86,
   "outputs": [
    {
     "data": {
      "text/plain": "     TRADENO       SECCODE    TIME  BUYORDERNO  SELLORDERNO    PRICE  VOLUME\n0  163897149  USD000000TOD  100000          88           90  56.3800   70000\n1  163897150  USD000UTSTOM  100001         296          628  56.4000    1000\n2  163897151  USD000UTSTOM  100001         296          663  56.4000    1000\n3  163897152  USD000UTSTOM  100001         701          184  56.4475    1000\n4  163897153  USD000UTSTOM  100001         296          881  56.4000  118000",
      "text/html": "<div>\n<style scoped>\n    .dataframe tbody tr th:only-of-type {\n        vertical-align: middle;\n    }\n\n    .dataframe tbody tr th {\n        vertical-align: top;\n    }\n\n    .dataframe thead th {\n        text-align: right;\n    }\n</style>\n<table border=\"1\" class=\"dataframe\">\n  <thead>\n    <tr style=\"text-align: right;\">\n      <th></th>\n      <th>TRADENO</th>\n      <th>SECCODE</th>\n      <th>TIME</th>\n      <th>BUYORDERNO</th>\n      <th>SELLORDERNO</th>\n      <th>PRICE</th>\n      <th>VOLUME</th>\n    </tr>\n  </thead>\n  <tbody>\n    <tr>\n      <th>0</th>\n      <td>163897149</td>\n      <td>USD000000TOD</td>\n      <td>100000</td>\n      <td>88</td>\n      <td>90</td>\n      <td>56.3800</td>\n      <td>70000</td>\n    </tr>\n    <tr>\n      <th>1</th>\n      <td>163897150</td>\n      <td>USD000UTSTOM</td>\n      <td>100001</td>\n      <td>296</td>\n      <td>628</td>\n      <td>56.4000</td>\n      <td>1000</td>\n    </tr>\n    <tr>\n      <th>2</th>\n      <td>163897151</td>\n      <td>USD000UTSTOM</td>\n      <td>100001</td>\n      <td>296</td>\n      <td>663</td>\n      <td>56.4000</td>\n      <td>1000</td>\n    </tr>\n    <tr>\n      <th>3</th>\n      <td>163897152</td>\n      <td>USD000UTSTOM</td>\n      <td>100001</td>\n      <td>701</td>\n      <td>184</td>\n      <td>56.4475</td>\n      <td>1000</td>\n    </tr>\n    <tr>\n      <th>4</th>\n      <td>163897153</td>\n      <td>USD000UTSTOM</td>\n      <td>100001</td>\n      <td>296</td>\n      <td>881</td>\n      <td>56.4000</td>\n      <td>118000</td>\n    </tr>\n  </tbody>\n</table>\n</div>"
     },
     "execution_count": 86,
     "metadata": {},
     "output_type": "execute_result"
    }
   ],
   "source": [
    "df_trade.head()"
   ],
   "metadata": {
    "collapsed": false,
    "pycharm": {
     "name": "#%%\n"
    }
   }
  },
  {
   "cell_type": "code",
   "execution_count": 87,
   "outputs": [
    {
     "name": "stdout",
     "output_type": "stream",
     "text": [
      "<class 'pandas.core.frame.DataFrame'>\n",
      "Int64Index: 59713 entries, 0 to 61879\n",
      "Data columns (total 7 columns):\n",
      " #   Column       Non-Null Count  Dtype  \n",
      "---  ------       --------------  -----  \n",
      " 0   TRADENO      59713 non-null  int64  \n",
      " 1   SECCODE      59713 non-null  object \n",
      " 2   TIME         59713 non-null  int64  \n",
      " 3   BUYORDERNO   59713 non-null  int64  \n",
      " 4   SELLORDERNO  59713 non-null  int64  \n",
      " 5   PRICE        59713 non-null  float64\n",
      " 6   VOLUME       59713 non-null  int64  \n",
      "dtypes: float64(1), int64(5), object(1)\n",
      "memory usage: 3.6+ MB\n"
     ]
    }
   ],
   "source": [
    "df_trade.info()"
   ],
   "metadata": {
    "collapsed": false,
    "pycharm": {
     "name": "#%%\n"
    }
   }
  },
  {
   "cell_type": "code",
   "execution_count": 88,
   "outputs": [
    {
     "data": {
      "text/plain": "163897154.0    2\n163897153.0    2\n163897151.0    2\n163897152.0    2\n163897149.0    2\n163897150.0    2\nName: TRADENO, dtype: int64"
     },
     "execution_count": 88,
     "metadata": {},
     "output_type": "execute_result"
    }
   ],
   "source": [
    "df_order['TRADENO'].value_counts()"
   ],
   "metadata": {
    "collapsed": false,
    "pycharm": {
     "name": "#%%\n"
    }
   }
  },
  {
   "cell_type": "code",
   "execution_count": 89,
   "outputs": [],
   "source": [
    "# Helper functions\n",
    "\n",
    "def drop_by_entry(df_cur, entry, inplace=True):\n",
    "    df_cur.drop(df_cur[df_cur['ORDERNO'] == entry['ORDERNO']].index, inplace=inplace)\n",
    "\n",
    "def reduce_by_entry(df_cur, entry, FROM, TO):\n",
    "    df_cur.loc[df_cur[df_cur['ORDERNO'] == entry['ORDERNO']].index, ['VOLUME']] = FROM['VOLUME'] - TO['VOLUME']"
   ],
   "metadata": {
    "collapsed": false,
    "pycharm": {
     "name": "#%%\n"
    }
   }
  },
  {
   "cell_type": "code",
   "execution_count": 90,
   "outputs": [],
   "source": [
    "total_mistakes = 0\n",
    "\n",
    "def print_error(error):\n",
    "    global total_mistakes\n",
    "    print('-' * 40)\n",
    "    print(f'in row: {row[\"NO\"]}')\n",
    "    print(error)\n",
    "    print('-' * 40)\n",
    "    print()\n",
    "    total_mistakes += 1\n",
    "\n",
    "def check_exists(df_cur, row, NO='ORDERNO'):\n",
    "    # check if the given ORDERNO exists\n",
    "    # sub_df = df_cur[df_cur[NO] == row[NO]]\n",
    "    df_cur_searchable = df_cur.set_index(NO)\n",
    "    # sub_df = df_cur[df_cur_searchable.isin(row[NO])]\n",
    "    sub_df = df_cur[df_cur_searchable==row[NO]]\n",
    "    if len(sub_df) > 0:\n",
    "        return True, sub_df\n",
    "    # printing the error\n",
    "    else:\n",
    "        print_error(f\"ERROR: Record with {NO} {row[NO]} doesn't exist\")\n",
    "        return False, None\n",
    "\n",
    "\n",
    "def handle_revoke(df_cur, row):\n",
    "    # check if the given ORDERNO exists\n",
    "    check, sub_df = check_exists(df_cur, row)\n",
    "    df_cur_searchable = df_cur.set_index('ORDERNO')\n",
    "    if check:\n",
    "        series = sub_df.iloc[0]\n",
    "        # check if revoking volume is not greater than the current one\n",
    "        if series['VOLUME'] >= row['VOLUME']:\n",
    "            if series['VOLUME'] == row['VOLUME']:\n",
    "                # removing the record\n",
    "                # df_cur.drop(df_cur[df_cur['ORDERNO'] == row['ORDERNO']].index, inplace=True)\n",
    "                # df_cur.drop(df_cur_searchable.isin(row['ORDERNO']).index, inplace=True)\n",
    "                df_cur.drop(df_cur[df_cur_searchable==row['ORDERNO']].index, inplace=True)\n",
    "\n",
    "            else:\n",
    "                # reducing the amount\n",
    "                # df_cur.loc[df_cur[df_cur['ORDERNO'] == row['ORDERNO']].index, ['VOLUME']] = series['VOLUME'] - row['VOLUME']\n",
    "                # df_cur.iat[df_cur_searchable.isin(row['ORDERNO']).index, 'VOLUME'] = series['VOLUME'] - row['VOLUME']\n",
    "                df_cur.iat[df_cur[df_cur_searchable==row['ORDERNO']].index, 'VOLUME'] = series['VOLUME'] - row['VOLUME']\n",
    "        # printing the error\n",
    "        else:\n",
    "            # Delete negative number\n",
    "            # df_cur.drop(df_cur[df_cur['ORDERNO'] == row['ORDERNO']].index, inplace=True)\n",
    "            # df_cur.drop(df_cur_searchable.isin(row['ORDERNO']).index, inplace=True)\n",
    "            df_cur.drop(df_cur[df_cur_searchable==row['ORDERNO']].index, inplace=True)\n",
    "            print_error(\"ERROR: Cannot revoke more that there is\")\n",
    "\n",
    "\n",
    "def handle_match(df_cur, row):\n",
    "    global df_trade\n",
    "    # check if the given ORDERNO exists\n",
    "    check, sub_df = check_exists(df_cur, row)\n",
    "    df_cur_searchable = df_cur.set_index('ORDERNO')\n",
    "    if check:\n",
    "        # check if the given tradeno exists in trade logs\n",
    "        check, sub_trade = check_exists(df_trade, row, 'TRADENO')\n",
    "        if check:\n",
    "            series_trade = sub_trade.iloc[0]\n",
    "\n",
    "            # seller = df_cur[df_cur['ORDERNO'] == series_trade['SELLORDERNO']]\n",
    "            # seller = df_cur[df_cur_searchable.isin(series_trade['SELLORDERNO'])]\n",
    "            seller = df_cur[df_cur_searchable==series_trade['SELLORDERNO']]\n",
    "            # buyer = df_cur[df_cur['ORDERNO'] == series_trade['BUYORDERNO']]\n",
    "            # buyer = df_cur[df_cur_searchable.isin(series_trade['BUYORDERNO'])]\n",
    "            buyer = df_cur[df_cur_searchable==series_trade['BUYORDERNO']]\n",
    "\n",
    "            # check if seller and buyer exist\n",
    "            if len(seller) > 0 and len(buyer) > 0:\n",
    "                seller = seller.iloc[0]\n",
    "                buyer = buyer.iloc[0]\n",
    "\n",
    "                # check if the volume is ok\n",
    "                if seller['VOLUME'] >= row['VOLUME'] and buyer['VOLUME'] >= row['VOLUME']:\n",
    "                    if seller['VOLUME'] == row['VOLUME']:\n",
    "                        # removing the record\n",
    "                        # df_cur.drop(df_cur[df_cur['ORDERNO'] == seller['ORDERNO']].index, inplace=True)\n",
    "                        # df_cur.drop(df_cur_searchable.isin(seller['ORDERNO']).index, inplace=True)\n",
    "                        df_cur.drop(df_cur[df_cur_searchable==seller['ORDERNO']].index, inplace=True)\n",
    "                    else:\n",
    "                        # reducing the amount\n",
    "                        # df_cur.loc[df_cur['ORDERNO'] == seller['ORDERNO'], ['VOLUME']] = seller['VOLUME'] - row['VOLUME']\n",
    "                        # df_cur.iat[df_cur_searchable.isin(seller['ORDERNO']).index, 'VOLUME'] = seller['VOLUME'] - row['VOLUME']\n",
    "                        df_cur.iat[df_cur[df_cur_searchable==seller['ORDERNO']].index, 'VOLUME'] = seller['VOLUME'] - row['VOLUME']\n",
    "\n",
    "                    if buyer['VOLUME'] == row['VOLUME']:\n",
    "                        # removing the record\n",
    "                        # df_cur.drop(df_cur[df_cur['ORDERNO'] == buyer['ORDERNO']].index, inplace=True)\n",
    "                        # df_cur.drop(df_cur_searchable.isin(buyer['ORDERNO']).index, inplace=True)\n",
    "                        df_cur.drop(df_cur[df_cur_searchable==buyer['ORDERNO']].index, inplace=True)\n",
    "                    else:\n",
    "                        # reducing the amount\n",
    "                        # df_cur.loc[df_cur['ORDERNO'] == buyer['ORDERNO'], ['VOLUME']] = buyer['VOLUME'] - row['VOLUME']\n",
    "                        # df_cur.iat[df_cur_searchable.isin(buyer['ORDERNO']).index, 'VOLUME'] = seller['VOLUME'] - row['VOLUME']\n",
    "                        df_cur.iat[df_cur[df_cur_searchable==buyer['ORDERNO']].index, 'VOLUME'] = seller['VOLUME'] - row['VOLUME']\n",
    "\n",
    "                # printing the error\n",
    "                else:\n",
    "                    # Delete negative numbers\n",
    "                    if seller['VOLUME'] < row['VOLUME']:\n",
    "                        # df_cur.drop(df_cur[df_cur['ORDERNO'] == seller['ORDERNO']].index, inplace=True)\n",
    "                        # df_cur.drop(df_cur_searchable.isin(seller['ORDERNO']).index, inplace=True)\n",
    "                        df_cur.drop(df_cur[df_cur_searchable==seller['ORDERNO']].index, inplace=True)\n",
    "                    else:\n",
    "                        # df_cur.loc[df_cur['ORDERNO'] == seller['ORDERNO'], ['VOLUME']] = seller['VOLUME'] - row['VOLUME']\n",
    "                        # df_cur.iat[df_cur_searchable.isin(seller['ORDERNO']).index, 'VOLUME'] = seller['VOLUME'] - row['VOLUME']\n",
    "                        df_cur.iat[df_cur[df_cur_searchable==seller['ORDERNO']].index, 'VOLUME'] = seller['VOLUME'] - row['VOLUME']\n",
    "\n",
    "                    # Delete negative numbers\n",
    "                    if buyer['VOLUME'] < row['VOLUME']:\n",
    "                       # df_cur.drop(df_cur[df_cur['ORDERNO'] == buyer['ORDERNO']].index, inplace=True)\n",
    "                       #  df_cur.drop(df_cur_searchable.isin(buyer['ORDERNO']).index, inplace=True)\n",
    "                        df_cur.drop(df_cur[df_cur_searchable==buyer['ORDERNO']].index, inplace=True)\n",
    "                    else:\n",
    "                        # df_cur.loc[df_cur['ORDERNO'] == buyer['ORDERNO'], ['VOLUME']] = buyer['VOLUME'] - row['VOLUME']\n",
    "                        # df_cur.iat[df_cur_searchable.isin(buyer['ORDERNO']).index, 'VOLUME'] = seller['VOLUME'] - row['VOLUME']\n",
    "                        df_cur.iat[df_cur[df_cur_searchable==buyer['ORDERNO']].index, 'VOLUME'] = seller['VOLUME'] - row['VOLUME']\n",
    "\n",
    "\n",
    "                    print_error(\"ERROR: Not enough amount for buying and/or selling\")\n",
    "\n",
    "            # printing the error\n",
    "            else:\n",
    "                print_error(f\"ERROR: There's no such buyer and/or seller\")"
   ],
   "metadata": {
    "collapsed": false,
    "pycharm": {
     "name": "#%%\n"
    }
   }
  },
  {
   "cell_type": "code",
   "execution_count": 91,
   "outputs": [
    {
     "data": {
      "text/plain": "      NO       SECCODE BUYSELL          TIME  ORDERNO  ACTION  PRICE  VOLUME  \\\n861  862  USD000UTSTOM       B  100001279110      701       1    0.0    1000   \n862  863  USD000UTSTOM       B  100001279110      701       2    0.0    1000   \n\n         TRADENO  TRADEPRICE  \n861          NaN         NaN  \n862  163897152.0     56.4475  ",
      "text/html": "<div>\n<style scoped>\n    .dataframe tbody tr th:only-of-type {\n        vertical-align: middle;\n    }\n\n    .dataframe tbody tr th {\n        vertical-align: top;\n    }\n\n    .dataframe thead th {\n        text-align: right;\n    }\n</style>\n<table border=\"1\" class=\"dataframe\">\n  <thead>\n    <tr style=\"text-align: right;\">\n      <th></th>\n      <th>NO</th>\n      <th>SECCODE</th>\n      <th>BUYSELL</th>\n      <th>TIME</th>\n      <th>ORDERNO</th>\n      <th>ACTION</th>\n      <th>PRICE</th>\n      <th>VOLUME</th>\n      <th>TRADENO</th>\n      <th>TRADEPRICE</th>\n    </tr>\n  </thead>\n  <tbody>\n    <tr>\n      <th>861</th>\n      <td>862</td>\n      <td>USD000UTSTOM</td>\n      <td>B</td>\n      <td>100001279110</td>\n      <td>701</td>\n      <td>1</td>\n      <td>0.0</td>\n      <td>1000</td>\n      <td>NaN</td>\n      <td>NaN</td>\n    </tr>\n    <tr>\n      <th>862</th>\n      <td>863</td>\n      <td>USD000UTSTOM</td>\n      <td>B</td>\n      <td>100001279110</td>\n      <td>701</td>\n      <td>2</td>\n      <td>0.0</td>\n      <td>1000</td>\n      <td>163897152.0</td>\n      <td>56.4475</td>\n    </tr>\n  </tbody>\n</table>\n</div>"
     },
     "execution_count": 91,
     "metadata": {},
     "output_type": "execute_result"
    }
   ],
   "source": [
    "df_order[df_order['PRICE'] == 0]"
   ],
   "metadata": {
    "collapsed": false,
    "pycharm": {
     "name": "#%%\n"
    }
   }
  },
  {
   "cell_type": "code",
   "execution_count": 92,
   "outputs": [],
   "source": [
    "# ГОВНОКОД NO.1\n",
    "# блин хз возможно класс больше не нужен\n",
    "\n",
    "class Spectrum:\n",
    "  def __init__(self, seccode):\n",
    "        self.seccode = seccode\n",
    "        self.best_ask = 100000000\n",
    "        self.best_bid = -1\n",
    "        self.bids = [0]*10\n",
    "        self.asks = [0]*10"
   ],
   "metadata": {
    "collapsed": false,
    "pycharm": {
     "name": "#%%\n"
    }
   }
  },
  {
   "cell_type": "code",
   "execution_count": 93,
   "outputs": [],
   "source": [
    "# Helper functions\n",
    "import math\n",
    "\n",
    "def distance_idx(dif, step):\n",
    "    return math.floor(dif/(step*5))"
   ],
   "metadata": {
    "collapsed": false,
    "pycharm": {
     "name": "#%%\n"
    }
   }
  },
  {
   "cell_type": "code",
   "execution_count": 94,
   "outputs": [],
   "source": [
    "# ГОВНОКОД NO.2\n",
    "\n",
    "spectrums = dict()\n",
    "for i in instruments_info.keys():\n",
    "  spectrums[i] = Spectrum(i)"
   ],
   "metadata": {
    "collapsed": false,
    "pycharm": {
     "name": "#%%\n"
    }
   }
  },
  {
   "cell_type": "code",
   "execution_count": 95,
   "outputs": [],
   "source": [
    "# ГОВНОКОД NO.3\n",
    "\n",
    "def change_spectrums(df_cur, row):\n",
    "    seccode = row['SECCODE']\n",
    "    step = instruments_info[seccode]['PRICE_STEP']\n",
    "\n",
    "    spectrum = spectrums[seccode]\n",
    "\n",
    "    new_price = row['PRICE']\n",
    "\n",
    "    if row['ACTION'] == Action.POST:\n",
    "\n",
    "        if row['BUYSELL'] == 'B':\n",
    "            if new_price > spectrum.best_bid:\n",
    "                # temp_b = df_cur.loc[(df_cur['SECCODE'] == seccode) & (df_cur['BUYSELL'] == 'B')]\n",
    "                temp_b = df_cur[(df_cur['SECCODE'] == seccode) & (df_cur['BUYSELL'] == 'B')]\n",
    "\n",
    "                spectrum.best_bid = new_price\n",
    "                new_bids = [0]*10\n",
    "\n",
    "                for index, row in temp_b.iterrows():\n",
    "                    price = row['PRICE']\n",
    "                    dif = spectrum.best_bid - price\n",
    "                    if dif > step*49:\n",
    "                        pass\n",
    "                    else:\n",
    "                        new_bids[9 - distance_idx(dif, step)] += row['VOLUME']\n",
    "\n",
    "                spectrum.bids = new_bids\n",
    "            elif new_price == spectrum.best_bid:\n",
    "                spectrum.bids[9] += row['VOLUME']\n",
    "            else:\n",
    "                dif = spectrum.best_bid - new_price\n",
    "                if dif > step*49:\n",
    "                    pass\n",
    "                else:\n",
    "                    spectrum.bids[9 - distance_idx(dif, step)] += row['VOLUME']\n",
    "\n",
    "        if row['BUYSELL'] == 'S':\n",
    "            if new_price < spectrum.best_ask:\n",
    "                # temp_s = df_cur.loc[(df_cur['SECCODE'] == seccode) & (df_cur['BUYSELL'] == 'S')]\n",
    "                temp_s = df_cur[(df_cur['SECCODE'] == seccode) & (df_cur['BUYSELL'] == 'S')]\n",
    "\n",
    "                spectrum.best_ask = new_price\n",
    "                new_asks = [0]*10\n",
    "\n",
    "                for index, row in temp_s.iterrows():\n",
    "                    price = row['PRICE']\n",
    "                    dif = price - spectrum.best_ask\n",
    "                    if dif > step*49:\n",
    "                        pass\n",
    "                    else:\n",
    "                        new_asks[distance_idx(dif, step)] += row['VOLUME']\n",
    "\n",
    "                spectrum.asks = new_asks\n",
    "            elif new_price == spectrum.best_ask:\n",
    "                spectrum.asks[0] += row['VOLUME']\n",
    "            else:\n",
    "                dif = new_price - spectrum.best_ask\n",
    "                if dif > step*49:\n",
    "                    pass\n",
    "                else:\n",
    "                    spectrum.asks[distance_idx(dif, step)] += row['VOLUME']\n",
    "\n",
    "    # проверить если прайс = бест\n",
    "    #elif row['ACTION'] == Action.REVOKE:\n",
    "    else:\n",
    "        if row['BUYSELL'] == 'B':\n",
    "\n",
    "            if new_price == spectrum.best_bid:\n",
    "                if row['VOLUME'] >= spectrum.bids[9]:\n",
    "                    # temp_b = df_cur.loc[(df_cur['SECCODE'] == seccode) & (df_cur['BUYSELL'] == 'B')]\n",
    "                    temp_b = df_cur[(df_cur['SECCODE'] == seccode) & (df_cur['BUYSELL'] == 'B')]\n",
    "                    spectrum.best_bid = temp_b['PRICE'].max()\n",
    "                    new_bids = [0]*10\n",
    "\n",
    "                    for index, row in temp_b.iterrows():\n",
    "                        price = row['PRICE']\n",
    "                        dif = spectrum.best_bid - price\n",
    "                        if dif > step*49:\n",
    "                            pass\n",
    "                        else:\n",
    "                            new_bids[9 - distance_idx(dif, step)] += row['VOLUME']\n",
    "\n",
    "                    spectrum.bids = new_bids\n",
    "                else:\n",
    "                    spectrum.bids[9] -= row['VOLUME']\n",
    "\n",
    "            elif new_price > spectrum.best_bid:\n",
    "                pass\n",
    "            else:\n",
    "                dif = spectrum.best_bid - new_price\n",
    "                if dif > step*49:\n",
    "                    pass\n",
    "                else:\n",
    "                    spectrum.bids[9 - distance_idx(dif, step)] -= row['VOLUME']\n",
    "\n",
    "                if spectrum.bids[9 - distance_idx(dif, step)] < 0:\n",
    "                    spectrum.bids[9 - distance_idx(dif, step)] = 0\n",
    "\n",
    "        if row['BUYSELL'] == 'S':\n",
    "\n",
    "            if new_price == spectrum.best_ask:\n",
    "                if row['VOLUME'] >= spectrum.asks[0]:\n",
    "                    # temp_s = df_cur.loc[(df_cur['SECCODE'] == seccode) & (df_cur['BUYSELL'] == 'S')]\n",
    "                    temp_s = df_cur[(df_cur['SECCODE'] == seccode) & (df_cur['BUYSELL'] == 'S')]\n",
    "\n",
    "                    spectrum.best_ask = temp_s['PRICE'].min()\n",
    "                    new_asks = [0]*10\n",
    "\n",
    "                    for index, row in temp_s.iterrows():\n",
    "                        price = row['PRICE']\n",
    "                        dif = price - spectrum.best_ask\n",
    "                        if dif > step*49:\n",
    "                            pass\n",
    "                        else:\n",
    "                            new_asks[distance_idx(dif, step)] += row['VOLUME']\n",
    "\n",
    "                    spectrum.asks = new_asks\n",
    "                else:\n",
    "                    spectrum.asks[0] -= row['VOLUME']\n",
    "\n",
    "            elif new_price < spectrum.best_ask:\n",
    "                pass\n",
    "            else:\n",
    "                dif = new_price - spectrum.best_ask\n",
    "                if dif > step*49:\n",
    "                    pass\n",
    "                else:\n",
    "                    spectrum.asks[distance_idx(dif, step)] -= row['VOLUME']\n",
    "                    if spectrum.asks[distance_idx(dif, step)] < 0:\n",
    "                        spectrum.asks[distance_idx(dif, step)] = 0\n",
    "\n",
    "    b = spectrum.bids.copy()\n",
    "    b.extend(spectrum.asks)\n",
    "\n",
    "    return b"
   ],
   "metadata": {
    "collapsed": false,
    "pycharm": {
     "name": "#%%\n"
    }
   }
  },
  {
   "cell_type": "code",
   "execution_count": 96,
   "outputs": [
    {
     "name": "stdout",
     "output_type": "stream",
     "text": [
      "----------------------------------------\n",
      "in row: 13\n",
      "ERROR: Cannot revoke more that there is\n",
      "----------------------------------------\n",
      "\n",
      "----------------------------------------\n",
      "in row: 16\n",
      "ERROR: Cannot revoke more that there is\n",
      "----------------------------------------\n",
      "\n",
      "----------------------------------------\n",
      "in row: 19\n",
      "ERROR: Cannot revoke more that there is\n",
      "----------------------------------------\n",
      "\n",
      "----------------------------------------\n",
      "in row: 20\n",
      "ERROR: Record with ORDERNO 16 doesn't exist\n",
      "----------------------------------------\n",
      "\n"
     ]
    },
    {
     "ename": "ValueError",
     "evalue": "cannot convert float NaN to integer",
     "output_type": "error",
     "traceback": [
      "\u001B[1;31m---------------------------------------------------------------------------\u001B[0m",
      "\u001B[1;31mValueError\u001B[0m                                Traceback (most recent call last)",
      "\u001B[1;32m<ipython-input-96-d2155bdbe473>\u001B[0m in \u001B[0;36m<module>\u001B[1;34m\u001B[0m\n\u001B[0;32m     29\u001B[0m \u001B[1;33m\u001B[0m\u001B[0m\n\u001B[0;32m     30\u001B[0m     \u001B[1;31m# для каждой новой row считаем спектрум и добавляем в файлик\u001B[0m\u001B[1;33m\u001B[0m\u001B[1;33m\u001B[0m\u001B[1;33m\u001B[0m\u001B[0m\n\u001B[1;32m---> 31\u001B[1;33m     \u001B[0mvalues\u001B[0m \u001B[1;33m=\u001B[0m \u001B[0mchange_spectrums\u001B[0m\u001B[1;33m(\u001B[0m\u001B[0mdf_cur\u001B[0m\u001B[1;33m,\u001B[0m \u001B[0mrow\u001B[0m\u001B[1;33m)\u001B[0m\u001B[1;33m\u001B[0m\u001B[1;33m\u001B[0m\u001B[0m\n\u001B[0m\u001B[0;32m     32\u001B[0m     \u001B[0md\u001B[0m \u001B[1;33m=\u001B[0m \u001B[1;33m{\u001B[0m \u001B[1;34m'SECCODE'\u001B[0m\u001B[1;33m:\u001B[0m \u001B[0mrow\u001B[0m\u001B[1;33m[\u001B[0m\u001B[1;34m'SECCODE'\u001B[0m\u001B[1;33m]\u001B[0m\u001B[1;33m,\u001B[0m \u001B[1;34m'TIMESTAMP'\u001B[0m\u001B[1;33m:\u001B[0m \u001B[0mrow\u001B[0m\u001B[1;33m[\u001B[0m\u001B[1;34m'TIME'\u001B[0m\u001B[1;33m]\u001B[0m\u001B[1;33m,\u001B[0m \u001B[1;34m'BID_ASK'\u001B[0m\u001B[1;33m:\u001B[0m \u001B[0mvalues\u001B[0m \u001B[1;33m}\u001B[0m\u001B[1;33m\u001B[0m\u001B[1;33m\u001B[0m\u001B[0m\n\u001B[0;32m     33\u001B[0m     \u001B[0mdf_spec\u001B[0m \u001B[1;33m=\u001B[0m \u001B[0mdf_spec\u001B[0m\u001B[1;33m.\u001B[0m\u001B[0mappend\u001B[0m\u001B[1;33m(\u001B[0m\u001B[0md\u001B[0m\u001B[1;33m,\u001B[0m \u001B[0mignore_index\u001B[0m\u001B[1;33m=\u001B[0m\u001B[1;32mTrue\u001B[0m\u001B[1;33m)\u001B[0m\u001B[1;33m\u001B[0m\u001B[1;33m\u001B[0m\u001B[0m\n",
      "\u001B[1;32m<ipython-input-95-d9afc289b751>\u001B[0m in \u001B[0;36mchange_spectrums\u001B[1;34m(df_cur, row)\u001B[0m\n\u001B[0;32m     35\u001B[0m                     \u001B[1;32mpass\u001B[0m\u001B[1;33m\u001B[0m\u001B[1;33m\u001B[0m\u001B[0m\n\u001B[0;32m     36\u001B[0m                 \u001B[1;32melse\u001B[0m\u001B[1;33m:\u001B[0m\u001B[1;33m\u001B[0m\u001B[1;33m\u001B[0m\u001B[0m\n\u001B[1;32m---> 37\u001B[1;33m                     \u001B[0mspectrum\u001B[0m\u001B[1;33m.\u001B[0m\u001B[0mbids\u001B[0m\u001B[1;33m[\u001B[0m\u001B[1;36m9\u001B[0m \u001B[1;33m-\u001B[0m \u001B[0mdistance_idx\u001B[0m\u001B[1;33m(\u001B[0m\u001B[0mdif\u001B[0m\u001B[1;33m,\u001B[0m \u001B[0mstep\u001B[0m\u001B[1;33m)\u001B[0m\u001B[1;33m]\u001B[0m \u001B[1;33m+=\u001B[0m \u001B[0mrow\u001B[0m\u001B[1;33m[\u001B[0m\u001B[1;34m'VOLUME'\u001B[0m\u001B[1;33m]\u001B[0m\u001B[1;33m\u001B[0m\u001B[1;33m\u001B[0m\u001B[0m\n\u001B[0m\u001B[0;32m     38\u001B[0m \u001B[1;33m\u001B[0m\u001B[0m\n\u001B[0;32m     39\u001B[0m         \u001B[1;32mif\u001B[0m \u001B[0mrow\u001B[0m\u001B[1;33m[\u001B[0m\u001B[1;34m'BUYSELL'\u001B[0m\u001B[1;33m]\u001B[0m \u001B[1;33m==\u001B[0m \u001B[1;34m'S'\u001B[0m\u001B[1;33m:\u001B[0m\u001B[1;33m\u001B[0m\u001B[1;33m\u001B[0m\u001B[0m\n",
      "\u001B[1;32m<ipython-input-93-8956642bc1c0>\u001B[0m in \u001B[0;36mdistance_idx\u001B[1;34m(dif, step)\u001B[0m\n\u001B[0;32m      3\u001B[0m \u001B[1;33m\u001B[0m\u001B[0m\n\u001B[0;32m      4\u001B[0m \u001B[1;32mdef\u001B[0m \u001B[0mdistance_idx\u001B[0m\u001B[1;33m(\u001B[0m\u001B[0mdif\u001B[0m\u001B[1;33m,\u001B[0m \u001B[0mstep\u001B[0m\u001B[1;33m)\u001B[0m\u001B[1;33m:\u001B[0m\u001B[1;33m\u001B[0m\u001B[1;33m\u001B[0m\u001B[0m\n\u001B[1;32m----> 5\u001B[1;33m     \u001B[1;32mreturn\u001B[0m \u001B[0mmath\u001B[0m\u001B[1;33m.\u001B[0m\u001B[0mfloor\u001B[0m\u001B[1;33m(\u001B[0m\u001B[0mdif\u001B[0m\u001B[1;33m/\u001B[0m\u001B[1;33m(\u001B[0m\u001B[0mstep\u001B[0m\u001B[1;33m*\u001B[0m\u001B[1;36m5\u001B[0m\u001B[1;33m)\u001B[0m\u001B[1;33m)\u001B[0m\u001B[1;33m\u001B[0m\u001B[1;33m\u001B[0m\u001B[0m\n\u001B[0m",
      "\u001B[1;31mValueError\u001B[0m: cannot convert float NaN to integer"
     ]
    }
   ],
   "source": [
    "start = time.time()\n",
    "k = 0\n",
    "# empty df for keeping track\n",
    "df_cur = pd.DataFrame(columns=df_order.columns)\n",
    "df_spec = pd.DataFrame(columns=['SECCODE', 'TIMESTAMP', 'BID_ASK'])\n",
    "\n",
    "# for processing each TRADENO only once\n",
    "matches = []\n",
    "\n",
    "# iterating through the order book\n",
    "# TODO: the loop to improve\n",
    "for index, row in df_order.iterrows():\n",
    "    # if post -> add to df_cur\n",
    "    if row['ACTION'] == Action.POST:\n",
    "        df_cur = df_cur.append(row)\n",
    "\n",
    "\n",
    "    elif row['ACTION'] == Action.REVOKE:\n",
    "        handle_revoke(df_cur, row)\n",
    "\n",
    "\n",
    "    elif row['ACTION'] == Action.MATCH:\n",
    "        if row['TRADENO'] in matches:\n",
    "            matches.remove(row['TRADENO'])\n",
    "            continue\n",
    "        else:\n",
    "            matches.append(row['TRADENO'])\n",
    "            handle_match(df_cur, row)\n",
    "\n",
    "    # для каждой новой row считаем спектрум и добавляем в файлик\n",
    "    values = change_spectrums(df_cur, row)\n",
    "    d = { 'SECCODE': row['SECCODE'], 'TIMESTAMP': row['TIME'], 'BID_ASK': values }\n",
    "    df_spec = df_spec.append(d, ignore_index=True)\n",
    "    #print(values)\n",
    "    k += 1\n",
    "    if k%50000 == 0:\n",
    "        df_spec.to_csv('/content/drive/MyDrive/DataMining/spectrums/'+str(k//50000)+'.csv')\n",
    "\n",
    "\n",
    "df_cur.to_csv('no-thread-lol.csv')\n",
    "df_spec.to_csv('spectrum.csv')\n",
    "\n",
    "end = time.time()\n",
    "\n",
    "print(end - start)"
   ],
   "metadata": {
    "collapsed": false,
    "pycharm": {
     "name": "#%%\n"
    }
   }
  },
  {
   "cell_type": "code",
   "execution_count": null,
   "outputs": [],
   "source": [
    "df_spec.to_csv('/content/drive/MyDrive/DataMining/spectrum.csv')"
   ],
   "metadata": {
    "collapsed": false,
    "pycharm": {
     "name": "#%%\n"
    }
   }
  },
  {
   "cell_type": "code",
   "execution_count": null,
   "outputs": [],
   "source": [
    "df_spec"
   ],
   "metadata": {
    "collapsed": false,
    "pycharm": {
     "name": "#%%\n"
    }
   }
  },
  {
   "cell_type": "code",
   "execution_count": null,
   "outputs": [],
   "source": [
    "final = df_cur.groupby(['SECCODE','BUYSELL','PRICE'])['VOLUME'].sum().reset_index()\\\n",
    "    .sort_values(by=['SECCODE', 'BUYSELL', 'PRICE'])"
   ],
   "metadata": {
    "collapsed": false,
    "pycharm": {
     "name": "#%%\n"
    }
   }
  },
  {
   "cell_type": "code",
   "execution_count": null,
   "outputs": [],
   "source": [
    "final"
   ],
   "metadata": {
    "collapsed": false,
    "pycharm": {
     "name": "#%%\n"
    }
   }
  },
  {
   "cell_type": "code",
   "execution_count": null,
   "outputs": [],
   "source": [
    "final.to_csv('OrderBook' + OrderLog[8:] +'.csv')"
   ],
   "metadata": {
    "collapsed": false,
    "pycharm": {
     "name": "#%%\n"
    }
   }
  }
 ],
 "metadata": {
  "kernelspec": {
   "display_name": "Python 3",
   "language": "python",
   "name": "python3"
  },
  "language_info": {
   "codemirror_mode": {
    "name": "ipython",
    "version": 2
   },
   "file_extension": ".py",
   "mimetype": "text/x-python",
   "name": "python",
   "nbconvert_exporter": "python",
   "pygments_lexer": "ipython2",
   "version": "2.7.6"
  }
 },
 "nbformat": 4,
 "nbformat_minor": 0
}