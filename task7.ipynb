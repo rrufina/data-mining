{
 "cells": [
  {
   "cell_type": "code",
   "execution_count": null,
   "metadata": {
    "id": "FO6DTw9pJ-Uf"
   },
   "outputs": [],
   "source": [
    "import numpy as np\n",
    "import pandas as pd\n",
    "import time\n",
    "import os\n",
    "from utils import *\n",
    "from orderbook import OrderBook\n",
    "from spectrum import Spectrum\n",
    "import matplotlib.pyplot as plt"
   ]
  },
  {
   "cell_type": "markdown",
   "metadata": {},
   "source": [
    "## Orderbooks and Spectrums"
   ]
  },
  {
   "cell_type": "code",
   "execution_count": null,
   "metadata": {
    "id": "FO6DTw9pJ-Uf"
   },
   "outputs": [],
   "source": [
    "# Reading\n",
    "WORKING_DIR = r\"D:\\Innopolis University\\2021 Spring Semester\\Data Mining\\data-mining\\\\\"\n",
    "orderlog_filename = WORKING_DIR + 'OrderLog20180301.txt'\n",
    "order_log = read_orderlog(orderlog_filename)\n",
    "# preprocesiing\n",
    "order_log = preprocess_orderlog(order_log)"
   ]
  },
  {
   "cell_type": "code",
   "execution_count": null,
   "metadata": {
    "id": "FO6DTw9pJ-Uf"
   },
   "outputs": [],
   "source": [
    "SECCODES = ['USD000UTSTOM', 'EUR_RUB__TOM']\n",
    "\n",
    "# creating order book for each seccode\n",
    "order_books = dict()\n",
    "for secc in SECCODES:\n",
    "    order_books[secc] = OrderBook(secc)\n",
    "\n",
    "# creating spectrum for each seccode\n",
    "spectrums = dict()\n",
    "for secc in SECCODES:\n",
    "    spectrums[secc] = Spectrum(seccode=secc)\n",
    "\n",
    "start = time.time()\n",
    "\n",
    "list_spec = []\n",
    "col_names = ['SECCODE', 'TIMESTAMP', 'BID_ASK']\n",
    "do_spec = True\n",
    "# FOR TASK 7\n",
    "mp_increments_USD = []\n",
    "mp_increments_EUR = []\n",
    "BEST_BID = -1\n",
    "BEST_ASK = 1e19\n",
    "prevUSD = -1e19\n",
    "prevEUR = -1e19\n",
    "\n",
    "init_time = 100000000000\n",
    "\n",
    "for row_log in order_log:\n",
    "    \n",
    "    if row_log['SECCODE'] not in SECCODES:\n",
    "        continue\n",
    "        \n",
    "    if instruments_info[row_log['SECCODE']]['SCHEDULE'] <= row_log['TIME']:\n",
    "        continue\n",
    "\n",
    "    is_ask = row_log['BUYSELL'] == 'S'\n",
    "\n",
    "    order_book = order_books[row_log['SECCODE']]\n",
    "    spectrum = spectrums[row_log['SECCODE']]\n",
    "    correct = False\n",
    "\n",
    "    # CATCHING AGGRESSORS\n",
    "    if row_log['PRICE'] == 0:\n",
    "        continue\n",
    "    if is_ask:\n",
    "        if spectrum.best_bid > 0 and row_log['PRICE'] <= spectrum.best_bid:\n",
    "            continue\n",
    "    else:\n",
    "        if spectrum.best_ask < 1e19 and row_log['PRICE'] >= spectrum.best_ask:\n",
    "            continue\n",
    "\n",
    "    # handle post\n",
    "    if row_log['ACTION'] == Action.POST:\n",
    "        order_book.add_entry(entry=row_log, \n",
    "                             ask=is_ask)\n",
    "        if do_spec:\n",
    "            spectrum.update_post(order_book=order_book, new_price=row_log['PRICE'], \n",
    "                             volume=row_log['VOLUME'], ask=is_ask)\n",
    "\n",
    "        correct = True\n",
    "\n",
    "    # handle revoke\n",
    "    elif row_log['ACTION'] == Action.REVOKE:\n",
    "        correct = order_book.revoke(orderno=row_log['ORDERNO'], volume=row_log['VOLUME'], \n",
    "                          ask=is_ask, row_numb=row_log['NO'])\n",
    "        if do_spec and correct:\n",
    "            spectrum.update_revoke(order_book=order_book, new_price=row_log['PRICE'], \n",
    "                             volume=row_log['VOLUME'], ask=is_ask)\n",
    "\n",
    "    elif row_log['ACTION'] == Action.MATCH:\n",
    "        correct = order_book.match(orderno=row_log['ORDERNO'], volume=row_log['VOLUME'], \n",
    "                          ask=is_ask, row_numb=row_log['NO'])\n",
    "        if do_spec and correct:\n",
    "            spectrum.update_match(order_book=order_book, new_price=row_log['PRICE'], \n",
    "                             volume=row_log['VOLUME'], ask=is_ask)\n",
    "\n",
    "    # TASK 7\n",
    "    if do_spec and correct:        \n",
    "        if row_log['SECCODE'] == 'USD000UTSTOM':\n",
    "            if prevUSD == -1e19:\n",
    "                incrUSD = 0\n",
    "                mid_px = 0\n",
    "            else:\n",
    "                if spectrum.best_bid == BEST_BID:\n",
    "                    continue\n",
    "                elif spectrum.best_ask == BEST_ASK:\n",
    "                    continue\n",
    "                else:\n",
    "                    mid_px = (spectrum.best_bid + spectrum.best_ask) / 2\n",
    "                \n",
    "                incrUSD = mid_px - prevUSD\n",
    "            \n",
    "            prevUSD = mid_px\n",
    "            \n",
    "            mp_increments_USD.append((incrUSD, row_log['TIME'] - init_time))\n",
    "        else:\n",
    "            if prevEUR == -1e19:\n",
    "                incrEUR = 0\n",
    "                mid_px = 0\n",
    "            else:\n",
    "                if spectrum.best_bid == BEST_BID:\n",
    "                    continue\n",
    "                elif spectrum.best_ask == BEST_ASK:\n",
    "                    continue\n",
    "                else:\n",
    "                    mid_px = (spectrum.best_bid + spectrum.best_ask) / 2\n",
    "                \n",
    "                incrEUR = mid_px - prevEUR\n",
    "            \n",
    "            prevEUR = mid_px\n",
    "            \n",
    "            mp_increments_EUR.append((incrEUR, row_log['TIME'] - init_time))"
   ]
  },
  {
   "cell_type": "markdown",
   "metadata": {},
   "source": [
    "## Get midpoint increments time series"
   ]
  },
  {
   "cell_type": "code",
   "execution_count": null,
   "metadata": {},
   "outputs": [],
   "source": [
    "mp_increments_USD[:5]"
   ]
  },
  {
   "cell_type": "code",
   "execution_count": null,
   "metadata": {},
   "outputs": [],
   "source": [
    "mp_increments_EUR[:5]"
   ]
  },
  {
   "cell_type": "code",
   "execution_count": null,
   "metadata": {},
   "outputs": [],
   "source": [
    "mp_increments_USD = mp_increments_USD[2:]\n",
    "mp_increments_EUR = mp_increments_EUR[2:]"
   ]
  },
  {
   "cell_type": "code",
   "execution_count": null,
   "metadata": {},
   "outputs": [],
   "source": [
    "mp_increments_USD[:5]"
   ]
  },
  {
   "cell_type": "code",
   "execution_count": null,
   "metadata": {},
   "outputs": [],
   "source": [
    "mp_increments_EUR[:5]"
   ]
  },
  {
   "cell_type": "code",
   "execution_count": null,
   "metadata": {},
   "outputs": [],
   "source": [
    "increments_USD = [ pair[0] for pair in mp_increments_USD ]\n",
    "increments_EUR = [ pair[0] for pair in mp_increments_EUR ]"
   ]
  },
  {
   "cell_type": "code",
   "execution_count": null,
   "metadata": {},
   "outputs": [],
   "source": [
    "timestamps_USD = [ pair[1] for pair in mp_increments_USD ]\n",
    "timestamps_EUR = [ pair[1] for pair in mp_increments_EUR ]"
   ]
  },
  {
   "cell_type": "code",
   "execution_count": null,
   "metadata": {},
   "outputs": [],
   "source": [
    "size_USD = len(mp_increments_USD)\n",
    "size_EUR = len(mp_increments_EUR)"
   ]
  },
  {
   "cell_type": "markdown",
   "metadata": {},
   "source": [
    "## Center time series"
   ]
  },
  {
   "cell_type": "code",
   "execution_count": null,
   "metadata": {
    "id": "Pd4V3RyGnPFq"
   },
   "outputs": [],
   "source": [
    "avg_USD = sum(increments_USD) / size_USD\n",
    "avg_EUR = sum(increments_EUR) / size_EUR"
   ]
  },
  {
   "cell_type": "code",
   "execution_count": null,
   "metadata": {},
   "outputs": [],
   "source": [
    "print(avg_USD, avg_EUR)"
   ]
  },
  {
   "cell_type": "code",
   "execution_count": null,
   "metadata": {
    "id": "Pd4V3RyGnPFq"
   },
   "outputs": [],
   "source": [
    "centered_mp_increments_USD = [ increment - avg_USD for increment in increments_USD ]\n",
    "centered_mp_increments_EUR = [ increment - avg_EUR for increment in increments_EUR ]"
   ]
  },
  {
   "cell_type": "code",
   "execution_count": null,
   "metadata": {},
   "outputs": [],
   "source": [
    "centered_mp_increments_USD[:5]"
   ]
  },
  {
   "cell_type": "code",
   "execution_count": null,
   "metadata": {},
   "outputs": [],
   "source": [
    "centered_mp_increments_EUR[:5]"
   ]
  },
  {
   "cell_type": "markdown",
   "metadata": {},
   "source": [
    "## Hayashi & Yoshida method"
   ]
  },
  {
   "cell_type": "code",
   "execution_count": null,
   "metadata": {
    "id": "Pd4V3RyGnPFq"
   },
   "outputs": [],
   "source": [
    "def find_first(arr, bound, tau):\n",
    "    # index первого времени, которое больше time_start\n",
    "    value = bound + tau\n",
    "    if value < arr[0]: return 0\n",
    "    if value > arr[-1]: return -1\n",
    "    lo = 0\n",
    "    hi = len(arr)-1\n",
    "    \n",
    "    while (lo <= hi):\n",
    "        mid = (hi + lo) // 2;\n",
    "        if value < arr[mid]:\n",
    "            hi = mid - 1\n",
    "        elif value > arr[mid]:\n",
    "            lo = mid + 1\n",
    "        else:\n",
    "            return mid\n",
    "    \n",
    "    return hi"
   ]
  },
  {
   "cell_type": "code",
   "execution_count": null,
   "metadata": {
    "id": "Pd4V3RyGnPFq"
   },
   "outputs": [],
   "source": [
    "def find_last(arr, bound, tau):\n",
    "   # index первого времени, которое больше time_start\n",
    "    value = bound + tau\n",
    "    if value < arr[0]: return -1\n",
    "    if value > arr[-1]: return len(arr)-1\n",
    "    lo = 0\n",
    "    hi = len(arr)-1\n",
    "    \n",
    "    while (lo <= hi):\n",
    "        mid = (hi + lo) // 2;\n",
    "        if value < arr[mid]:\n",
    "            hi = mid - 1\n",
    "        elif value > arr[mid]:\n",
    "            lo = mid + 1\n",
    "        else:\n",
    "            return mid\n",
    "    \n",
    "    return lo"
   ]
  },
  {
   "cell_type": "code",
   "execution_count": null,
   "metadata": {
    "id": "Pd4V3RyGnPFq"
   },
   "outputs": [],
   "source": [
    "varX = np.var(centered_mp_increments_USD)\n",
    "varY = np.var(centered_mp_increments_EUR)"
   ]
  },
  {
   "cell_type": "code",
   "execution_count": null,
   "metadata": {
    "id": "Pd4V3RyGnPFq"
   },
   "outputs": [],
   "source": [
    "print(varX, varY)"
   ]
  },
  {
   "cell_type": "code",
   "execution_count": null,
   "metadata": {
    "id": "Pd4V3RyGnPFq",
    "scrolled": false
   },
   "outputs": [],
   "source": [
    "maxCorr = 0\n",
    "bestTau = -5001\n",
    "output_file = []\n",
    "\n",
    "for tau in range(-5000,5100,100):\n",
    "    print('Processing tau: ', tau)\n",
    "    \n",
    "    cov = 0\n",
    "    n = 0\n",
    "    \n",
    "    for i in range(size_USD - 1):\n",
    "        time_start = timestamps_USD[i]\n",
    "        time_end = timestamps_USD[i + 1]\n",
    "        \n",
    "        i_first = find_first(timestamps_EUR, time_start, tau)\n",
    "        i_last = find_last(timestamps_EUR, time_end, tau)\n",
    "        \n",
    "        if i_first == -1 or i_last == -1:\n",
    "            continue\n",
    "        \n",
    "        for j in range (i_first, i_last + 1):\n",
    "            cov += centered_mp_increments_USD[i] * centered_mp_increments_EUR[j]\n",
    "            n += 1\n",
    "    \n",
    "    corr = (1 / (n - 1)) * cov / ((varX * varY)**(0.5))\n",
    "    result = f'{tau}: {corr}'\n",
    "    output_file.append(result)\n",
    "    \n",
    "    # print('Covariance: ', cov)\n",
    "    print('Correlation: ', corr)\n",
    "    \n",
    "    if corr > maxCorr:\n",
    "        maxCorr = corr\n",
    "        bestTau = tau"
   ]
  },
  {
   "cell_type": "code",
   "execution_count": null,
   "metadata": {
    "id": "Pd4V3RyGnPFq"
   },
   "outputs": [],
   "source": [
    "output_file.append(f'Tau: {bestTau}')\n",
    "\n",
    "if bestTau > 0:\n",
    "    output_file.append('USD000UTSTOM is leading')\n",
    "else:\n",
    "    output_file.append('EUR_RUB__TOM is leading')\n",
    "    \n",
    "pd.DataFrame(output_file).to_csv(\"task7.csv\")"
   ]
  },
  {
   "cell_type": "code",
   "execution_count": null,
   "metadata": {},
   "outputs": [],
   "source": []
  }
 ],
 "metadata": {
  "colab": {
   "collapsed_sections": [],
   "name": "task7_Rufina.ipynb",
   "provenance": []
  },
  "kernelspec": {
   "display_name": "Python 3",
   "language": "python",
   "name": "python3"
  },
  "language_info": {
   "codemirror_mode": {
    "name": "ipython",
    "version": 3
   },
   "file_extension": ".py",
   "mimetype": "text/x-python",
   "name": "python",
   "nbconvert_exporter": "python",
   "pygments_lexer": "ipython3",
   "version": "3.7.3"
  }
 },
 "nbformat": 4,
 "nbformat_minor": 1
}
